{
 "cells": [
  {
   "cell_type": "code",
   "execution_count": 1,
   "id": "treated-skirt",
   "metadata": {
    "scrolled": true
   },
   "outputs": [
    {
     "name": "stdout",
     "output_type": "stream",
     "text": [
      "Training: 2004-01-01 ~ 2005-01-01 Testing: 2005-01-01 ~ 2005-07-01\n",
      "Training: 2004-02-01 ~ 2005-02-01 Testing: 2005-02-01 ~ 2005-08-01\n",
      "Training: 2004-03-01 ~ 2005-03-01 Testing: 2005-03-01 ~ 2005-09-01\n",
      "Training: 2004-04-01 ~ 2005-04-01 Testing: 2005-04-01 ~ 2005-10-01\n",
      "Training: 2004-05-01 ~ 2005-05-01 Testing: 2005-05-01 ~ 2005-11-01\n"
     ]
    }
   ],
   "source": [
    "import os\n",
    "import pandas as pd\n",
    "import numpy as np\n",
    "import matplotlib.pyplot as plt\n",
    "from h_strategy import HConstruction\n",
    "from h_strategy import HSelection\n",
    "\n",
    "# Getting the date of the first day of each quarter\n",
    "dates = pd.date_range(\"2004-01-01\", \"2024-06-28\", freq = \"MS\")\n",
    "\n",
    "# Setting parameters for getting training and testing intervals\n",
    "interval = 12\n",
    "overlap = 6\n",
    "\n",
    "train_date = []\n",
    "test_date = []\n",
    "\n",
    "# Determining training and testing intervals\n",
    "i = 0\n",
    "while i < len(dates) - interval - overlap:\n",
    "    trd = (dates[i].date(), dates[i + interval].date())\n",
    "    tsd = (dates[i + interval].date(), dates[i + interval + overlap].date())\n",
    "    train_date.append(trd)\n",
    "    test_date.append(tsd)\n",
    "    i += 1\n",
    "    \n",
    "# Printing out some of the training and testing intervals\n",
    "for train, test in zip(train_date[:5], test_date[:5]):\n",
    "    print(\"Training:\", train[0], \"~\", train[1], \"Testing:\", test[0], \"~\", test[1])\n",
    "\n",
    "# Getting data path\n",
    "root_path = os.path.abspath(os.path.join(os.getcwd(), os.pardir))\n",
    "path_1 = os.path.join(root_path, \"test\", \"A_All_Components.xlsx\")\n",
    "path_2 = os.path.join(root_path, \"test\", \"A_All_With_Interpolation.xlsx\")"
   ]
  },
  {
   "cell_type": "code",
   "execution_count": 2,
   "id": "horizontal-service",
   "metadata": {
    "scrolled": true
   },
   "outputs": [],
   "source": [
    "# Reading data\n",
    "components = pd.read_excel(path_1, index_col=0)\n",
    "components = components.apply(lambda col: col.map(lambda x: f\"{int(x):06}\" if pd.notnull(x) else x))\n",
    "data_df = pd.read_excel(path_2, index_col = 0)\n",
    "data_df.index = pd.to_datetime(data_df.index)\n",
    "tickers_with_data = list(data_df.columns)"
   ]
  },
  {
   "cell_type": "code",
   "execution_count": 3,
   "id": "confused-former",
   "metadata": {},
   "outputs": [],
   "source": [
    "def cal_daily_returns(price_series, position):\n",
    "    returns = price_series.pct_change().dropna()\n",
    "    daily_returns = position * returns\n",
    "    return daily_returns"
   ]
  },
  {
   "cell_type": "code",
   "execution_count": null,
   "id": "ceramic-possibility",
   "metadata": {
    "scrolled": true
   },
   "outputs": [
    {
     "name": "stderr",
     "output_type": "stream",
     "text": [
      "100%|████████████████████████████████████| 45753/45753 [01:58<00:00, 386.69it/s]\n"
     ]
    },
    {
     "name": "stdout",
     "output_type": "stream",
     "text": [
      "Training: 2004-01-01 ~ 2005-01-01\n",
      "Testing: 2005-01-01 ~ 2005-07-01\n"
     ]
    },
    {
     "name": "stderr",
     "output_type": "stream",
     "text": [
      "/var/folders/sb/9q1ddjrs1w7d9wbnz1gsd2_c0000gn/T/ipykernel_29629/1592625662.py:105: FutureWarning: The behavior of array concatenation with empty entries is deprecated. In a future version, this will no longer exclude empty items when determining the result dtype. To retain the old behavior, exclude the empty entries before the concat operation.\n",
      "  total_returns = pd.concat([total_returns, pairs_returns])\n",
      "/var/folders/sb/9q1ddjrs1w7d9wbnz1gsd2_c0000gn/T/ipykernel_29629/1592625662.py:106: FutureWarning: The behavior of array concatenation with empty entries is deprecated. In a future version, this will no longer exclude empty items when determining the result dtype. To retain the old behavior, exclude the empty entries before the concat operation.\n",
      "  total_returns_with_costs = pd.concat([total_returns_with_costs, pairs_returns_with_costs])\n",
      "100%|████████████████████████████████████| 45753/45753 [02:16<00:00, 334.71it/s]\n"
     ]
    },
    {
     "name": "stdout",
     "output_type": "stream",
     "text": [
      "Training: 2004-02-01 ~ 2005-02-01\n",
      "Testing: 2005-02-01 ~ 2005-08-01\n"
     ]
    },
    {
     "name": "stderr",
     "output_type": "stream",
     "text": [
      "100%|████████████████████████████████████| 45753/45753 [02:16<00:00, 334.66it/s]\n"
     ]
    },
    {
     "name": "stdout",
     "output_type": "stream",
     "text": [
      "Training: 2004-03-01 ~ 2005-03-01\n",
      "Testing: 2005-03-01 ~ 2005-09-01\n"
     ]
    },
    {
     "name": "stderr",
     "output_type": "stream",
     "text": [
      "100%|████████████████████████████████████| 45753/45753 [02:07<00:00, 359.57it/s]\n"
     ]
    },
    {
     "name": "stdout",
     "output_type": "stream",
     "text": [
      "Training: 2004-04-01 ~ 2005-04-01\n",
      "Testing: 2005-04-01 ~ 2005-10-01\n"
     ]
    },
    {
     "name": "stderr",
     "output_type": "stream",
     "text": [
      "100%|████████████████████████████████████| 45753/45753 [02:21<00:00, 323.17it/s]\n"
     ]
    },
    {
     "name": "stdout",
     "output_type": "stream",
     "text": [
      "Training: 2004-05-01 ~ 2005-05-01\n",
      "Testing: 2005-05-01 ~ 2005-11-01\n"
     ]
    },
    {
     "name": "stderr",
     "output_type": "stream",
     "text": [
      "100%|████████████████████████████████████| 45753/45753 [02:25<00:00, 315.48it/s]\n"
     ]
    },
    {
     "name": "stdout",
     "output_type": "stream",
     "text": [
      "Training: 2004-06-01 ~ 2005-06-01\n",
      "Testing: 2005-06-01 ~ 2005-12-01\n"
     ]
    },
    {
     "name": "stderr",
     "output_type": "stream",
     "text": [
      "100%|████████████████████████████████████| 45753/45753 [02:31<00:00, 302.51it/s]\n"
     ]
    },
    {
     "name": "stdout",
     "output_type": "stream",
     "text": [
      "Training: 2004-07-01 ~ 2005-07-01\n",
      "Testing: 2005-07-01 ~ 2006-01-01\n"
     ]
    },
    {
     "name": "stderr",
     "output_type": "stream",
     "text": [
      "100%|████████████████████████████████████| 45753/45753 [02:48<00:00, 271.33it/s]\n"
     ]
    },
    {
     "name": "stdout",
     "output_type": "stream",
     "text": [
      "Training: 2004-08-01 ~ 2005-08-01\n",
      "Testing: 2005-08-01 ~ 2006-02-01\n"
     ]
    },
    {
     "name": "stderr",
     "output_type": "stream",
     "text": [
      "100%|████████████████████████████████████| 45753/45753 [02:45<00:00, 275.90it/s]\n"
     ]
    },
    {
     "name": "stdout",
     "output_type": "stream",
     "text": [
      "Training: 2004-09-01 ~ 2005-09-01\n",
      "Testing: 2005-09-01 ~ 2006-03-01\n"
     ]
    },
    {
     "name": "stderr",
     "output_type": "stream",
     "text": [
      "100%|████████████████████████████████████| 45753/45753 [02:36<00:00, 291.93it/s]\n"
     ]
    },
    {
     "name": "stdout",
     "output_type": "stream",
     "text": [
      "Training: 2004-10-01 ~ 2005-10-01\n",
      "Testing: 2005-10-01 ~ 2006-04-01\n"
     ]
    },
    {
     "name": "stderr",
     "output_type": "stream",
     "text": [
      "100%|████████████████████████████████████| 45753/45753 [03:18<00:00, 230.55it/s]\n"
     ]
    },
    {
     "name": "stdout",
     "output_type": "stream",
     "text": [
      "Training: 2004-11-01 ~ 2005-11-01\n",
      "Testing: 2005-11-01 ~ 2006-05-01\n"
     ]
    },
    {
     "name": "stderr",
     "output_type": "stream",
     "text": [
      "100%|████████████████████████████████████| 45753/45753 [02:53<00:00, 264.10it/s]\n"
     ]
    },
    {
     "name": "stdout",
     "output_type": "stream",
     "text": [
      "Training: 2004-12-01 ~ 2005-12-01\n",
      "Testing: 2005-12-01 ~ 2006-06-01\n"
     ]
    },
    {
     "name": "stderr",
     "output_type": "stream",
     "text": [
      "100%|████████████████████████████████████| 45753/45753 [02:37<00:00, 290.58it/s]\n"
     ]
    },
    {
     "name": "stdout",
     "output_type": "stream",
     "text": [
      "Training: 2005-01-01 ~ 2006-01-01\n",
      "Testing: 2006-01-01 ~ 2006-07-01\n"
     ]
    },
    {
     "name": "stderr",
     "output_type": "stream",
     "text": [
      "100%|████████████████████████████████████| 45753/45753 [02:31<00:00, 302.71it/s]\n"
     ]
    },
    {
     "name": "stdout",
     "output_type": "stream",
     "text": [
      "Training: 2005-02-01 ~ 2006-02-01\n",
      "Testing: 2006-02-01 ~ 2006-08-01\n"
     ]
    },
    {
     "name": "stderr",
     "output_type": "stream",
     "text": [
      "100%|████████████████████████████████████| 45753/45753 [02:21<00:00, 323.01it/s]\n"
     ]
    },
    {
     "name": "stdout",
     "output_type": "stream",
     "text": [
      "Training: 2005-03-01 ~ 2006-03-01\n",
      "Testing: 2006-03-01 ~ 2006-09-01\n"
     ]
    },
    {
     "name": "stderr",
     "output_type": "stream",
     "text": [
      "100%|████████████████████████████████████| 45753/45753 [02:09<00:00, 354.26it/s]\n"
     ]
    },
    {
     "name": "stdout",
     "output_type": "stream",
     "text": [
      "Training: 2005-04-01 ~ 2006-04-01\n",
      "Testing: 2006-04-01 ~ 2006-10-01\n"
     ]
    },
    {
     "name": "stderr",
     "output_type": "stream",
     "text": [
      "100%|████████████████████████████████████| 45753/45753 [02:17<00:00, 331.75it/s]\n"
     ]
    },
    {
     "name": "stdout",
     "output_type": "stream",
     "text": [
      "Training: 2005-05-01 ~ 2006-05-01\n",
      "Testing: 2006-05-01 ~ 2006-11-01\n"
     ]
    },
    {
     "name": "stderr",
     "output_type": "stream",
     "text": [
      "100%|████████████████████████████████████| 45753/45753 [02:25<00:00, 314.04it/s]\n"
     ]
    },
    {
     "name": "stdout",
     "output_type": "stream",
     "text": [
      "Training: 2005-06-01 ~ 2006-06-01\n",
      "Testing: 2006-06-01 ~ 2006-12-01\n"
     ]
    },
    {
     "name": "stderr",
     "output_type": "stream",
     "text": [
      "100%|████████████████████████████████████| 45753/45753 [02:24<00:00, 315.90it/s]\n"
     ]
    },
    {
     "name": "stdout",
     "output_type": "stream",
     "text": [
      "Training: 2005-07-01 ~ 2006-07-01\n",
      "Testing: 2006-07-01 ~ 2007-01-01\n"
     ]
    },
    {
     "name": "stderr",
     "output_type": "stream",
     "text": [
      "100%|████████████████████████████████████| 45753/45753 [02:37<00:00, 291.37it/s]\n"
     ]
    },
    {
     "name": "stdout",
     "output_type": "stream",
     "text": [
      "Training: 2005-08-01 ~ 2006-08-01\n",
      "Testing: 2006-08-01 ~ 2007-02-01\n"
     ]
    },
    {
     "name": "stderr",
     "output_type": "stream",
     "text": [
      "100%|████████████████████████████████████| 45753/45753 [02:49<00:00, 269.32it/s]\n"
     ]
    },
    {
     "name": "stdout",
     "output_type": "stream",
     "text": [
      "Training: 2005-09-01 ~ 2006-09-01\n",
      "Testing: 2006-09-01 ~ 2007-03-01\n"
     ]
    },
    {
     "name": "stderr",
     "output_type": "stream",
     "text": [
      "100%|████████████████████████████████████| 45753/45753 [02:43<00:00, 279.89it/s]\n"
     ]
    },
    {
     "name": "stdout",
     "output_type": "stream",
     "text": [
      "Training: 2005-10-01 ~ 2006-10-01\n",
      "Testing: 2006-10-01 ~ 2007-04-01\n"
     ]
    },
    {
     "name": "stderr",
     "output_type": "stream",
     "text": [
      "100%|████████████████████████████████████| 45753/45753 [02:59<00:00, 255.25it/s]\n"
     ]
    },
    {
     "name": "stdout",
     "output_type": "stream",
     "text": [
      "Training: 2005-11-01 ~ 2006-11-01\n",
      "Testing: 2006-11-01 ~ 2007-05-01\n"
     ]
    },
    {
     "name": "stderr",
     "output_type": "stream",
     "text": [
      "100%|████████████████████████████████████| 45753/45753 [02:52<00:00, 264.62it/s]\n"
     ]
    },
    {
     "name": "stdout",
     "output_type": "stream",
     "text": [
      "Training: 2005-12-01 ~ 2006-12-01\n",
      "Testing: 2006-12-01 ~ 2007-06-01\n"
     ]
    },
    {
     "name": "stderr",
     "output_type": "stream",
     "text": [
      "100%|████████████████████████████████████| 45753/45753 [02:37<00:00, 291.16it/s]\n"
     ]
    },
    {
     "name": "stdout",
     "output_type": "stream",
     "text": [
      "Training: 2006-01-01 ~ 2007-01-01\n",
      "Testing: 2007-01-01 ~ 2007-07-01\n"
     ]
    },
    {
     "name": "stderr",
     "output_type": "stream",
     "text": [
      "100%|████████████████████████████████████| 45753/45753 [02:35<00:00, 293.42it/s]\n"
     ]
    },
    {
     "name": "stdout",
     "output_type": "stream",
     "text": [
      "Training: 2006-02-01 ~ 2007-02-01\n",
      "Testing: 2007-02-01 ~ 2007-08-01\n"
     ]
    },
    {
     "name": "stderr",
     "output_type": "stream",
     "text": [
      "100%|████████████████████████████████████| 45753/45753 [02:30<00:00, 303.35it/s]\n"
     ]
    },
    {
     "name": "stdout",
     "output_type": "stream",
     "text": [
      "Training: 2006-03-01 ~ 2007-03-01\n",
      "Testing: 2007-03-01 ~ 2007-09-01\n"
     ]
    },
    {
     "name": "stderr",
     "output_type": "stream",
     "text": [
      "100%|████████████████████████████████████| 45753/45753 [02:08<00:00, 356.61it/s]\n"
     ]
    },
    {
     "name": "stdout",
     "output_type": "stream",
     "text": [
      "Training: 2006-04-01 ~ 2007-04-01\n",
      "Testing: 2007-04-01 ~ 2007-10-01\n"
     ]
    },
    {
     "name": "stderr",
     "output_type": "stream",
     "text": [
      "100%|████████████████████████████████████| 45753/45753 [02:02<00:00, 372.48it/s]\n"
     ]
    },
    {
     "name": "stdout",
     "output_type": "stream",
     "text": [
      "Training: 2006-05-01 ~ 2007-05-01\n",
      "Testing: 2007-05-01 ~ 2007-11-01\n"
     ]
    },
    {
     "name": "stderr",
     "output_type": "stream",
     "text": [
      "100%|████████████████████████████████████| 45753/45753 [02:28<00:00, 307.68it/s]\n"
     ]
    },
    {
     "name": "stdout",
     "output_type": "stream",
     "text": [
      "Training: 2006-06-01 ~ 2007-06-01\n",
      "Testing: 2007-06-01 ~ 2007-12-01\n"
     ]
    },
    {
     "name": "stderr",
     "output_type": "stream",
     "text": [
      "100%|████████████████████████████████████| 45753/45753 [02:49<00:00, 270.27it/s]\n"
     ]
    },
    {
     "name": "stdout",
     "output_type": "stream",
     "text": [
      "Training: 2006-07-01 ~ 2007-07-01\n",
      "Testing: 2007-07-01 ~ 2008-01-01\n"
     ]
    },
    {
     "name": "stderr",
     "output_type": "stream",
     "text": [
      "100%|████████████████████████████████████| 45753/45753 [03:07<00:00, 243.92it/s]\n"
     ]
    },
    {
     "name": "stdout",
     "output_type": "stream",
     "text": [
      "Training: 2006-08-01 ~ 2007-08-01\n",
      "Testing: 2007-08-01 ~ 2008-02-01\n"
     ]
    },
    {
     "name": "stderr",
     "output_type": "stream",
     "text": [
      "100%|████████████████████████████████████| 45753/45753 [03:06<00:00, 244.80it/s]\n"
     ]
    },
    {
     "name": "stdout",
     "output_type": "stream",
     "text": [
      "Training: 2006-09-01 ~ 2007-09-01\n",
      "Testing: 2007-09-01 ~ 2008-03-01\n"
     ]
    },
    {
     "name": "stderr",
     "output_type": "stream",
     "text": [
      "100%|████████████████████████████████████| 45753/45753 [02:52<00:00, 265.47it/s]\n"
     ]
    },
    {
     "name": "stdout",
     "output_type": "stream",
     "text": [
      "Training: 2006-10-01 ~ 2007-10-01\n",
      "Testing: 2007-10-01 ~ 2008-04-01\n"
     ]
    },
    {
     "name": "stderr",
     "output_type": "stream",
     "text": [
      "100%|████████████████████████████████████| 45753/45753 [02:42<00:00, 282.27it/s]\n"
     ]
    },
    {
     "name": "stdout",
     "output_type": "stream",
     "text": [
      "Training: 2006-11-01 ~ 2007-11-01\n",
      "Testing: 2007-11-01 ~ 2008-05-01\n"
     ]
    },
    {
     "name": "stderr",
     "output_type": "stream",
     "text": [
      "100%|████████████████████████████████████| 45753/45753 [02:11<00:00, 347.85it/s]\n"
     ]
    },
    {
     "name": "stdout",
     "output_type": "stream",
     "text": [
      "Training: 2006-12-01 ~ 2007-12-01\n",
      "Testing: 2007-12-01 ~ 2008-06-01\n"
     ]
    },
    {
     "name": "stderr",
     "output_type": "stream",
     "text": [
      "100%|████████████████████████████████████| 45753/45753 [01:56<00:00, 393.61it/s]\n"
     ]
    },
    {
     "name": "stdout",
     "output_type": "stream",
     "text": [
      "Training: 2007-01-01 ~ 2008-01-01\n",
      "Testing: 2008-01-01 ~ 2008-07-01\n"
     ]
    },
    {
     "name": "stderr",
     "output_type": "stream",
     "text": [
      "100%|████████████████████████████████████| 45753/45753 [01:58<00:00, 386.31it/s]\n"
     ]
    },
    {
     "name": "stdout",
     "output_type": "stream",
     "text": [
      "Training: 2007-02-01 ~ 2008-02-01\n",
      "Testing: 2008-02-01 ~ 2008-08-01\n"
     ]
    },
    {
     "name": "stderr",
     "output_type": "stream",
     "text": [
      "100%|████████████████████████████████████| 45753/45753 [02:02<00:00, 374.05it/s]\n"
     ]
    },
    {
     "name": "stdout",
     "output_type": "stream",
     "text": [
      "Training: 2007-03-01 ~ 2008-03-01\n",
      "Testing: 2008-03-01 ~ 2008-09-01\n"
     ]
    },
    {
     "name": "stderr",
     "output_type": "stream",
     "text": [
      "100%|████████████████████████████████████| 45753/45753 [01:55<00:00, 395.91it/s]\n"
     ]
    },
    {
     "name": "stdout",
     "output_type": "stream",
     "text": [
      "Training: 2007-04-01 ~ 2008-04-01\n",
      "Testing: 2008-04-01 ~ 2008-10-01\n"
     ]
    },
    {
     "name": "stderr",
     "output_type": "stream",
     "text": [
      "100%|████████████████████████████████████| 45753/45753 [01:48<00:00, 423.20it/s]\n"
     ]
    },
    {
     "name": "stdout",
     "output_type": "stream",
     "text": [
      "Training: 2007-05-01 ~ 2008-05-01\n",
      "Testing: 2008-05-01 ~ 2008-11-01\n"
     ]
    },
    {
     "name": "stderr",
     "output_type": "stream",
     "text": [
      "100%|████████████████████████████████████| 45753/45753 [01:51<00:00, 409.63it/s]\n"
     ]
    },
    {
     "name": "stdout",
     "output_type": "stream",
     "text": [
      "Training: 2007-06-01 ~ 2008-06-01\n",
      "Testing: 2008-06-01 ~ 2008-12-01\n"
     ]
    },
    {
     "name": "stderr",
     "output_type": "stream",
     "text": [
      "100%|████████████████████████████████████| 45753/45753 [02:05<00:00, 363.96it/s]\n"
     ]
    },
    {
     "name": "stdout",
     "output_type": "stream",
     "text": [
      "Training: 2007-07-01 ~ 2008-07-01\n",
      "Testing: 2008-07-01 ~ 2009-01-01\n"
     ]
    },
    {
     "name": "stderr",
     "output_type": "stream",
     "text": [
      "100%|████████████████████████████████████| 45753/45753 [02:01<00:00, 377.28it/s]\n"
     ]
    },
    {
     "name": "stdout",
     "output_type": "stream",
     "text": [
      "Training: 2007-08-01 ~ 2008-08-01\n",
      "Testing: 2008-08-01 ~ 2009-02-01\n"
     ]
    },
    {
     "name": "stderr",
     "output_type": "stream",
     "text": [
      "100%|████████████████████████████████████| 45753/45753 [02:00<00:00, 378.18it/s]\n"
     ]
    },
    {
     "name": "stdout",
     "output_type": "stream",
     "text": [
      "Training: 2007-09-01 ~ 2008-09-01\n",
      "Testing: 2008-09-01 ~ 2009-03-01\n"
     ]
    },
    {
     "name": "stderr",
     "output_type": "stream",
     "text": [
      "100%|████████████████████████████████████| 45753/45753 [02:02<00:00, 374.75it/s]\n"
     ]
    },
    {
     "name": "stdout",
     "output_type": "stream",
     "text": [
      "Training: 2007-10-01 ~ 2008-10-01\n",
      "Testing: 2008-10-01 ~ 2009-04-01\n"
     ]
    },
    {
     "name": "stderr",
     "output_type": "stream",
     "text": [
      "100%|████████████████████████████████████| 45753/45753 [02:20<00:00, 325.22it/s]\n"
     ]
    },
    {
     "name": "stdout",
     "output_type": "stream",
     "text": [
      "Training: 2007-11-01 ~ 2008-11-01\n",
      "Testing: 2008-11-01 ~ 2009-05-01\n"
     ]
    },
    {
     "name": "stderr",
     "output_type": "stream",
     "text": [
      "100%|████████████████████████████████████| 45753/45753 [02:28<00:00, 308.61it/s]\n"
     ]
    },
    {
     "name": "stdout",
     "output_type": "stream",
     "text": [
      "Training: 2007-12-01 ~ 2008-12-01\n",
      "Testing: 2008-12-01 ~ 2009-06-01\n"
     ]
    },
    {
     "name": "stderr",
     "output_type": "stream",
     "text": [
      "100%|████████████████████████████████████| 45753/45753 [02:10<00:00, 349.60it/s]\n"
     ]
    },
    {
     "name": "stdout",
     "output_type": "stream",
     "text": [
      "Training: 2008-01-01 ~ 2009-01-01\n",
      "Testing: 2009-01-01 ~ 2009-07-01\n"
     ]
    },
    {
     "name": "stderr",
     "output_type": "stream",
     "text": [
      "100%|████████████████████████████████████| 45753/45753 [02:06<00:00, 361.43it/s]\n"
     ]
    },
    {
     "name": "stdout",
     "output_type": "stream",
     "text": [
      "Training: 2008-02-01 ~ 2009-02-01\n",
      "Testing: 2009-02-01 ~ 2009-08-01\n"
     ]
    },
    {
     "name": "stderr",
     "output_type": "stream",
     "text": [
      "100%|████████████████████████████████████| 45753/45753 [01:59<00:00, 381.73it/s]\n"
     ]
    },
    {
     "name": "stdout",
     "output_type": "stream",
     "text": [
      "Training: 2008-03-01 ~ 2009-03-01\n",
      "Testing: 2009-03-01 ~ 2009-09-01\n"
     ]
    },
    {
     "name": "stderr",
     "output_type": "stream",
     "text": [
      "100%|████████████████████████████████████| 45753/45753 [01:55<00:00, 396.55it/s]\n"
     ]
    },
    {
     "name": "stdout",
     "output_type": "stream",
     "text": [
      "Training: 2008-04-01 ~ 2009-04-01\n",
      "Testing: 2009-04-01 ~ 2009-10-01\n"
     ]
    },
    {
     "name": "stderr",
     "output_type": "stream",
     "text": [
      "100%|████████████████████████████████████| 45753/45753 [01:55<00:00, 394.49it/s]\n"
     ]
    },
    {
     "name": "stdout",
     "output_type": "stream",
     "text": [
      "Training: 2008-05-01 ~ 2009-05-01\n",
      "Testing: 2009-05-01 ~ 2009-11-01\n"
     ]
    },
    {
     "name": "stderr",
     "output_type": "stream",
     "text": [
      "100%|████████████████████████████████████| 45753/45753 [01:53<00:00, 401.92it/s]\n"
     ]
    },
    {
     "name": "stdout",
     "output_type": "stream",
     "text": [
      "Training: 2008-06-01 ~ 2009-06-01\n",
      "Testing: 2009-06-01 ~ 2009-12-01\n"
     ]
    },
    {
     "name": "stderr",
     "output_type": "stream",
     "text": [
      "100%|████████████████████████████████████| 45753/45753 [02:02<00:00, 372.18it/s]\n"
     ]
    },
    {
     "name": "stdout",
     "output_type": "stream",
     "text": [
      "Training: 2008-07-01 ~ 2009-07-01\n",
      "Testing: 2009-07-01 ~ 2010-01-01\n"
     ]
    },
    {
     "name": "stderr",
     "output_type": "stream",
     "text": [
      "100%|████████████████████████████████████| 45753/45753 [01:49<00:00, 416.37it/s]\n"
     ]
    },
    {
     "name": "stdout",
     "output_type": "stream",
     "text": [
      "Training: 2008-08-01 ~ 2009-08-01\n",
      "Testing: 2009-08-01 ~ 2010-02-01\n"
     ]
    },
    {
     "name": "stderr",
     "output_type": "stream",
     "text": [
      "100%|████████████████████████████████████| 45753/45753 [01:49<00:00, 415.94it/s]\n"
     ]
    },
    {
     "name": "stdout",
     "output_type": "stream",
     "text": [
      "Training: 2008-09-01 ~ 2009-09-01\n",
      "Testing: 2009-09-01 ~ 2010-03-01\n"
     ]
    },
    {
     "name": "stderr",
     "output_type": "stream",
     "text": [
      "100%|████████████████████████████████████| 45753/45753 [01:50<00:00, 415.88it/s]\n"
     ]
    },
    {
     "name": "stdout",
     "output_type": "stream",
     "text": [
      "Training: 2008-10-01 ~ 2009-10-01\n",
      "Testing: 2009-10-01 ~ 2010-04-01\n"
     ]
    },
    {
     "name": "stderr",
     "output_type": "stream",
     "text": [
      "100%|████████████████████████████████████| 45753/45753 [01:52<00:00, 405.20it/s]\n"
     ]
    },
    {
     "name": "stdout",
     "output_type": "stream",
     "text": [
      "Training: 2008-11-01 ~ 2009-11-01\n",
      "Testing: 2009-11-01 ~ 2010-05-01\n"
     ]
    },
    {
     "name": "stderr",
     "output_type": "stream",
     "text": [
      "100%|████████████████████████████████████| 45753/45753 [01:59<00:00, 382.24it/s]\n"
     ]
    },
    {
     "name": "stdout",
     "output_type": "stream",
     "text": [
      "Training: 2008-12-01 ~ 2009-12-01\n",
      "Testing: 2009-12-01 ~ 2010-06-01\n"
     ]
    },
    {
     "name": "stderr",
     "output_type": "stream",
     "text": [
      "100%|████████████████████████████████████| 45753/45753 [01:55<00:00, 396.62it/s]\n"
     ]
    },
    {
     "name": "stdout",
     "output_type": "stream",
     "text": [
      "Training: 2009-01-01 ~ 2010-01-01\n",
      "Testing: 2010-01-01 ~ 2010-07-01\n"
     ]
    },
    {
     "name": "stderr",
     "output_type": "stream",
     "text": [
      "100%|████████████████████████████████████| 45753/45753 [01:50<00:00, 414.05it/s]\n"
     ]
    },
    {
     "name": "stdout",
     "output_type": "stream",
     "text": [
      "Training: 2009-02-01 ~ 2010-02-01\n",
      "Testing: 2010-02-01 ~ 2010-08-01\n"
     ]
    },
    {
     "name": "stderr",
     "output_type": "stream",
     "text": [
      "100%|████████████████████████████████████| 45753/45753 [01:56<00:00, 392.06it/s]\n"
     ]
    },
    {
     "name": "stdout",
     "output_type": "stream",
     "text": [
      "Training: 2009-03-01 ~ 2010-03-01\n",
      "Testing: 2010-03-01 ~ 2010-09-01\n"
     ]
    },
    {
     "name": "stderr",
     "output_type": "stream",
     "text": [
      "100%|████████████████████████████████████| 45753/45753 [01:53<00:00, 402.48it/s]\n"
     ]
    },
    {
     "name": "stdout",
     "output_type": "stream",
     "text": [
      "Training: 2009-04-01 ~ 2010-04-01\n",
      "Testing: 2010-04-01 ~ 2010-10-01\n"
     ]
    },
    {
     "name": "stderr",
     "output_type": "stream",
     "text": [
      "100%|████████████████████████████████████| 45753/45753 [02:01<00:00, 375.21it/s]\n"
     ]
    },
    {
     "name": "stdout",
     "output_type": "stream",
     "text": [
      "Training: 2009-05-01 ~ 2010-05-01\n",
      "Testing: 2010-05-01 ~ 2010-11-01\n"
     ]
    },
    {
     "name": "stderr",
     "output_type": "stream",
     "text": [
      "100%|████████████████████████████████████| 45753/45753 [02:08<00:00, 357.33it/s]\n"
     ]
    },
    {
     "name": "stdout",
     "output_type": "stream",
     "text": [
      "Training: 2009-06-01 ~ 2010-06-01\n",
      "Testing: 2010-06-01 ~ 2010-12-01\n"
     ]
    },
    {
     "name": "stderr",
     "output_type": "stream",
     "text": [
      "100%|████████████████████████████████████| 45753/45753 [02:05<00:00, 363.22it/s]\n"
     ]
    },
    {
     "name": "stdout",
     "output_type": "stream",
     "text": [
      "Training: 2009-07-01 ~ 2010-07-01\n",
      "Testing: 2010-07-01 ~ 2011-01-01\n"
     ]
    },
    {
     "name": "stderr",
     "output_type": "stream",
     "text": [
      "100%|████████████████████████████████████| 45753/45753 [02:00<00:00, 380.78it/s]\n"
     ]
    },
    {
     "name": "stdout",
     "output_type": "stream",
     "text": [
      "Training: 2009-08-01 ~ 2010-08-01\n",
      "Testing: 2010-08-01 ~ 2011-02-01\n"
     ]
    },
    {
     "name": "stderr",
     "output_type": "stream",
     "text": [
      "100%|████████████████████████████████████| 45753/45753 [02:14<00:00, 340.93it/s]\n"
     ]
    },
    {
     "name": "stdout",
     "output_type": "stream",
     "text": [
      "Training: 2009-09-01 ~ 2010-09-01\n",
      "Testing: 2010-09-01 ~ 2011-03-01\n"
     ]
    },
    {
     "name": "stderr",
     "output_type": "stream",
     "text": [
      "100%|████████████████████████████████████| 45753/45753 [02:13<00:00, 342.67it/s]\n"
     ]
    },
    {
     "name": "stdout",
     "output_type": "stream",
     "text": [
      "Training: 2009-10-01 ~ 2010-10-01\n",
      "Testing: 2010-10-01 ~ 2011-04-01\n"
     ]
    },
    {
     "name": "stderr",
     "output_type": "stream",
     "text": [
      "100%|████████████████████████████████████| 45753/45753 [02:10<00:00, 351.07it/s]\n"
     ]
    },
    {
     "name": "stdout",
     "output_type": "stream",
     "text": [
      "Training: 2009-11-01 ~ 2010-11-01\n",
      "Testing: 2010-11-01 ~ 2011-05-01\n"
     ]
    },
    {
     "name": "stderr",
     "output_type": "stream",
     "text": [
      "100%|████████████████████████████████████| 45753/45753 [02:14<00:00, 341.11it/s]\n"
     ]
    },
    {
     "name": "stdout",
     "output_type": "stream",
     "text": [
      "Training: 2009-12-01 ~ 2010-12-01\n",
      "Testing: 2010-12-01 ~ 2011-06-01\n"
     ]
    },
    {
     "name": "stderr",
     "output_type": "stream",
     "text": [
      "100%|████████████████████████████████████| 45753/45753 [02:08<00:00, 354.84it/s]\n"
     ]
    },
    {
     "name": "stdout",
     "output_type": "stream",
     "text": [
      "Training: 2010-01-01 ~ 2011-01-01\n",
      "Testing: 2011-01-01 ~ 2011-07-01\n"
     ]
    },
    {
     "name": "stderr",
     "output_type": "stream",
     "text": [
      "100%|████████████████████████████████████| 45753/45753 [02:18<00:00, 329.28it/s]\n"
     ]
    },
    {
     "name": "stdout",
     "output_type": "stream",
     "text": [
      "Training: 2010-02-01 ~ 2011-02-01\n",
      "Testing: 2011-02-01 ~ 2011-08-01\n"
     ]
    },
    {
     "name": "stderr",
     "output_type": "stream",
     "text": [
      "100%|████████████████████████████████████| 45753/45753 [02:14<00:00, 339.74it/s]\n"
     ]
    },
    {
     "name": "stdout",
     "output_type": "stream",
     "text": [
      "Training: 2010-03-01 ~ 2011-03-01\n",
      "Testing: 2011-03-01 ~ 2011-09-01\n"
     ]
    },
    {
     "name": "stderr",
     "output_type": "stream",
     "text": [
      "100%|████████████████████████████████████| 45753/45753 [01:56<00:00, 393.60it/s]\n"
     ]
    },
    {
     "name": "stdout",
     "output_type": "stream",
     "text": [
      "Training: 2010-04-01 ~ 2011-04-01\n",
      "Testing: 2011-04-01 ~ 2011-10-01\n"
     ]
    },
    {
     "name": "stderr",
     "output_type": "stream",
     "text": [
      "100%|████████████████████████████████████| 45753/45753 [01:58<00:00, 386.01it/s]\n"
     ]
    },
    {
     "name": "stdout",
     "output_type": "stream",
     "text": [
      "Training: 2010-05-01 ~ 2011-05-01\n",
      "Testing: 2011-05-01 ~ 2011-11-01\n"
     ]
    },
    {
     "name": "stderr",
     "output_type": "stream",
     "text": [
      "100%|████████████████████████████████████| 45753/45753 [02:09<00:00, 353.77it/s]\n"
     ]
    },
    {
     "name": "stdout",
     "output_type": "stream",
     "text": [
      "Training: 2010-06-01 ~ 2011-06-01\n",
      "Testing: 2011-06-01 ~ 2011-12-01\n"
     ]
    },
    {
     "name": "stderr",
     "output_type": "stream",
     "text": [
      "100%|████████████████████████████████████| 45753/45753 [02:13<00:00, 342.44it/s]\n"
     ]
    },
    {
     "name": "stdout",
     "output_type": "stream",
     "text": [
      "Training: 2010-07-01 ~ 2011-07-01\n",
      "Testing: 2011-07-01 ~ 2012-01-01\n"
     ]
    },
    {
     "name": "stderr",
     "output_type": "stream",
     "text": [
      "100%|████████████████████████████████████| 45753/45753 [02:04<00:00, 368.46it/s]\n"
     ]
    },
    {
     "name": "stdout",
     "output_type": "stream",
     "text": [
      "Training: 2010-08-01 ~ 2011-08-01\n",
      "Testing: 2011-08-01 ~ 2012-02-01\n"
     ]
    },
    {
     "name": "stderr",
     "output_type": "stream",
     "text": [
      "100%|████████████████████████████████████| 45753/45753 [01:51<00:00, 409.89it/s]\n"
     ]
    },
    {
     "name": "stdout",
     "output_type": "stream",
     "text": [
      "Training: 2010-09-01 ~ 2011-09-01\n",
      "Testing: 2011-09-01 ~ 2012-03-01\n"
     ]
    },
    {
     "name": "stderr",
     "output_type": "stream",
     "text": [
      "100%|████████████████████████████████████| 45753/45753 [01:39<00:00, 458.64it/s]\n"
     ]
    },
    {
     "name": "stdout",
     "output_type": "stream",
     "text": [
      "Training: 2010-10-01 ~ 2011-10-01\n",
      "Testing: 2011-10-01 ~ 2012-04-01\n"
     ]
    },
    {
     "name": "stderr",
     "output_type": "stream",
     "text": [
      "100%|████████████████████████████████████| 45753/45753 [01:43<00:00, 441.61it/s]\n"
     ]
    },
    {
     "name": "stdout",
     "output_type": "stream",
     "text": [
      "Training: 2010-11-01 ~ 2011-11-01\n",
      "Testing: 2011-11-01 ~ 2012-05-01\n"
     ]
    },
    {
     "name": "stderr",
     "output_type": "stream",
     "text": [
      "100%|████████████████████████████████████| 45753/45753 [01:59<00:00, 383.19it/s]\n"
     ]
    },
    {
     "name": "stdout",
     "output_type": "stream",
     "text": [
      "Training: 2010-12-01 ~ 2011-12-01\n",
      "Testing: 2011-12-01 ~ 2012-06-01\n"
     ]
    },
    {
     "name": "stderr",
     "output_type": "stream",
     "text": [
      "100%|████████████████████████████████████| 45753/45753 [01:58<00:00, 387.66it/s]\n"
     ]
    },
    {
     "name": "stdout",
     "output_type": "stream",
     "text": [
      "Training: 2011-01-01 ~ 2012-01-01\n",
      "Testing: 2012-01-01 ~ 2012-07-01\n"
     ]
    },
    {
     "name": "stderr",
     "output_type": "stream",
     "text": [
      "100%|████████████████████████████████████| 45753/45753 [01:58<00:00, 385.72it/s]\n"
     ]
    },
    {
     "name": "stdout",
     "output_type": "stream",
     "text": [
      "Training: 2011-02-01 ~ 2012-02-01\n",
      "Testing: 2012-02-01 ~ 2012-08-01\n"
     ]
    },
    {
     "name": "stderr",
     "output_type": "stream",
     "text": [
      "100%|████████████████████████████████████| 45753/45753 [01:58<00:00, 387.32it/s]\n"
     ]
    },
    {
     "name": "stdout",
     "output_type": "stream",
     "text": [
      "Training: 2011-03-01 ~ 2012-03-01\n",
      "Testing: 2012-03-01 ~ 2012-09-01\n"
     ]
    },
    {
     "name": "stderr",
     "output_type": "stream",
     "text": [
      "100%|████████████████████████████████████| 45753/45753 [01:56<00:00, 391.40it/s]\n"
     ]
    },
    {
     "name": "stdout",
     "output_type": "stream",
     "text": [
      "Training: 2011-04-01 ~ 2012-04-01\n",
      "Testing: 2012-04-01 ~ 2012-10-01\n"
     ]
    },
    {
     "name": "stderr",
     "output_type": "stream",
     "text": [
      "100%|████████████████████████████████████| 45753/45753 [02:00<00:00, 380.41it/s]\n"
     ]
    },
    {
     "name": "stdout",
     "output_type": "stream",
     "text": [
      "Training: 2011-05-01 ~ 2012-05-01\n",
      "Testing: 2012-05-01 ~ 2012-11-01\n"
     ]
    },
    {
     "name": "stderr",
     "output_type": "stream",
     "text": [
      "100%|████████████████████████████████████| 45753/45753 [02:07<00:00, 359.56it/s]\n"
     ]
    },
    {
     "name": "stdout",
     "output_type": "stream",
     "text": [
      "Training: 2011-06-01 ~ 2012-06-01\n",
      "Testing: 2012-06-01 ~ 2012-12-01\n"
     ]
    },
    {
     "name": "stderr",
     "output_type": "stream",
     "text": [
      "100%|████████████████████████████████████| 45753/45753 [02:03<00:00, 369.56it/s]\n"
     ]
    },
    {
     "name": "stdout",
     "output_type": "stream",
     "text": [
      "Training: 2011-07-01 ~ 2012-07-01\n",
      "Testing: 2012-07-01 ~ 2013-01-01\n"
     ]
    },
    {
     "name": "stderr",
     "output_type": "stream",
     "text": [
      "100%|████████████████████████████████████| 45753/45753 [02:04<00:00, 368.18it/s]\n"
     ]
    },
    {
     "name": "stdout",
     "output_type": "stream",
     "text": [
      "Training: 2011-08-01 ~ 2012-08-01\n",
      "Testing: 2012-08-01 ~ 2013-02-01\n"
     ]
    },
    {
     "name": "stderr",
     "output_type": "stream",
     "text": [
      "100%|████████████████████████████████████| 45753/45753 [02:08<00:00, 356.29it/s]\n"
     ]
    },
    {
     "name": "stdout",
     "output_type": "stream",
     "text": [
      "Training: 2011-09-01 ~ 2012-09-01\n",
      "Testing: 2012-09-01 ~ 2013-03-01\n"
     ]
    },
    {
     "name": "stderr",
     "output_type": "stream",
     "text": [
      "100%|████████████████████████████████████| 45753/45753 [02:06<00:00, 361.66it/s]\n"
     ]
    },
    {
     "name": "stdout",
     "output_type": "stream",
     "text": [
      "Training: 2011-10-01 ~ 2012-10-01\n",
      "Testing: 2012-10-01 ~ 2013-04-01\n"
     ]
    },
    {
     "name": "stderr",
     "output_type": "stream",
     "text": [
      "100%|████████████████████████████████████| 45753/45753 [02:07<00:00, 359.42it/s]\n"
     ]
    },
    {
     "name": "stdout",
     "output_type": "stream",
     "text": [
      "Training: 2011-11-01 ~ 2012-11-01\n",
      "Testing: 2012-11-01 ~ 2013-05-01\n"
     ]
    },
    {
     "name": "stderr",
     "output_type": "stream",
     "text": [
      "100%|████████████████████████████████████| 45753/45753 [01:57<00:00, 389.79it/s]\n"
     ]
    },
    {
     "name": "stdout",
     "output_type": "stream",
     "text": [
      "Training: 2011-12-01 ~ 2012-12-01\n",
      "Testing: 2012-12-01 ~ 2013-06-01\n"
     ]
    },
    {
     "name": "stderr",
     "output_type": "stream",
     "text": [
      "100%|████████████████████████████████████| 45753/45753 [02:04<00:00, 368.35it/s]\n"
     ]
    },
    {
     "name": "stdout",
     "output_type": "stream",
     "text": [
      "Training: 2012-01-01 ~ 2013-01-01\n",
      "Testing: 2013-01-01 ~ 2013-07-01\n"
     ]
    },
    {
     "name": "stderr",
     "output_type": "stream",
     "text": [
      "100%|████████████████████████████████████| 45753/45753 [02:16<00:00, 335.74it/s]\n"
     ]
    },
    {
     "name": "stdout",
     "output_type": "stream",
     "text": [
      "Training: 2012-02-01 ~ 2013-02-01\n",
      "Testing: 2013-02-01 ~ 2013-08-01\n"
     ]
    },
    {
     "name": "stderr",
     "output_type": "stream",
     "text": [
      "100%|████████████████████████████████████| 45753/45753 [02:01<00:00, 376.16it/s]\n"
     ]
    },
    {
     "name": "stdout",
     "output_type": "stream",
     "text": [
      "Training: 2012-03-01 ~ 2013-03-01\n",
      "Testing: 2013-03-01 ~ 2013-09-01\n"
     ]
    },
    {
     "name": "stderr",
     "output_type": "stream",
     "text": [
      "100%|████████████████████████████████████| 45753/45753 [02:02<00:00, 372.31it/s]\n"
     ]
    },
    {
     "name": "stdout",
     "output_type": "stream",
     "text": [
      "Training: 2012-04-01 ~ 2013-04-01\n",
      "Testing: 2013-04-01 ~ 2013-10-01\n"
     ]
    },
    {
     "name": "stderr",
     "output_type": "stream",
     "text": [
      "100%|████████████████████████████████████| 45753/45753 [02:08<00:00, 357.29it/s]\n"
     ]
    },
    {
     "name": "stdout",
     "output_type": "stream",
     "text": [
      "Training: 2012-05-01 ~ 2013-05-01\n",
      "Testing: 2013-05-01 ~ 2013-11-01\n"
     ]
    },
    {
     "name": "stderr",
     "output_type": "stream",
     "text": [
      "100%|████████████████████████████████████| 45753/45753 [02:09<00:00, 354.40it/s]\n"
     ]
    },
    {
     "name": "stdout",
     "output_type": "stream",
     "text": [
      "Training: 2012-06-01 ~ 2013-06-01\n",
      "Testing: 2013-06-01 ~ 2013-12-01\n"
     ]
    },
    {
     "name": "stderr",
     "output_type": "stream",
     "text": [
      "100%|████████████████████████████████████| 45753/45753 [02:11<00:00, 348.81it/s]\n"
     ]
    },
    {
     "name": "stdout",
     "output_type": "stream",
     "text": [
      "Training: 2012-07-01 ~ 2013-07-01\n",
      "Testing: 2013-07-01 ~ 2014-01-01\n"
     ]
    },
    {
     "name": "stderr",
     "output_type": "stream",
     "text": [
      "100%|████████████████████████████████████| 45753/45753 [02:28<00:00, 308.30it/s]\n"
     ]
    },
    {
     "name": "stdout",
     "output_type": "stream",
     "text": [
      "Training: 2012-08-01 ~ 2013-08-01\n",
      "Testing: 2013-08-01 ~ 2014-02-01\n"
     ]
    },
    {
     "name": "stderr",
     "output_type": "stream",
     "text": [
      "100%|████████████████████████████████████| 45753/45753 [02:38<00:00, 288.90it/s]\n"
     ]
    },
    {
     "name": "stdout",
     "output_type": "stream",
     "text": [
      "Training: 2012-09-01 ~ 2013-09-01\n",
      "Testing: 2013-09-01 ~ 2014-03-01\n"
     ]
    },
    {
     "name": "stderr",
     "output_type": "stream",
     "text": [
      "100%|████████████████████████████████████| 45753/45753 [02:38<00:00, 288.60it/s]\n"
     ]
    },
    {
     "name": "stdout",
     "output_type": "stream",
     "text": [
      "Training: 2012-10-01 ~ 2013-10-01\n",
      "Testing: 2013-10-01 ~ 2014-04-01\n"
     ]
    },
    {
     "name": "stderr",
     "output_type": "stream",
     "text": [
      "100%|████████████████████████████████████| 45753/45753 [02:47<00:00, 272.40it/s]\n"
     ]
    },
    {
     "name": "stdout",
     "output_type": "stream",
     "text": [
      "Training: 2012-11-01 ~ 2013-11-01\n",
      "Testing: 2013-11-01 ~ 2014-05-01\n"
     ]
    },
    {
     "name": "stderr",
     "output_type": "stream",
     "text": [
      "100%|████████████████████████████████████| 45753/45753 [02:42<00:00, 282.13it/s]\n"
     ]
    },
    {
     "name": "stdout",
     "output_type": "stream",
     "text": [
      "Training: 2012-12-01 ~ 2013-12-01\n",
      "Testing: 2013-12-01 ~ 2014-06-01\n"
     ]
    },
    {
     "name": "stderr",
     "output_type": "stream",
     "text": [
      "100%|████████████████████████████████████| 45753/45753 [02:33<00:00, 297.59it/s]\n"
     ]
    },
    {
     "name": "stdout",
     "output_type": "stream",
     "text": [
      "Training: 2013-01-01 ~ 2014-01-01\n",
      "Testing: 2014-01-01 ~ 2014-07-01\n"
     ]
    },
    {
     "name": "stderr",
     "output_type": "stream",
     "text": [
      "100%|████████████████████████████████████| 45753/45753 [02:23<00:00, 317.98it/s]\n"
     ]
    },
    {
     "name": "stdout",
     "output_type": "stream",
     "text": [
      "Training: 2013-02-01 ~ 2014-02-01\n",
      "Testing: 2014-02-01 ~ 2014-08-01\n"
     ]
    },
    {
     "name": "stderr",
     "output_type": "stream",
     "text": [
      "100%|████████████████████████████████████| 45753/45753 [02:22<00:00, 321.59it/s]\n"
     ]
    },
    {
     "name": "stdout",
     "output_type": "stream",
     "text": [
      "Training: 2013-03-01 ~ 2014-03-01\n",
      "Testing: 2014-03-01 ~ 2014-09-01\n"
     ]
    },
    {
     "name": "stderr",
     "output_type": "stream",
     "text": [
      "100%|████████████████████████████████████| 45753/45753 [02:16<00:00, 335.95it/s]\n"
     ]
    },
    {
     "name": "stdout",
     "output_type": "stream",
     "text": [
      "Training: 2013-04-01 ~ 2014-04-01\n",
      "Testing: 2014-04-01 ~ 2014-10-01\n"
     ]
    },
    {
     "name": "stderr",
     "output_type": "stream",
     "text": [
      "100%|████████████████████████████████████| 45753/45753 [02:14<00:00, 339.36it/s]\n"
     ]
    },
    {
     "name": "stdout",
     "output_type": "stream",
     "text": [
      "Training: 2013-05-01 ~ 2014-05-01\n",
      "Testing: 2014-05-01 ~ 2014-11-01\n"
     ]
    },
    {
     "name": "stderr",
     "output_type": "stream",
     "text": [
      "100%|████████████████████████████████████| 45753/45753 [02:05<00:00, 365.28it/s]\n"
     ]
    },
    {
     "name": "stdout",
     "output_type": "stream",
     "text": [
      "Training: 2013-06-01 ~ 2014-06-01\n",
      "Testing: 2014-06-01 ~ 2014-12-01\n"
     ]
    },
    {
     "name": "stderr",
     "output_type": "stream",
     "text": [
      "100%|████████████████████████████████████| 45753/45753 [02:12<00:00, 346.15it/s]\n"
     ]
    },
    {
     "name": "stdout",
     "output_type": "stream",
     "text": [
      "Training: 2013-07-01 ~ 2014-07-01\n",
      "Testing: 2014-07-01 ~ 2015-01-01\n"
     ]
    },
    {
     "name": "stderr",
     "output_type": "stream",
     "text": [
      "100%|████████████████████████████████████| 45753/45753 [02:16<00:00, 335.72it/s]\n"
     ]
    },
    {
     "name": "stdout",
     "output_type": "stream",
     "text": [
      "Training: 2013-08-01 ~ 2014-08-01\n",
      "Testing: 2014-08-01 ~ 2015-02-01\n"
     ]
    },
    {
     "name": "stderr",
     "output_type": "stream",
     "text": [
      "100%|████████████████████████████████████| 45753/45753 [02:06<00:00, 362.78it/s]\n"
     ]
    },
    {
     "name": "stdout",
     "output_type": "stream",
     "text": [
      "Training: 2013-09-01 ~ 2014-09-01\n",
      "Testing: 2014-09-01 ~ 2015-03-01\n"
     ]
    },
    {
     "name": "stderr",
     "output_type": "stream",
     "text": [
      "100%|████████████████████████████████████| 45753/45753 [02:03<00:00, 369.99it/s]\n"
     ]
    },
    {
     "name": "stdout",
     "output_type": "stream",
     "text": [
      "Training: 2013-10-01 ~ 2014-10-01\n",
      "Testing: 2014-10-01 ~ 2015-04-01\n"
     ]
    },
    {
     "name": "stderr",
     "output_type": "stream",
     "text": [
      "100%|████████████████████████████████████| 45753/45753 [02:19<00:00, 328.44it/s]\n"
     ]
    },
    {
     "name": "stdout",
     "output_type": "stream",
     "text": [
      "Training: 2013-11-01 ~ 2014-11-01\n",
      "Testing: 2014-11-01 ~ 2015-05-01\n"
     ]
    },
    {
     "name": "stderr",
     "output_type": "stream",
     "text": [
      "100%|████████████████████████████████████| 45753/45753 [02:18<00:00, 329.18it/s]\n"
     ]
    },
    {
     "name": "stdout",
     "output_type": "stream",
     "text": [
      "Training: 2013-12-01 ~ 2014-12-01\n",
      "Testing: 2014-12-01 ~ 2015-06-01\n"
     ]
    },
    {
     "name": "stderr",
     "output_type": "stream",
     "text": [
      "100%|████████████████████████████████████| 45753/45753 [02:15<00:00, 337.66it/s]\n"
     ]
    },
    {
     "name": "stdout",
     "output_type": "stream",
     "text": [
      "Training: 2014-01-01 ~ 2015-01-01\n",
      "Testing: 2015-01-01 ~ 2015-07-01\n"
     ]
    },
    {
     "name": "stderr",
     "output_type": "stream",
     "text": [
      "100%|████████████████████████████████████| 45753/45753 [02:15<00:00, 337.82it/s]\n"
     ]
    },
    {
     "name": "stdout",
     "output_type": "stream",
     "text": [
      "Training: 2014-02-01 ~ 2015-02-01\n",
      "Testing: 2015-02-01 ~ 2015-08-01\n"
     ]
    },
    {
     "name": "stderr",
     "output_type": "stream",
     "text": [
      "100%|████████████████████████████████████| 45753/45753 [02:19<00:00, 329.00it/s]\n"
     ]
    },
    {
     "name": "stdout",
     "output_type": "stream",
     "text": [
      "Training: 2014-03-01 ~ 2015-03-01\n",
      "Testing: 2015-03-01 ~ 2015-09-01\n"
     ]
    },
    {
     "name": "stderr",
     "output_type": "stream",
     "text": [
      "100%|████████████████████████████████████| 45753/45753 [02:35<00:00, 294.75it/s]\n"
     ]
    },
    {
     "name": "stdout",
     "output_type": "stream",
     "text": [
      "Training: 2014-04-01 ~ 2015-04-01\n",
      "Testing: 2015-04-01 ~ 2015-10-01\n"
     ]
    },
    {
     "name": "stderr",
     "output_type": "stream",
     "text": [
      "100%|████████████████████████████████████| 45753/45753 [02:50<00:00, 268.66it/s]\n"
     ]
    },
    {
     "name": "stdout",
     "output_type": "stream",
     "text": [
      "Training: 2014-05-01 ~ 2015-05-01\n",
      "Testing: 2015-05-01 ~ 2015-11-01\n"
     ]
    },
    {
     "name": "stderr",
     "output_type": "stream",
     "text": [
      "100%|████████████████████████████████████| 45753/45753 [02:48<00:00, 271.21it/s]\n"
     ]
    },
    {
     "name": "stdout",
     "output_type": "stream",
     "text": [
      "Training: 2014-06-01 ~ 2015-06-01\n",
      "Testing: 2015-06-01 ~ 2015-12-01\n"
     ]
    },
    {
     "name": "stderr",
     "output_type": "stream",
     "text": [
      "100%|████████████████████████████████████| 45753/45753 [02:44<00:00, 278.81it/s]\n"
     ]
    },
    {
     "name": "stdout",
     "output_type": "stream",
     "text": [
      "Training: 2014-07-01 ~ 2015-07-01\n",
      "Testing: 2015-07-01 ~ 2016-01-01\n"
     ]
    },
    {
     "name": "stderr",
     "output_type": "stream",
     "text": [
      "100%|████████████████████████████████████| 45753/45753 [02:43<00:00, 279.73it/s]\n"
     ]
    },
    {
     "name": "stdout",
     "output_type": "stream",
     "text": [
      "Training: 2014-08-01 ~ 2015-08-01\n",
      "Testing: 2015-08-01 ~ 2016-02-01\n"
     ]
    },
    {
     "name": "stderr",
     "output_type": "stream",
     "text": [
      "100%|████████████████████████████████████| 45753/45753 [02:41<00:00, 283.43it/s]\n"
     ]
    },
    {
     "name": "stdout",
     "output_type": "stream",
     "text": [
      "Training: 2014-09-01 ~ 2015-09-01\n",
      "Testing: 2015-09-01 ~ 2016-03-01\n"
     ]
    },
    {
     "name": "stderr",
     "output_type": "stream",
     "text": [
      "100%|████████████████████████████████████| 45753/45753 [02:36<00:00, 291.54it/s]\n"
     ]
    },
    {
     "name": "stdout",
     "output_type": "stream",
     "text": [
      "Training: 2014-10-01 ~ 2015-10-01\n",
      "Testing: 2015-10-01 ~ 2016-04-01\n"
     ]
    },
    {
     "name": "stderr",
     "output_type": "stream",
     "text": [
      "100%|████████████████████████████████████| 45753/45753 [02:25<00:00, 313.82it/s]\n"
     ]
    },
    {
     "name": "stdout",
     "output_type": "stream",
     "text": [
      "Training: 2014-11-01 ~ 2015-11-01\n",
      "Testing: 2015-11-01 ~ 2016-05-01\n"
     ]
    },
    {
     "name": "stderr",
     "output_type": "stream",
     "text": [
      "100%|████████████████████████████████████| 45753/45753 [02:13<00:00, 343.24it/s]\n"
     ]
    },
    {
     "name": "stdout",
     "output_type": "stream",
     "text": [
      "Training: 2014-12-01 ~ 2015-12-01\n",
      "Testing: 2015-12-01 ~ 2016-06-01\n"
     ]
    },
    {
     "name": "stderr",
     "output_type": "stream",
     "text": [
      "100%|████████████████████████████████████| 45753/45753 [02:22<00:00, 320.40it/s]\n"
     ]
    },
    {
     "name": "stdout",
     "output_type": "stream",
     "text": [
      "Training: 2015-01-01 ~ 2016-01-01\n",
      "Testing: 2016-01-01 ~ 2016-07-01\n"
     ]
    },
    {
     "name": "stderr",
     "output_type": "stream",
     "text": [
      "100%|████████████████████████████████████| 45753/45753 [02:28<00:00, 309.11it/s]\n"
     ]
    },
    {
     "name": "stdout",
     "output_type": "stream",
     "text": [
      "Training: 2015-02-01 ~ 2016-02-01\n",
      "Testing: 2016-02-01 ~ 2016-08-01\n"
     ]
    },
    {
     "name": "stderr",
     "output_type": "stream",
     "text": [
      "100%|████████████████████████████████████| 45753/45753 [02:15<00:00, 337.41it/s]\n"
     ]
    },
    {
     "name": "stdout",
     "output_type": "stream",
     "text": [
      "Training: 2015-03-01 ~ 2016-03-01\n",
      "Testing: 2016-03-01 ~ 2016-09-01\n"
     ]
    },
    {
     "name": "stderr",
     "output_type": "stream",
     "text": [
      "100%|████████████████████████████████████| 45753/45753 [02:00<00:00, 379.02it/s]\n"
     ]
    },
    {
     "name": "stdout",
     "output_type": "stream",
     "text": [
      "Training: 2015-04-01 ~ 2016-04-01\n",
      "Testing: 2016-04-01 ~ 2016-10-01\n"
     ]
    },
    {
     "name": "stderr",
     "output_type": "stream",
     "text": [
      "100%|████████████████████████████████████| 45753/45753 [01:55<00:00, 395.54it/s]\n"
     ]
    },
    {
     "name": "stdout",
     "output_type": "stream",
     "text": [
      "Training: 2015-05-01 ~ 2016-05-01\n",
      "Testing: 2016-05-01 ~ 2016-11-01\n"
     ]
    },
    {
     "name": "stderr",
     "output_type": "stream",
     "text": [
      "100%|████████████████████████████████████| 45753/45753 [01:43<00:00, 440.78it/s]\n"
     ]
    },
    {
     "name": "stdout",
     "output_type": "stream",
     "text": [
      "Training: 2015-06-01 ~ 2016-06-01\n",
      "Testing: 2016-06-01 ~ 2016-12-01\n"
     ]
    },
    {
     "name": "stderr",
     "output_type": "stream",
     "text": [
      "100%|████████████████████████████████████| 45753/45753 [01:39<00:00, 459.44it/s]\n"
     ]
    },
    {
     "name": "stdout",
     "output_type": "stream",
     "text": [
      "Training: 2015-07-01 ~ 2016-07-01\n",
      "Testing: 2016-07-01 ~ 2017-01-01\n"
     ]
    },
    {
     "name": "stderr",
     "output_type": "stream",
     "text": [
      "100%|████████████████████████████████████| 45753/45753 [01:48<00:00, 422.53it/s]\n"
     ]
    },
    {
     "name": "stdout",
     "output_type": "stream",
     "text": [
      "Training: 2015-08-01 ~ 2016-08-01\n",
      "Testing: 2016-08-01 ~ 2017-02-01\n"
     ]
    },
    {
     "name": "stderr",
     "output_type": "stream",
     "text": [
      "100%|████████████████████████████████████| 45753/45753 [02:05<00:00, 364.60it/s]\n"
     ]
    },
    {
     "name": "stdout",
     "output_type": "stream",
     "text": [
      "Training: 2015-09-01 ~ 2016-09-01\n",
      "Testing: 2016-09-01 ~ 2017-03-01\n"
     ]
    },
    {
     "name": "stderr",
     "output_type": "stream",
     "text": [
      "100%|████████████████████████████████████| 45753/45753 [02:29<00:00, 305.05it/s]\n"
     ]
    },
    {
     "name": "stdout",
     "output_type": "stream",
     "text": [
      "Training: 2015-10-01 ~ 2016-10-01\n",
      "Testing: 2016-10-01 ~ 2017-04-01\n"
     ]
    },
    {
     "name": "stderr",
     "output_type": "stream",
     "text": [
      "100%|████████████████████████████████████| 45753/45753 [02:25<00:00, 314.30it/s]\n"
     ]
    },
    {
     "name": "stdout",
     "output_type": "stream",
     "text": [
      "Training: 2015-11-01 ~ 2016-11-01\n",
      "Testing: 2016-11-01 ~ 2017-05-01\n"
     ]
    },
    {
     "name": "stderr",
     "output_type": "stream",
     "text": [
      "100%|████████████████████████████████████| 45753/45753 [02:17<00:00, 331.70it/s]\n"
     ]
    },
    {
     "name": "stdout",
     "output_type": "stream",
     "text": [
      "Training: 2015-12-01 ~ 2016-12-01\n",
      "Testing: 2016-12-01 ~ 2017-06-01\n"
     ]
    },
    {
     "name": "stderr",
     "output_type": "stream",
     "text": [
      "100%|████████████████████████████████████| 45753/45753 [01:57<00:00, 388.79it/s]\n"
     ]
    },
    {
     "name": "stdout",
     "output_type": "stream",
     "text": [
      "Training: 2016-01-01 ~ 2017-01-01\n",
      "Testing: 2017-01-01 ~ 2017-07-01\n"
     ]
    },
    {
     "name": "stderr",
     "output_type": "stream",
     "text": [
      "100%|████████████████████████████████████| 45753/45753 [02:07<00:00, 357.56it/s]\n"
     ]
    },
    {
     "name": "stdout",
     "output_type": "stream",
     "text": [
      "Training: 2016-02-01 ~ 2017-02-01\n",
      "Testing: 2017-02-01 ~ 2017-08-01\n"
     ]
    },
    {
     "name": "stderr",
     "output_type": "stream",
     "text": [
      "100%|████████████████████████████████████| 45753/45753 [02:01<00:00, 375.54it/s]\n"
     ]
    },
    {
     "name": "stdout",
     "output_type": "stream",
     "text": [
      "Training: 2016-03-01 ~ 2017-03-01\n",
      "Testing: 2017-03-01 ~ 2017-09-01\n"
     ]
    },
    {
     "name": "stderr",
     "output_type": "stream",
     "text": [
      "100%|████████████████████████████████████| 45753/45753 [02:05<00:00, 364.95it/s]\n"
     ]
    },
    {
     "name": "stdout",
     "output_type": "stream",
     "text": [
      "Training: 2016-04-01 ~ 2017-04-01\n",
      "Testing: 2017-04-01 ~ 2017-10-01\n"
     ]
    },
    {
     "name": "stderr",
     "output_type": "stream",
     "text": [
      "100%|████████████████████████████████████| 45753/45753 [02:13<00:00, 343.70it/s]\n"
     ]
    },
    {
     "name": "stdout",
     "output_type": "stream",
     "text": [
      "Training: 2016-05-01 ~ 2017-05-01\n",
      "Testing: 2017-05-01 ~ 2017-11-01\n"
     ]
    },
    {
     "name": "stderr",
     "output_type": "stream",
     "text": [
      "100%|████████████████████████████████████| 45753/45753 [02:30<00:00, 304.37it/s]\n"
     ]
    },
    {
     "name": "stdout",
     "output_type": "stream",
     "text": [
      "Training: 2016-06-01 ~ 2017-06-01\n",
      "Testing: 2017-06-01 ~ 2017-12-01\n"
     ]
    },
    {
     "name": "stderr",
     "output_type": "stream",
     "text": [
      "100%|████████████████████████████████████| 45753/45753 [02:34<00:00, 296.63it/s]\n"
     ]
    },
    {
     "name": "stdout",
     "output_type": "stream",
     "text": [
      "Training: 2016-07-01 ~ 2017-07-01\n",
      "Testing: 2017-07-01 ~ 2018-01-01\n"
     ]
    },
    {
     "name": "stderr",
     "output_type": "stream",
     "text": [
      "100%|████████████████████████████████████| 45753/45753 [02:48<00:00, 271.26it/s]\n"
     ]
    },
    {
     "name": "stdout",
     "output_type": "stream",
     "text": [
      "Training: 2016-08-01 ~ 2017-08-01\n",
      "Testing: 2017-08-01 ~ 2018-02-01\n"
     ]
    },
    {
     "name": "stderr",
     "output_type": "stream",
     "text": [
      "100%|████████████████████████████████████| 45753/45753 [02:57<00:00, 257.20it/s]\n"
     ]
    },
    {
     "name": "stdout",
     "output_type": "stream",
     "text": [
      "Training: 2016-09-01 ~ 2017-09-01\n",
      "Testing: 2017-09-01 ~ 2018-03-01\n"
     ]
    },
    {
     "name": "stderr",
     "output_type": "stream",
     "text": [
      "100%|████████████████████████████████████| 45753/45753 [02:55<00:00, 261.26it/s]\n"
     ]
    },
    {
     "name": "stdout",
     "output_type": "stream",
     "text": [
      "Training: 2016-10-01 ~ 2017-10-01\n",
      "Testing: 2017-10-01 ~ 2018-04-01\n"
     ]
    },
    {
     "name": "stderr",
     "output_type": "stream",
     "text": [
      "100%|████████████████████████████████████| 45753/45753 [02:49<00:00, 270.46it/s]\n"
     ]
    },
    {
     "name": "stdout",
     "output_type": "stream",
     "text": [
      "Training: 2016-11-01 ~ 2017-11-01\n",
      "Testing: 2017-11-01 ~ 2018-05-01\n"
     ]
    },
    {
     "name": "stderr",
     "output_type": "stream",
     "text": [
      "100%|████████████████████████████████████| 45753/45753 [02:43<00:00, 279.45it/s]\n"
     ]
    },
    {
     "name": "stdout",
     "output_type": "stream",
     "text": [
      "Training: 2016-12-01 ~ 2017-12-01\n",
      "Testing: 2017-12-01 ~ 2018-06-01\n"
     ]
    },
    {
     "name": "stderr",
     "output_type": "stream",
     "text": [
      "100%|████████████████████████████████████| 45753/45753 [02:50<00:00, 267.72it/s]\n"
     ]
    },
    {
     "name": "stdout",
     "output_type": "stream",
     "text": [
      "Training: 2017-01-01 ~ 2018-01-01\n",
      "Testing: 2018-01-01 ~ 2018-07-01\n"
     ]
    },
    {
     "name": "stderr",
     "output_type": "stream",
     "text": [
      "100%|████████████████████████████████████| 45753/45753 [02:47<00:00, 272.97it/s]\n"
     ]
    },
    {
     "name": "stdout",
     "output_type": "stream",
     "text": [
      "Training: 2017-02-01 ~ 2018-02-01\n",
      "Testing: 2018-02-01 ~ 2018-08-01\n"
     ]
    },
    {
     "name": "stderr",
     "output_type": "stream",
     "text": [
      "100%|████████████████████████████████████| 45753/45753 [02:35<00:00, 294.56it/s]\n"
     ]
    },
    {
     "name": "stdout",
     "output_type": "stream",
     "text": [
      "Training: 2017-03-01 ~ 2018-03-01\n",
      "Testing: 2018-03-01 ~ 2018-09-01\n"
     ]
    },
    {
     "name": "stderr",
     "output_type": "stream",
     "text": [
      "100%|████████████████████████████████████| 45753/45753 [02:15<00:00, 338.09it/s]\n"
     ]
    },
    {
     "name": "stdout",
     "output_type": "stream",
     "text": [
      "Training: 2017-04-01 ~ 2018-04-01\n",
      "Testing: 2018-04-01 ~ 2018-10-01\n"
     ]
    },
    {
     "name": "stderr",
     "output_type": "stream",
     "text": [
      "100%|████████████████████████████████████| 45753/45753 [02:29<00:00, 306.65it/s]\n"
     ]
    },
    {
     "name": "stdout",
     "output_type": "stream",
     "text": [
      "Training: 2017-05-01 ~ 2018-05-01\n",
      "Testing: 2018-05-01 ~ 2018-11-01\n"
     ]
    },
    {
     "name": "stderr",
     "output_type": "stream",
     "text": [
      "100%|████████████████████████████████████| 45753/45753 [02:45<00:00, 276.93it/s]\n"
     ]
    },
    {
     "name": "stdout",
     "output_type": "stream",
     "text": [
      "Training: 2017-06-01 ~ 2018-06-01\n",
      "Testing: 2018-06-01 ~ 2018-12-01\n"
     ]
    },
    {
     "name": "stderr",
     "output_type": "stream",
     "text": [
      "100%|████████████████████████████████████| 45753/45753 [02:32<00:00, 299.43it/s]\n"
     ]
    },
    {
     "name": "stdout",
     "output_type": "stream",
     "text": [
      "Training: 2017-07-01 ~ 2018-07-01\n",
      "Testing: 2018-07-01 ~ 2019-01-01\n"
     ]
    },
    {
     "name": "stderr",
     "output_type": "stream",
     "text": [
      "100%|████████████████████████████████████| 45753/45753 [02:46<00:00, 275.61it/s]\n"
     ]
    },
    {
     "name": "stdout",
     "output_type": "stream",
     "text": [
      "Training: 2017-08-01 ~ 2018-08-01\n",
      "Testing: 2018-08-01 ~ 2019-02-01\n"
     ]
    },
    {
     "name": "stderr",
     "output_type": "stream",
     "text": [
      "100%|████████████████████████████████████| 45753/45753 [03:03<00:00, 249.70it/s]\n"
     ]
    },
    {
     "name": "stdout",
     "output_type": "stream",
     "text": [
      "Training: 2017-09-01 ~ 2018-09-01\n",
      "Testing: 2018-09-01 ~ 2019-03-01\n"
     ]
    },
    {
     "name": "stderr",
     "output_type": "stream",
     "text": [
      "100%|████████████████████████████████████| 45753/45753 [03:16<00:00, 232.93it/s]\n"
     ]
    },
    {
     "name": "stdout",
     "output_type": "stream",
     "text": [
      "Training: 2017-10-01 ~ 2018-10-01\n",
      "Testing: 2018-10-01 ~ 2019-04-01\n"
     ]
    },
    {
     "name": "stderr",
     "output_type": "stream",
     "text": [
      "100%|████████████████████████████████████| 45753/45753 [03:13<00:00, 236.99it/s]\n"
     ]
    },
    {
     "name": "stdout",
     "output_type": "stream",
     "text": [
      "Training: 2017-11-01 ~ 2018-11-01\n",
      "Testing: 2018-11-01 ~ 2019-05-01\n"
     ]
    },
    {
     "name": "stderr",
     "output_type": "stream",
     "text": [
      "100%|████████████████████████████████████| 45753/45753 [02:57<00:00, 258.25it/s]\n"
     ]
    },
    {
     "name": "stdout",
     "output_type": "stream",
     "text": [
      "Training: 2017-12-01 ~ 2018-12-01\n",
      "Testing: 2018-12-01 ~ 2019-06-01\n"
     ]
    },
    {
     "name": "stderr",
     "output_type": "stream",
     "text": [
      "100%|████████████████████████████████████| 45753/45753 [02:08<00:00, 355.72it/s]\n"
     ]
    },
    {
     "name": "stdout",
     "output_type": "stream",
     "text": [
      "Training: 2018-01-01 ~ 2019-01-01\n",
      "Testing: 2019-01-01 ~ 2019-07-01\n"
     ]
    },
    {
     "name": "stderr",
     "output_type": "stream",
     "text": [
      "100%|████████████████████████████████████| 45753/45753 [02:01<00:00, 375.60it/s]\n"
     ]
    },
    {
     "name": "stdout",
     "output_type": "stream",
     "text": [
      "Training: 2018-02-01 ~ 2019-02-01\n",
      "Testing: 2019-02-01 ~ 2019-08-01\n"
     ]
    },
    {
     "name": "stderr",
     "output_type": "stream",
     "text": [
      "100%|████████████████████████████████████| 45753/45753 [02:09<00:00, 354.27it/s]\n"
     ]
    },
    {
     "name": "stdout",
     "output_type": "stream",
     "text": [
      "Training: 2018-03-01 ~ 2019-03-01\n",
      "Testing: 2019-03-01 ~ 2019-09-01\n"
     ]
    },
    {
     "name": "stderr",
     "output_type": "stream",
     "text": [
      "100%|████████████████████████████████████| 45753/45753 [02:06<00:00, 360.29it/s]\n"
     ]
    },
    {
     "name": "stdout",
     "output_type": "stream",
     "text": [
      "Training: 2018-04-01 ~ 2019-04-01\n",
      "Testing: 2019-04-01 ~ 2019-10-01\n"
     ]
    },
    {
     "name": "stderr",
     "output_type": "stream",
     "text": [
      "100%|████████████████████████████████████| 45753/45753 [02:12<00:00, 344.53it/s]\n"
     ]
    },
    {
     "name": "stdout",
     "output_type": "stream",
     "text": [
      "Training: 2018-05-01 ~ 2019-05-01\n",
      "Testing: 2019-05-01 ~ 2019-11-01\n"
     ]
    },
    {
     "name": "stderr",
     "output_type": "stream",
     "text": [
      "100%|████████████████████████████████████| 45753/45753 [02:04<00:00, 366.30it/s]\n"
     ]
    },
    {
     "name": "stdout",
     "output_type": "stream",
     "text": [
      "Training: 2018-06-01 ~ 2019-06-01\n",
      "Testing: 2019-06-01 ~ 2019-12-01\n"
     ]
    },
    {
     "name": "stderr",
     "output_type": "stream",
     "text": [
      "100%|████████████████████████████████████| 45753/45753 [02:12<00:00, 346.58it/s]\n"
     ]
    },
    {
     "name": "stdout",
     "output_type": "stream",
     "text": [
      "Training: 2018-07-01 ~ 2019-07-01\n",
      "Testing: 2019-07-01 ~ 2020-01-01\n"
     ]
    },
    {
     "name": "stderr",
     "output_type": "stream",
     "text": [
      "100%|████████████████████████████████████| 45753/45753 [02:11<00:00, 347.29it/s]\n"
     ]
    },
    {
     "name": "stdout",
     "output_type": "stream",
     "text": [
      "Training: 2018-08-01 ~ 2019-08-01\n",
      "Testing: 2019-08-01 ~ 2020-02-01\n"
     ]
    },
    {
     "name": "stderr",
     "output_type": "stream",
     "text": [
      "100%|████████████████████████████████████| 45753/45753 [02:10<00:00, 350.51it/s]\n"
     ]
    },
    {
     "name": "stdout",
     "output_type": "stream",
     "text": [
      "Training: 2018-09-01 ~ 2019-09-01\n",
      "Testing: 2019-09-01 ~ 2020-03-01\n"
     ]
    },
    {
     "name": "stderr",
     "output_type": "stream",
     "text": [
      "100%|████████████████████████████████████| 45753/45753 [01:56<00:00, 392.16it/s]\n"
     ]
    },
    {
     "name": "stdout",
     "output_type": "stream",
     "text": [
      "Training: 2018-10-01 ~ 2019-10-01\n",
      "Testing: 2019-10-01 ~ 2020-04-01\n"
     ]
    },
    {
     "name": "stderr",
     "output_type": "stream",
     "text": [
      "100%|████████████████████████████████████| 45753/45753 [02:07<00:00, 357.56it/s]\n"
     ]
    },
    {
     "name": "stdout",
     "output_type": "stream",
     "text": [
      "Training: 2018-11-01 ~ 2019-11-01\n",
      "Testing: 2019-11-01 ~ 2020-05-01\n"
     ]
    },
    {
     "name": "stderr",
     "output_type": "stream",
     "text": [
      "100%|████████████████████████████████████| 45753/45753 [02:09<00:00, 352.70it/s]\n"
     ]
    },
    {
     "name": "stdout",
     "output_type": "stream",
     "text": [
      "Training: 2018-12-01 ~ 2019-12-01\n",
      "Testing: 2019-12-01 ~ 2020-06-01\n"
     ]
    },
    {
     "name": "stderr",
     "output_type": "stream",
     "text": [
      "100%|████████████████████████████████████| 45753/45753 [02:03<00:00, 371.45it/s]\n"
     ]
    },
    {
     "name": "stdout",
     "output_type": "stream",
     "text": [
      "Training: 2019-01-01 ~ 2020-01-01\n",
      "Testing: 2020-01-01 ~ 2020-07-01\n"
     ]
    },
    {
     "name": "stderr",
     "output_type": "stream",
     "text": [
      "100%|████████████████████████████████████| 45753/45753 [01:50<00:00, 413.07it/s]\n"
     ]
    },
    {
     "name": "stdout",
     "output_type": "stream",
     "text": [
      "Training: 2019-02-01 ~ 2020-02-01\n",
      "Testing: 2020-02-01 ~ 2020-08-01\n"
     ]
    },
    {
     "name": "stderr",
     "output_type": "stream",
     "text": [
      "100%|████████████████████████████████████| 45753/45753 [01:57<00:00, 390.19it/s]\n"
     ]
    },
    {
     "name": "stdout",
     "output_type": "stream",
     "text": [
      "Training: 2019-03-01 ~ 2020-03-01\n",
      "Testing: 2020-03-01 ~ 2020-09-01\n"
     ]
    },
    {
     "name": "stderr",
     "output_type": "stream",
     "text": [
      "100%|████████████████████████████████████| 45753/45753 [02:21<00:00, 324.22it/s]\n"
     ]
    },
    {
     "name": "stdout",
     "output_type": "stream",
     "text": [
      "Training: 2019-04-01 ~ 2020-04-01\n",
      "Testing: 2020-04-01 ~ 2020-10-01\n"
     ]
    },
    {
     "name": "stderr",
     "output_type": "stream",
     "text": [
      "100%|████████████████████████████████████| 45753/45753 [02:25<00:00, 314.94it/s]\n"
     ]
    },
    {
     "name": "stdout",
     "output_type": "stream",
     "text": [
      "Training: 2019-05-01 ~ 2020-05-01\n",
      "Testing: 2020-05-01 ~ 2020-11-01\n"
     ]
    },
    {
     "name": "stderr",
     "output_type": "stream",
     "text": [
      "100%|████████████████████████████████████| 45753/45753 [02:38<00:00, 289.39it/s]\n"
     ]
    },
    {
     "name": "stdout",
     "output_type": "stream",
     "text": [
      "Training: 2019-06-01 ~ 2020-06-01\n",
      "Testing: 2020-06-01 ~ 2020-12-01\n"
     ]
    },
    {
     "name": "stderr",
     "output_type": "stream",
     "text": [
      "100%|████████████████████████████████████| 45753/45753 [02:39<00:00, 286.08it/s]\n"
     ]
    },
    {
     "name": "stdout",
     "output_type": "stream",
     "text": [
      "Training: 2019-07-01 ~ 2020-07-01\n",
      "Testing: 2020-07-01 ~ 2021-01-01\n"
     ]
    },
    {
     "name": "stderr",
     "output_type": "stream",
     "text": [
      "100%|████████████████████████████████████| 45753/45753 [02:42<00:00, 281.10it/s]\n"
     ]
    },
    {
     "name": "stdout",
     "output_type": "stream",
     "text": [
      "Training: 2019-08-01 ~ 2020-08-01\n",
      "Testing: 2020-08-01 ~ 2021-02-01\n"
     ]
    },
    {
     "name": "stderr",
     "output_type": "stream",
     "text": [
      "100%|████████████████████████████████████| 45753/45753 [02:55<00:00, 261.32it/s]\n"
     ]
    },
    {
     "name": "stdout",
     "output_type": "stream",
     "text": [
      "Training: 2019-09-01 ~ 2020-09-01\n",
      "Testing: 2020-09-01 ~ 2021-03-01\n"
     ]
    },
    {
     "name": "stderr",
     "output_type": "stream",
     "text": [
      "100%|████████████████████████████████████| 45753/45753 [02:53<00:00, 263.48it/s]\n"
     ]
    },
    {
     "name": "stdout",
     "output_type": "stream",
     "text": [
      "Training: 2019-10-01 ~ 2020-10-01\n",
      "Testing: 2020-10-01 ~ 2021-04-01\n"
     ]
    },
    {
     "name": "stderr",
     "output_type": "stream",
     "text": [
      "100%|████████████████████████████████████| 45753/45753 [02:49<00:00, 270.65it/s]\n"
     ]
    },
    {
     "name": "stdout",
     "output_type": "stream",
     "text": [
      "Training: 2019-11-01 ~ 2020-11-01\n",
      "Testing: 2020-11-01 ~ 2021-05-01\n"
     ]
    },
    {
     "name": "stderr",
     "output_type": "stream",
     "text": [
      "100%|████████████████████████████████████| 45753/45753 [02:40<00:00, 284.44it/s]\n"
     ]
    },
    {
     "name": "stdout",
     "output_type": "stream",
     "text": [
      "Training: 2019-12-01 ~ 2020-12-01\n",
      "Testing: 2020-12-01 ~ 2021-06-01\n"
     ]
    },
    {
     "name": "stderr",
     "output_type": "stream",
     "text": [
      "100%|████████████████████████████████████| 45753/45753 [02:19<00:00, 326.99it/s]\n"
     ]
    },
    {
     "name": "stdout",
     "output_type": "stream",
     "text": [
      "Training: 2020-01-01 ~ 2021-01-01\n",
      "Testing: 2021-01-01 ~ 2021-07-01\n"
     ]
    },
    {
     "name": "stderr",
     "output_type": "stream",
     "text": [
      "100%|████████████████████████████████████| 45753/45753 [02:17<00:00, 333.47it/s]\n"
     ]
    },
    {
     "name": "stdout",
     "output_type": "stream",
     "text": [
      "Training: 2020-02-01 ~ 2021-02-01\n",
      "Testing: 2021-02-01 ~ 2021-08-01\n"
     ]
    },
    {
     "name": "stderr",
     "output_type": "stream",
     "text": [
      "100%|████████████████████████████████████| 45753/45753 [02:44<00:00, 277.35it/s]\n"
     ]
    },
    {
     "name": "stdout",
     "output_type": "stream",
     "text": [
      "Training: 2020-03-01 ~ 2021-03-01\n",
      "Testing: 2021-03-01 ~ 2021-09-01\n"
     ]
    },
    {
     "name": "stderr",
     "output_type": "stream",
     "text": [
      "100%|████████████████████████████████████| 45753/45753 [02:40<00:00, 285.08it/s]\n"
     ]
    },
    {
     "name": "stdout",
     "output_type": "stream",
     "text": [
      "Training: 2020-04-01 ~ 2021-04-01\n",
      "Testing: 2021-04-01 ~ 2021-10-01\n"
     ]
    },
    {
     "name": "stderr",
     "output_type": "stream",
     "text": [
      "100%|████████████████████████████████████| 45753/45753 [02:54<00:00, 262.54it/s]\n"
     ]
    },
    {
     "name": "stdout",
     "output_type": "stream",
     "text": [
      "Training: 2020-05-01 ~ 2021-05-01\n",
      "Testing: 2021-05-01 ~ 2021-11-01\n"
     ]
    },
    {
     "name": "stderr",
     "output_type": "stream",
     "text": [
      "100%|████████████████████████████████████| 45753/45753 [02:44<00:00, 278.77it/s]\n"
     ]
    },
    {
     "name": "stdout",
     "output_type": "stream",
     "text": [
      "Training: 2020-06-01 ~ 2021-06-01\n",
      "Testing: 2021-06-01 ~ 2021-12-01\n"
     ]
    },
    {
     "name": "stderr",
     "output_type": "stream",
     "text": [
      "100%|████████████████████████████████████| 45753/45753 [02:35<00:00, 294.73it/s]\n"
     ]
    },
    {
     "name": "stdout",
     "output_type": "stream",
     "text": [
      "Training: 2020-07-01 ~ 2021-07-01\n",
      "Testing: 2021-07-01 ~ 2022-01-01\n"
     ]
    },
    {
     "name": "stderr",
     "output_type": "stream",
     "text": [
      "100%|████████████████████████████████████| 45753/45753 [02:35<00:00, 293.77it/s]\n"
     ]
    },
    {
     "name": "stdout",
     "output_type": "stream",
     "text": [
      "Training: 2020-08-01 ~ 2021-08-01\n",
      "Testing: 2021-08-01 ~ 2022-02-01\n"
     ]
    },
    {
     "name": "stderr",
     "output_type": "stream",
     "text": [
      "100%|████████████████████████████████████| 45753/45753 [03:24<00:00, 223.98it/s]\n"
     ]
    },
    {
     "name": "stdout",
     "output_type": "stream",
     "text": [
      "Training: 2020-09-01 ~ 2021-09-01\n",
      "Testing: 2021-09-01 ~ 2022-03-01\n"
     ]
    },
    {
     "name": "stderr",
     "output_type": "stream",
     "text": [
      "100%|████████████████████████████████████| 45753/45753 [03:47<00:00, 201.11it/s]\n"
     ]
    },
    {
     "name": "stdout",
     "output_type": "stream",
     "text": [
      "Training: 2020-10-01 ~ 2021-10-01\n",
      "Testing: 2021-10-01 ~ 2022-04-01\n"
     ]
    },
    {
     "name": "stderr",
     "output_type": "stream",
     "text": [
      "100%|████████████████████████████████████| 45753/45753 [03:24<00:00, 223.79it/s]\n"
     ]
    },
    {
     "name": "stdout",
     "output_type": "stream",
     "text": [
      "Training: 2020-11-01 ~ 2021-11-01\n",
      "Testing: 2021-11-01 ~ 2022-05-01\n"
     ]
    },
    {
     "name": "stderr",
     "output_type": "stream",
     "text": [
      "100%|████████████████████████████████████| 45753/45753 [03:09<00:00, 241.86it/s]\n"
     ]
    },
    {
     "name": "stdout",
     "output_type": "stream",
     "text": [
      "Training: 2020-12-01 ~ 2021-12-01\n",
      "Testing: 2021-12-01 ~ 2022-06-01\n"
     ]
    },
    {
     "name": "stderr",
     "output_type": "stream",
     "text": [
      "100%|████████████████████████████████████| 45753/45753 [02:51<00:00, 266.19it/s]\n"
     ]
    },
    {
     "name": "stdout",
     "output_type": "stream",
     "text": [
      "Training: 2021-01-01 ~ 2022-01-01\n",
      "Testing: 2022-01-01 ~ 2022-07-01\n"
     ]
    },
    {
     "name": "stderr",
     "output_type": "stream",
     "text": [
      "100%|████████████████████████████████████| 45753/45753 [02:57<00:00, 258.28it/s]\n"
     ]
    },
    {
     "name": "stdout",
     "output_type": "stream",
     "text": [
      "Training: 2021-02-01 ~ 2022-02-01\n",
      "Testing: 2022-02-01 ~ 2022-08-01\n"
     ]
    },
    {
     "name": "stderr",
     "output_type": "stream",
     "text": [
      "100%|████████████████████████████████████| 45753/45753 [03:10<00:00, 239.92it/s]\n"
     ]
    },
    {
     "name": "stdout",
     "output_type": "stream",
     "text": [
      "Training: 2021-03-01 ~ 2022-03-01\n",
      "Testing: 2022-03-01 ~ 2022-09-01\n"
     ]
    },
    {
     "name": "stderr",
     "output_type": "stream",
     "text": [
      "100%|████████████████████████████████████| 45753/45753 [03:08<00:00, 242.42it/s]\n"
     ]
    },
    {
     "name": "stdout",
     "output_type": "stream",
     "text": [
      "Training: 2021-04-01 ~ 2022-04-01\n",
      "Testing: 2022-04-01 ~ 2022-10-01\n"
     ]
    },
    {
     "name": "stderr",
     "output_type": "stream",
     "text": [
      "100%|████████████████████████████████████| 45753/45753 [02:56<00:00, 259.27it/s]\n"
     ]
    },
    {
     "name": "stdout",
     "output_type": "stream",
     "text": [
      "Training: 2021-05-01 ~ 2022-05-01\n",
      "Testing: 2022-05-01 ~ 2022-11-01\n"
     ]
    },
    {
     "name": "stderr",
     "output_type": "stream",
     "text": [
      "  2%|▋                                     | 837/45753 [00:02<02:11, 341.21it/s]"
     ]
    }
   ],
   "source": [
    "# 设置参数\n",
    "construction_type = \"Kagi\"\n",
    "signals_type = \"contrarian\"\n",
    "selection_method = \"highest\"\n",
    "transaction_costs = 0.0000\n",
    "num = 20\n",
    "\n",
    "# 创建用于存储每日收益的序列\n",
    "total_returns = pd.Series(dtype=float)\n",
    "total_returns_with_costs = pd.Series(dtype=float)\n",
    "\n",
    "# 创建保存结果的文件夹\n",
    "output_folder = 'backtest_results'\n",
    "if not os.path.exists(output_folder):\n",
    "    os.makedirs(output_folder)\n",
    "\n",
    "# 开始回测\n",
    "for idx, (train, test) in enumerate(zip(train_date, test_date)):\n",
    "    train_year = train[0].year  # 获取训练区间开始年份\n",
    "    train_start = pd.Timestamp(train[0])\n",
    "    train_end = pd.Timestamp(train[1])\n",
    "    test_start = pd.Timestamp(test[0])\n",
    "    test_end = pd.Timestamp(test[1])\n",
    "\n",
    "    tickers = list(components[train_year].dropna())  # 获取该年份的成分股列表\n",
    "    valid_tickers = list(set(tickers_with_data) & set(tickers))  # 确定有哪些股票有历史数据\n",
    "    train_data = data_df[valid_tickers].loc[train_start:train_end]\n",
    "\n",
    "    train_data = train_data.dropna(how=\"all\", axis=0).dropna(how=\"all\", axis=1)\n",
    "\n",
    "    # 获取交易对\n",
    "    minimum_length = len(train_data) * 0.8\n",
    "    hs = HSelection(train_data, construction_type)\n",
    "    hs.select(minimum_length=minimum_length)\n",
    "    pairs = hs.get_pairs(num, selection_method, False)\n",
    "\n",
    "    # 用于存储每对股票的每日收益\n",
    "    returns_series_list = []\n",
    "    returns_series_with_costs_list = []\n",
    "\n",
    "    # 创建一个字典来存储每对股票的每日收益\n",
    "    pair_returns_dict = {}\n",
    "\n",
    "    print(\"Training:\", train[0], \"~\", train[1])\n",
    "    print(\"Testing:\", test[0], \"~\", test[1])\n",
    "\n",
    "    # 计算测试区间内每对股票的每日收益\n",
    "    for pair_info in pairs:\n",
    "        threshold = pair_info[1]  # H-构造的阈值\n",
    "        pair_tickers = list(pair_info[2])\n",
    "        pair_data = data_df[pair_tickers][test[0]:test[1]]  # 回测数据\n",
    "        pair_data = pair_data.dropna(axis=0).dropna(axis=1)\n",
    "        series = np.log(pair_data[pair_tickers[0]]) - np.log(pair_data[pair_tickers[1]])  # 价差序列\n",
    "        hc = HConstruction(series, threshold, construction_type)\n",
    "        signals = hc.get_signals(signals_type)\n",
    "        trade_actions = signals[signals != 0]\n",
    "\n",
    "        # 获取交易动作之间的时间区间\n",
    "        trade_dates_interval = []\n",
    "        action_dates = trade_actions.index.tolist()\n",
    "        for idx in range(len(action_dates) - 1):\n",
    "            start_date = action_dates[idx]\n",
    "            end_date = action_dates[idx + 1]\n",
    "            trade_dates_interval.append((start_date, end_date))\n",
    "        # 对于最后一个交易动作，持有至测试期结束\n",
    "        if action_dates[-1] < pair_data.index[-1]:\n",
    "            trade_dates_interval.append((action_dates[-1], pair_data.index[-1]))\n",
    "\n",
    "        # 用于存储每日收益的序列\n",
    "        returns_series = pd.Series(dtype=float)\n",
    "        returns_series_with_costs = pd.Series(dtype=float)\n",
    "\n",
    "        # 计算每个交易动作区间的每日收益\n",
    "        for (start_date, end_date), action in zip(trade_dates_interval, trade_actions.values):\n",
    "            interval_data = pair_data.loc[start_date:end_date].dropna(how='any')\n",
    "            if len(interval_data) <= 1:\n",
    "                continue\n",
    "\n",
    "            daily_returns = pd.DataFrame(index=interval_data.index)\n",
    "            daily_returns[pair_tickers[0]] = cal_daily_returns(interval_data[pair_tickers[0]], action)\n",
    "            daily_returns[pair_tickers[1]] = cal_daily_returns(interval_data[pair_tickers[1]], -action)\n",
    "            daily_returns = daily_returns.dropna(how='any')\n",
    "            daily_returns['pair_return'] = daily_returns.sum(axis=1)\n",
    "            daily_returns_with_costs = daily_returns.copy()\n",
    "\n",
    "            # 在进出场时扣除交易成本\n",
    "            daily_returns_with_costs.loc[daily_returns_with_costs.index[0], 'pair_return'] -= transaction_costs\n",
    "            daily_returns_with_costs.loc[daily_returns_with_costs.index[-1], 'pair_return'] -= transaction_costs\n",
    "\n",
    "            returns_series = pd.concat([s for s in [returns_series, daily_returns['pair_return']] if not s.empty])\n",
    "            returns_series_with_costs = pd.concat([s for s in [returns_series_with_costs, daily_returns_with_costs['pair_return']] if not s.empty])\n",
    "\n",
    "        returns_series_list.append(returns_series)\n",
    "        returns_series_with_costs_list.append(returns_series_with_costs)\n",
    "\n",
    "        # 将该对股票的每日收益存入字典，键为股票对的名称\n",
    "        pair_name = f\"{pair_tickers[0]}_{pair_tickers[1]}\"\n",
    "        pair_returns_dict[pair_name] = returns_series\n",
    "\n",
    "    # 汇总所有股票对的每日收益\n",
    "    pairs_returns = pd.DataFrame(returns_series_list).T.mean(axis=1)\n",
    "    pairs_returns_with_costs = pd.DataFrame(returns_series_with_costs_list).T.mean(axis=1)\n",
    "\n",
    "    # 将每日收益连接起来\n",
    "    total_returns = pd.concat([total_returns, pairs_returns])\n",
    "    total_returns_with_costs = pd.concat([total_returns_with_costs, pairs_returns_with_costs])\n",
    "\n",
    "    # 创建一个包含所有股票对每日收益的DataFrame\n",
    "    pair_returns_df = pd.DataFrame(pair_returns_dict)\n",
    "    # 添加总的每日收益列\n",
    "    pair_returns_df['Total_Return'] = pairs_returns\n",
    "    pair_returns_df['Total_Return_with_Costs'] = pairs_returns_with_costs\n",
    "    # 对DataFrame按照日期排序\n",
    "    pair_returns_df = pair_returns_df.sort_index()\n",
    "\n",
    "    # 定义Excel文件名，包含训练和测试日期\n",
    "    filename = f\"Backtest_{train[0]}_{train[1]}_to_{test[0]}_{test[1]}.xlsx\"\n",
    "    filepath = os.path.join(output_folder, filename)\n",
    "\n",
    "    # 将DataFrame输出到Excel文件\n",
    "    pair_returns_df.to_excel(filepath)\n",
    "\n",
    "# 对总收益按照日期排序\n",
    "total_returns = total_returns.sort_index()\n",
    "total_returns_with_costs = total_returns_with_costs.sort_index()\n"
   ]
  },
  {
   "cell_type": "code",
   "execution_count": null,
   "id": "5d2f223f-80cd-4a87-a880-cfe8e5aae19a",
   "metadata": {},
   "outputs": [],
   "source": []
  }
 ],
 "metadata": {
  "kernelspec": {
   "display_name": "Python 3 (ipykernel)",
   "language": "python",
   "name": "python3"
  },
  "language_info": {
   "codemirror_mode": {
    "name": "ipython",
    "version": 3
   },
   "file_extension": ".py",
   "mimetype": "text/x-python",
   "name": "python",
   "nbconvert_exporter": "python",
   "pygments_lexer": "ipython3",
   "version": "3.9.6"
  }
 },
 "nbformat": 4,
 "nbformat_minor": 5
}
