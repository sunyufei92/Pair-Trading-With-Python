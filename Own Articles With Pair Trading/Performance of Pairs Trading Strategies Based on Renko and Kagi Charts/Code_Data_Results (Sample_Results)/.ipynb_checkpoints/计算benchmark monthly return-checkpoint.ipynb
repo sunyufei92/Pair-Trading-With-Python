{
 "cells": [
  {
   "cell_type": "code",
   "execution_count": 1,
   "id": "0e01fd58-dd2c-4e49-baa8-cbd538980718",
   "metadata": {},
   "outputs": [
    {
     "name": "stdout",
     "output_type": "stream",
     "text": [
      "月收益率计算完成，已保存到 'benchmark_monthly_returns.xlsx'\n"
     ]
    }
   ],
   "source": [
    "import pandas as pd\n",
    "\n",
    "# Step 1: 读取每日价格数据\n",
    "# 假设文件名为 'benchmark_prices.xlsx'，工作表名称为 'Daily Prices'\n",
    "# 请根据实际文件和工作表名称修改路径和 sheet_name\n",
    "prices_df = pd.read_excel('benchmark_returns.xlsx', sheet_name='Sheet1', parse_dates=['Date'])\n",
    "\n",
    "# 确保数据按日期排序\n",
    "prices_df.sort_values(by='Date', inplace=True)\n",
    "\n",
    "# Step 2: 设置日期为索引\n",
    "prices_df.set_index('Date', inplace=True)\n",
    "\n",
    "# Step 3: 计算每个月的月末价格\n",
    "monthly_prices = prices_df['Price'].resample('M').last()\n",
    "\n",
    "# Step 4: 计算每个月的收益率\n",
    "monthly_returns = monthly_prices.pct_change()\n",
    "\n",
    "# 将结果保存到 DataFrame\n",
    "monthly_returns_df = pd.DataFrame({\n",
    "    'Date': monthly_returns.index,\n",
    "    'MonthlyReturn': monthly_returns.values\n",
    "})\n",
    "\n",
    "# Step 5: 保存结果到新的 Excel 文件\n",
    "monthly_returns_df.to_excel('benchmark_monthly_returns.xlsx', index=False)\n",
    "\n",
    "print(\"月收益率计算完成，已保存到 'benchmark_monthly_returns.xlsx'\")\n"
   ]
  },
  {
   "cell_type": "code",
   "execution_count": null,
   "id": "b76adb21-7a8f-4739-a554-4af0d59b2524",
   "metadata": {},
   "outputs": [],
   "source": []
  }
 ],
 "metadata": {
  "kernelspec": {
   "display_name": "Python 3 (ipykernel)",
   "language": "python",
   "name": "python3"
  },
  "language_info": {
   "codemirror_mode": {
    "name": "ipython",
    "version": 3
   },
   "file_extension": ".py",
   "mimetype": "text/x-python",
   "name": "python",
   "nbconvert_exporter": "python",
   "pygments_lexer": "ipython3",
   "version": "3.9.18"
  }
 },
 "nbformat": 4,
 "nbformat_minor": 5
}
