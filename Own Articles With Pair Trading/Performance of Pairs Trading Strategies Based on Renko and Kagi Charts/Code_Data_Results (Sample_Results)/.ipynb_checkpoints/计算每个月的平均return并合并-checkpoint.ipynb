{
 "cells": [
  {
   "cell_type": "code",
   "execution_count": 1,
   "id": "70318ee7-4df5-47d1-ba8d-8a497c4f2639",
   "metadata": {
    "scrolled": true
   },
   "outputs": [
    {
     "name": "stdout",
     "output_type": "stream",
     "text": [
      "Average monthly returns for folder C:/Users/Admin/Desktop/test2/backtest_results have been saved to C:/Users/Admin/Desktop/test2/backtest_results\\average_monthly_returns.xlsx.\n"
     ]
    }
   ],
   "source": [
    "import pandas as pd\n",
    "import os\n",
    "\n",
    "# 定义包含所有子文件夹的根目录路径\n",
    "root_directory = 'C:/Users/Admin/Desktop/test2/backtest_results'  # 替换为你的实际目录路径\n",
    "\n",
    "# 遍历根目录中的所有文件夹\n",
    "for foldername, subfolders, filenames in os.walk(root_directory):\n",
    "    # 检查文件夹中是否存在 'combined_monthly_returns.xlsx' 文件\n",
    "    if 'combined_monthly_returns.xlsx' in filenames:\n",
    "        file_path = os.path.join(foldername, 'combined_monthly_returns.xlsx')\n",
    "        output_file = os.path.join(foldername, 'average_monthly_returns.xlsx')  # 输出的文件路径\n",
    "        \n",
    "        try:\n",
    "            # 读取当前文件夹中的 Excel 文件\n",
    "            df = pd.read_excel(file_path, sheet_name='Combined_Monthly_Returns')\n",
    "\n",
    "            # 确保 'Date' 列为索引列（如果还没有）\n",
    "            if 'Date' in df.columns:\n",
    "                df.set_index('Date', inplace=True)\n",
    "\n",
    "            # 计算每行（每个月）的平均值，跳过NaN值\n",
    "            df['Average_Return'] = df.mean(axis=1, skipna=True)\n",
    "\n",
    "            # 保存包含平均值的新文件到当前文件夹中\n",
    "            with pd.ExcelWriter(output_file) as writer:\n",
    "                df[['Average_Return']].to_excel(writer, sheet_name='Average_Monthly_Returns')\n",
    "\n",
    "            print(f\"Average monthly returns for folder {foldername} have been saved to {output_file}.\")\n",
    "\n",
    "        except Exception as e:\n",
    "            print(f\"Error processing file {file_path}: {e}\")\n"
   ]
  },
  {
   "cell_type": "code",
   "execution_count": 2,
   "id": "c27646fb-787c-46ad-9c13-e0e500d31109",
   "metadata": {
    "scrolled": true
   },
   "outputs": [
    {
     "name": "stdout",
     "output_type": "stream",
     "text": [
      "Updated column name for folder C:/Users/Admin/Desktop/test2/backtest_results.\n"
     ]
    }
   ],
   "source": [
    "import pandas as pd\n",
    "import os\n",
    "\n",
    "# 定义包含所有子文件夹的根目录路径\n",
    "root_directory = 'C:/Users/Admin/Desktop/test2/backtest_results'  # 替换为你的实际目录路径\n",
    "\n",
    "# 遍历根目录中的所有文件夹\n",
    "for foldername, subfolders, filenames in os.walk(root_directory):\n",
    "    # 检查文件夹中是否存在 'combined_monthly_returns.xlsx' 文件\n",
    "    if 'average_monthly_returns.xlsx' in filenames:\n",
    "        file_path = os.path.join(foldername, 'average_monthly_returns.xlsx')\n",
    "        \n",
    "        # 获取当前文件夹的名称\n",
    "        folder_name = os.path.basename(foldername)  # 文件夹名称\n",
    "        \n",
    "        try:\n",
    "            # 读取当前文件夹中的 Excel 文件\n",
    "            df = pd.read_excel(file_path, sheet_name='Average_Monthly_Returns')\n",
    "\n",
    "            # 将 'Average_Return' 列的名称修改为文件夹名称\n",
    "            df.rename(columns={'Average_Return': folder_name}, inplace=True)\n",
    "\n",
    "            # 保存修改后的文件\n",
    "            with pd.ExcelWriter(file_path) as writer:\n",
    "                df.to_excel(writer, sheet_name='Average_Monthly_Returns', index=False)\n",
    "\n",
    "            print(f\"Updated column name for folder {foldername}.\")\n",
    "\n",
    "        except Exception as e:\n",
    "            print(f\"Error processing file {file_path}: {e}\")\n"
   ]
  },
  {
   "cell_type": "code",
   "execution_count": 3,
   "id": "94fbfbc4-e98e-4641-af51-11aa963eccb5",
   "metadata": {
    "scrolled": true
   },
   "outputs": [
    {
     "name": "stdout",
     "output_type": "stream",
     "text": [
      "Added data from folder C:/Users/Admin/Desktop/test2/backtest_results.\n",
      "All monthly returns have been combined and saved to C:/Users/Admin/Desktop/test2/combined_monthly_returns_all_folders.xlsx.\n"
     ]
    }
   ],
   "source": [
    "import pandas as pd\n",
    "import os\n",
    "\n",
    "# 定义包含所有子文件夹的根目录路径\n",
    "root_directory = 'C:/Users/Admin/Desktop/test2/backtest_results'  # 替换为你的实际目录路径\n",
    "output_file = 'C:/Users/Admin/Desktop/test2/combined_monthly_returns_all_folders.xlsx'  # 最终合并的 Excel 文件\n",
    "\n",
    "# 创建一个空的 DataFrame 来存储合并后的数据\n",
    "combined_df = pd.DataFrame()\n",
    "\n",
    "# 遍历根目录中的所有文件夹\n",
    "for foldername, subfolders, filenames in os.walk(root_directory):\n",
    "    # 检查文件夹中是否存在 'average_monthly_returns.xlsx' 文件\n",
    "    if 'average_monthly_returns.xlsx' in filenames:\n",
    "        file_path = os.path.join(foldername, 'average_monthly_returns.xlsx')\n",
    "        \n",
    "        try:\n",
    "            # 读取当前文件夹中的 Excel 文件\n",
    "            df = pd.read_excel(file_path)\n",
    "\n",
    "            # 确保 'Date' 列为索引列（如果还没有）\n",
    "            if 'Date' in df.columns:\n",
    "                df.set_index('Date', inplace=True)\n",
    "\n",
    "            # 合并到总的 DataFrame 中，将日期索引对齐\n",
    "            combined_df = pd.concat([combined_df, df], axis=1)\n",
    "\n",
    "            print(f\"Added data from folder {foldername}.\")\n",
    "\n",
    "        except Exception as e:\n",
    "            print(f\"Error processing file {file_path}: {e}\")\n",
    "\n",
    "# 保存合并后的结果到一个 Excel 文件中\n",
    "with pd.ExcelWriter(output_file) as writer:\n",
    "    combined_df.to_excel(writer, sheet_name='Combined_Monthly_Returns')\n",
    "\n",
    "print(f\"All monthly returns have been combined and saved to {output_file}.\")\n"
   ]
  },
  {
   "cell_type": "code",
   "execution_count": null,
   "id": "5b643038-996a-41bd-b446-42299fbfbca4",
   "metadata": {},
   "outputs": [],
   "source": []
  }
 ],
 "metadata": {
  "kernelspec": {
   "display_name": "Python 3 (ipykernel)",
   "language": "python",
   "name": "python3"
  },
  "language_info": {
   "codemirror_mode": {
    "name": "ipython",
    "version": 3
   },
   "file_extension": ".py",
   "mimetype": "text/x-python",
   "name": "python",
   "nbconvert_exporter": "python",
   "pygments_lexer": "ipython3",
   "version": "3.9.18"
  }
 },
 "nbformat": 4,
 "nbformat_minor": 5
}
