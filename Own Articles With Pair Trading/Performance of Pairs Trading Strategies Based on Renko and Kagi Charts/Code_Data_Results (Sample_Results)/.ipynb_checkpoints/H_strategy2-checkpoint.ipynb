{
 "cells": [
  {
   "cell_type": "markdown",
   "id": "33eff95d",
   "metadata": {},
   "source": [
    "* Reference: __Pairs trading based on statistical variability of the spread process.__ by _Bogomolov T._"
   ]
  },
  {
   "cell_type": "markdown",
   "id": "ed4a8377",
   "metadata": {},
   "source": [
    "# H-Strategy"
   ]
  },
  {
   "cell_type": "markdown",
   "id": "above-dictionary",
   "metadata": {},
   "source": [
    "## Introduction\n",
    "\n",
    "This notebook demonstrates an implementation of the strategy described in [Bogomolov, T. (2013). Pairs trading based on statistical variability of the spread process.](https://www.researchgate.net/publication/263339291_Pairs_trading_based_on_statistical_variability_of_the_spread_process)\n",
    "\n",
    "In this paper, author proposes a novel approach to pairs trading based on the idea of Renko and Kagi charts. This approach exploits statistical information about the variability of the tradable process. There is no need for complicated mathematical derivations, and no strict assumptions have to be made regarding the spread price properties. The trading strategy based on Renko and Kagi models is built on defining how far the process should move in one direction from the turning point before trading in the opposite direction becomes potentially profitable by measuring the variability of the process."
   ]
  },
  {
   "cell_type": "markdown",
   "id": "unable-product",
   "metadata": {},
   "source": [
    "## H-construction\n",
    "\n",
    "Suppose $P(t)$ is a continuous time series on the time interval $[0, T]$.\n",
    "\n",
    "### Renko construction\n",
    "\n",
    "#### Step 1: Generate the Renko Process\n",
    "The Renko process $X(i)$ is defined as,\n",
    "\n",
    "$X(i) : X(i) = P(\\tau_i)$, $i = 0, 1, ..., N$,\n",
    "\n",
    "where $\\tau_i$, $i = 0, 1, ..., N$ is an increasing sequence of time moments such that for some arbitrary $H > 0$, $\\tau_0 = 0$ and $P(\\tau_0) = P(0)$,\n",
    "\n",
    "$H \\leq \\max \\limits_{t \\in [0,T]} P(t) - \\min \\limits_{t \\in [0,T]} P(t)$,\n",
    "\n",
    "$\\tau_i = inf\\{u \\in [\\tau_{i - 1}, T] : |P(u) − P(\\tau_{i - 1})| = H\\}$.\n",
    "\n",
    "#### Step 2: Determine Turning Points\n",
    "\n",
    "We create another sequence of time moments $\\{(\\tau^a_n, \\tau^b_n), n = 0, 1, ..., M\\}$ based on the\n",
    "sequence ${\\tau_i}$. The sequence $\\{\\tau^a_n\\}$ defines time moments when the renko process $X(i)$ has a local\n",
    "maximum or minimum, that is the process $X(i) = P(\\tau_i)$ changes its direction, and the sequence\n",
    "$\\{\\tau^b_n\\}$ defines the time moments when the local maximum or minimum is detected.\n",
    "\n",
    "More precisely, when take $\\tau^a_0 = \\tau_0$ and $\\tau^b_0 = \\tau_1$ then\n",
    "\n",
    "$\\tau^b_n = min\\{\\tau_i > \\tau^b_{n-1}: (P(\\tau_i) − P(\\tau_{i-1}))(P(\\tau_{i-1}) − P(\\tau_{i-2})) < 0\\}$, \n",
    "\n",
    "$\\tau^a_n = \\{\\tau_{i - 1} : \\tau^b_n = \\tau_i\\}$.\n",
    "\n",
    "### Kagi construction\n",
    "\n",
    "The Kagi construction is similar to the Renko construction with the only difference being that to create the sequence of time moments $\\{(\\tau^a_n, \\tau^b_n), n = 0, 1, ..., M\\}$ for the Kagi construction we use local maximums and minimums of the process $P(t)$ rather than the process $X(i)$ derived from it.\n",
    "\n",
    "The sequence $\\{\\tau^a_n\\}$ then defines the time moments when the price process $P(t)$ has a local maximum or minimum and the sequence $\\{\\tau^b_n\\}$ defines the time moments when that local maximum or minimum is recognized, which is the time when the process $P(t)$ moves away from its last local maximum or minimum by a distance equal to $H$.\n",
    "\n",
    "More precisely, $\\tau^a_0$, $\\tau^b_0$ and $S_0$ is defined as,\n",
    "\n",
    "$\\tau^b_0 = inf\\{u \\in [0, T] : \\max \\limits_{t \\in [0,u]} P(t) − \\min \\limits_{t \\in [0,u]} P(t) = H\\}$,\n",
    "\n",
    "$\\tau^a_0 = inf\\{u < \\tau^b_0: |P(u) − P(\\tau^b_0)| = H\\}$,\n",
    "\n",
    "$S_0 = sign(P(\\tau^a_0) − P(\\tau^b_0))$,\n",
    "\n",
    "where $S_0$ can take two values: $1$ for a local maximum and $−1$ for a local minimum.\n",
    "\n",
    "Then we define $(\\tau^a_n, \\tau^b_n)$, $n > 0$ recursively. The construction of the full sequence $\\{(\\tau^a_n, \\tau^b_n), n = 0, 1, ..., M\\}$ is done inductively by alternating the following cases.\n",
    "\n",
    "$Case\\ 1: \\ \\ S_{n-1} = -1$\n",
    "\n",
    "if $S_{n-1} = -1$, then $\\tau^a_n, \\tau^b_n$ and $S_n$ is defined as,\n",
    "\n",
    "$\\tau^b_n = inf\\{u \\in [\\tau^a_{n-1}, T] : P(u) − \\min \\limits_{t \\in [\\tau^a_{n-1}\\ \\ ,\\ u]} P(t) = H\\}$,\n",
    "\n",
    "$\\tau^a_n = inf\\{u < \\tau^b_n: P(u) = \\min \\limits_{t \\in [\\tau^a_{n-1}\\ \\ ,\\ \\tau^b_n]} P(t)\\}$,\n",
    "\n",
    "$S_n = 1$.\n",
    "\n",
    "\n",
    "$Case\\ 2: \\ \\ S_{n-1} = 1$\n",
    "\n",
    "if $S_{n-1} = 1$, then $\\tau^a_n, \\tau^b_n$ and $S_n$ is defined as,\n",
    "\n",
    "$\\tau^b_n = inf\\{u \\in [\\tau^a_{n-1}, T] : \\max \\limits_{t \\in [\\tau^a_{n-1}\\ \\ ,\\ u]} P(t) - P(u) = H\\}$,\n",
    "\n",
    "$\\tau^a_n = inf\\{u < \\tau^b_n: P(u) = \\max \\limits_{t \\in [\\tau^a_{n-1}\\ \\ ,\\ \\tau^b_n]} P(t)\\}$,\n",
    "\n",
    "$S_n = -1$."
   ]
  },
  {
   "cell_type": "markdown",
   "id": "developed-pulse",
   "metadata": {},
   "source": [
    "## H-statistics\n",
    "\n",
    "### H-inversion\n",
    "\n",
    "H-inversion counts the number of times the process $P(t)$ changes its direction for selected $H$, $T$ and $P(t)$. It is straightforward that mean-reverting processes tend to have higher H-inversions, so when we are choosing which pair of assets to trade, the level of H-inversion of their spread is a good metric to use. The higher the H-inversion, the more pair is suitable for a mean-reverting strategy.\n",
    "\n",
    "Formally, it is calculated as\n",
    "\n",
    "$N_T (H, P) = \\max \\{n : \\tau^{b}_{n} = T\\} = N$,\n",
    "\n",
    "where $H$ denotes the threshold of the H-construction, and $P$ dnotes the process $P(t)$.\n",
    "\n",
    "### H-distances\n",
    "\n",
    "H-distances counts the sum of vertical distances between local maximums and minimums to the power $p$.\n",
    "\n",
    "It is calculated as\n",
    "\n",
    "$V^p_T (H, P) = \\sum_{n = 1}^{N}|P(\\tau^a_n) − P(\\tau^a_{n−1})|^p$.\n",
    "\n",
    "### H-volatility\n",
    "\n",
    "H-volatility of order p measures the variability of the process $P(t)$ for selected $H$ and $T$. We can see from the formula that the H-volatility calculates the average distance between adjacent turning points. If the H-volatility is high, the process tends to move in the same direction for a significant amount before turning its direction. Therefore, it’s better to pick a pair with lower H-volatility to be used in a pairs trading strategy.\n",
    "\n",
    "It is calculated as\n",
    "\n",
    "$\\xi^p_T = {V^p_T (H, P)}/{N_T (H, P)}$."
   ]
  },
  {
   "cell_type": "markdown",
   "id": "further-antibody",
   "metadata": {},
   "source": [
    "## Strategies\n",
    "\n",
    "### Momentum Strategy\n",
    "\n",
    "The investor buys (sells) an asset at a stopping time $\\tau^b_n$ when he or she recognizes that the process passed its previous local minimum\n",
    "(maximum) and the investor expects a continuation of the movement. The signal $s_t$ is given by\n",
    "\n",
    "$s_t = \\left\\{\\begin{array}{l}\n",
    "+1,\\ if\\ t = \\tau^b_n\\ and\\ P(\\tau^b_n) - P(\\tau^a_n) > 0\\\\\n",
    "-1,\\ if\\ t = \\tau^b_n\\ and\\ P(\\tau^b_n) - P(\\tau^a_n) < 0\\\\\n",
    "0,\\ otherwise\n",
    "\\end{array}\\right.$\n",
    "\n",
    "where $+1$ indicates $opening\\ a\\ long\\ trade\\ or\\ closing\\ a\\ short\\ trade$, $-1$ indicates $opening\\ a\\ short\\ trade\\ or\\ closing\\ a\\ long\\ trade$ and $0$ indicates $holding\\ the\\ previous\\ position$.\n",
    "\n",
    "The profit from one trade according to the momentum H-strategy over time from $\\tau^b_{n−1}$ to $\\tau^b_{n}$ is\n",
    "\n",
    "$Y_{\\tau^b_n} = (P(\\tau^b_n) − P(\\tau^b_{n−1})) · sign(P(\\tau^a_n) − P(\\tau^a_{n−1}))$\n",
    "\n",
    "and the total profit from time $0$ till time $T$ is\n",
    "\n",
    "$Y_T(H, P) = (\\xi^1_T (H, P) − 2H) \\cdot N_T (H, P)$\n",
    "\n",
    "### Contrarian Strategy\n",
    "\n",
    "The investor sells (buys) an asset at a stopping time $\\tau^b_n$ when he or she decides that the process has passed far enough from its previous local minimum\n",
    "(maximum), and the investor expects a movement reversion. The signal $s_t$ is given by\n",
    "\n",
    "$s_t = \\left\\{\\begin{array}{l}\n",
    "+1,\\ if\\ t = \\tau^b_n\\ and\\ P(\\tau^b_n) - P(\\tau^a_n) < 0\\\\\n",
    "-1,\\ if\\ t = \\tau^b_n\\ and\\ P(\\tau^b_n) - P(\\tau^a_n) > 0\\\\\n",
    "0,\\ otherwise\n",
    "\\end{array}\\right.$\n",
    "\n",
    "where $+1$ indicates $opening\\ a\\ long\\ trade\\ or\\ closing\\ a\\ short\\ trade$, $-1$ indicates $opening\\ a\\ short\\ trade\\ or\\ closing\\ a\\ long\\ trade$ and $0$ indicates $holding\\ the\\ previous\\ position$.\n",
    "\n",
    "The profit from one trade according to the momentum H-strategy over time from $\\tau^b_{n−1}$ to $\\tau^b_{n}$ is\n",
    "\n",
    "$Y_{\\tau^b_n} = (P(\\tau^b_n) − P(\\tau^b_{n−1})) · sign(P(\\tau^a_{n−1}) - P(\\tau^a_n))$,\n",
    "\n",
    "and the total profit from time $0$ till time $T$ is\n",
    "\n",
    "$Y_T(H, P) = (2H - \\xi^1_T (H, P)) \\cdot N_T (H, P)$.\n",
    "\n",
    "### Properties\n",
    "\n",
    "It is clear that the choice of H-strategy depends on the value of H-volatility. if $\\xi^1_T > 2H$, then to achieve a positive profit the investor should\n",
    "employ a momentum H -strategy; if $\\xi^1_T < 2H$ then the investor should use a contrarian H-strategy.\n",
    "\n",
    "Suppose $P(t)$ follows the Wiener process, the H-volatility $\\xi^1_T = 2H$. As a result, it is impossible to profit from the trading on the process $P(t)$. We can also see that H-volatility $\\xi^1_T = 2H$ is a property of a martingale. Likewise $\\xi^1_T > 2H$ could be a property of a sub-martingale or a super-martingale or a process regularly switching over time from a sub-martingale to a super-martingale and back.\n",
    "\n",
    "In the reference paper, the author proposes that for any mean-reverting process, regardless of its distribution, the H-volatility is less than $2H$. Hence, theoretically, trading the mean-reverting process by the contrarian H-strategy is profitable for any choice of $H$."
   ]
  },
  {
   "cell_type": "markdown",
   "id": "bulgarian-eating",
   "metadata": {},
   "source": [
    "## Pairs Selection\n",
    "- Purpose: Select trading pairs from the assets pool by using the properties of the H-construction.\n",
    "- Algorithm:\n",
    "    - Determine the assets pool and the length of historical data.\n",
    "    - Take log-prices of all assets based on the history, combine them in all possible pairs and build spread process for each pair.\n",
    "        - $spread_{ij} = log(P_i) - log(P_j)$\n",
    "    - For each spread process, calculate its standard deviation, and set it as the threshold of the H-construction.\n",
    "    - Determine the construction type of the H-construction.\n",
    "        - It could be either Renko or Kagi.\n",
    "    - Build the H-construction on the spread series formed by each possible pairs.\n",
    "    - The top N pairs with the highest/lowest H-inversion are used for pairs trading.\n",
    "        - Mean-reverting process tends to have higher H-inversion."
   ]
  },
  {
   "cell_type": "code",
   "execution_count": 1,
   "id": "treated-skirt",
   "metadata": {},
   "outputs": [],
   "source": [
    "import os\n",
    "\n",
    "import pandas as pd\n",
    "import numpy as np\n",
    "import matplotlib.pyplot as plt\n",
    "import yfinance as yf\n",
    "\n",
    "from h_strategy import HConstruction\n",
    "from h_strategy import HSelection"
   ]
  },
  {
   "cell_type": "markdown",
   "id": "australian-outreach",
   "metadata": {},
   "source": [
    "## Pairs Trading Backtesting Example\n",
    "\n",
    "### Pairs Selection\n",
    "- Frequency: Reselect every six months.\n",
    "- H-selection parameters: \n",
    "    - Assets pool: S&P 500 Components, updated at the beginning of each year.\n",
    "    - The length of historical data: 12-month history.\n",
    "    - Construction type: Kagi\n",
    "    - Selection: The top 20 pairs with the highest H-inversion.\n",
    "    \n",
    "### Trading Strategy\n",
    "- Construction type: Kagi\n",
    "- Signals type: contrarian.\n",
    "- Trading period: Start trading all pairs from the first day of the trading period and constantly stay in the market for up to six months.\n",
    "\n",
    "### Others\n",
    "- Backtesting interval: 2005/01/01 ~ 2011/01/01\n",
    "- Transaction costs: 0.2% per trade for the pair and about 0.4% per round trip for the pair."
   ]
  },
  {
   "cell_type": "code",
   "execution_count": 2,
   "id": "employed-syracuse",
   "metadata": {},
   "outputs": [
    {
     "name": "stdout",
     "output_type": "stream",
     "text": [
      "Training: 1995-01-01 ~ 1996-01-01 Testing: 1996-01-01 ~ 1996-07-01\n",
      "Training: 1995-07-01 ~ 1996-07-01 Testing: 1996-07-01 ~ 1997-01-01\n",
      "Training: 1996-01-01 ~ 1997-01-01 Testing: 1997-01-01 ~ 1997-07-01\n",
      "Training: 1996-07-01 ~ 1997-07-01 Testing: 1997-07-01 ~ 1998-01-01\n",
      "Training: 1997-01-01 ~ 1998-01-01 Testing: 1998-01-01 ~ 1998-07-01\n"
     ]
    }
   ],
   "source": [
    "# Getting the date of the first day of each quarter\n",
    "dates = pd.date_range(\"1995-01-01\", \"2024-07-01\", freq = \"QS\")\n",
    "\n",
    "# Setting parameters for getting training and testing intervals\n",
    "interval = 4\n",
    "overlap = 2\n",
    "\n",
    "train_date = []\n",
    "test_date = []\n",
    "\n",
    "# Determining training and testing intervals\n",
    "i = 0\n",
    "while i < len(dates) - interval - overlap:\n",
    "    trd = (dates[i].date(), dates[i + interval].date())\n",
    "    tsd = (dates[i + interval].date(), dates[i + interval + overlap].date())\n",
    "    \n",
    "    train_date.append(trd)\n",
    "    test_date.append(tsd)\n",
    "    \n",
    "    i += 2\n",
    "    \n",
    "# Printing out some of the training and testing intervals\n",
    "for train, test in zip(train_date[:5], test_date[:5]):\n",
    "    print(\"Training:\", train[0], \"~\", train[1], \"Testing:\", test[0], \"~\", test[1])"
   ]
  },
  {
   "cell_type": "code",
   "execution_count": 3,
   "id": "expensive-fiction",
   "metadata": {},
   "outputs": [],
   "source": [
    "# Getting data path\n",
    "root_path = os.path.abspath(os.path.join(os.getcwd(), os.pardir))\n",
    "path_1 = os.path.join(root_path, \"test2\", \"S&P 500_Components.csv\")\n",
    "path_2 = os.path.join(root_path, \"test2\", \"sp500_adj_close_prices.csv\")"
   ]
  },
  {
   "cell_type": "code",
   "execution_count": 4,
   "id": "horizontal-service",
   "metadata": {},
   "outputs": [],
   "source": [
    "# Reading data\n",
    "components = pd.read_csv(path_1, index_col = 0)\n",
    "components.columns = components.columns.astype(str)\n",
    "data_df = pd.read_csv(path_2, index_col = 0)\n",
    "data_df.index = pd.to_datetime(data_df.index)\n",
    "tickers_with_data = list(data_df.columns)"
   ]
  },
  {
   "cell_type": "code",
   "execution_count": 5,
   "id": "confused-former",
   "metadata": {},
   "outputs": [],
   "source": [
    "def cal_daily_returns(price_data, position):\n",
    "    cum_return = position*(price_data - price_data.iloc[0])/price_data.iloc[0]\n",
    "    daily_returns = (cum_return + 1).pct_change().dropna()\n",
    "    return daily_returns"
   ]
  },
  {
   "cell_type": "code",
   "execution_count": 6,
   "id": "ceramic-possibility",
   "metadata": {
    "scrolled": true
   },
   "outputs": [
    {
     "name": "stderr",
     "output_type": "stream",
     "text": [
      "100%|██████████████████████████████████████████████████████████████████████████████| 9316/9316 [03:16<00:00, 47.31it/s]\n"
     ]
    },
    {
     "name": "stdout",
     "output_type": "stream",
     "text": [
      "Training: 1995-01-01 ~ 1996-01-01\n",
      "Testing: 1996-01-01 ~ 1996-07-01\n"
     ]
    },
    {
     "name": "stderr",
     "output_type": "stream",
     "text": [
      "100%|██████████████████████████████████████████████████████████████████████████████| 9316/9316 [03:21<00:00, 46.26it/s]\n"
     ]
    },
    {
     "name": "stdout",
     "output_type": "stream",
     "text": [
      "Training: 1995-07-01 ~ 1996-07-01\n",
      "Testing: 1996-07-01 ~ 1997-01-01\n"
     ]
    },
    {
     "name": "stderr",
     "output_type": "stream",
     "text": [
      "100%|████████████████████████████████████████████████████████████████████████████| 10878/10878 [03:12<00:00, 56.40it/s]\n"
     ]
    },
    {
     "name": "stdout",
     "output_type": "stream",
     "text": [
      "Training: 1996-01-01 ~ 1997-01-01\n",
      "Testing: 1997-01-01 ~ 1997-07-01\n"
     ]
    },
    {
     "name": "stderr",
     "output_type": "stream",
     "text": [
      "100%|████████████████████████████████████████████████████████████████████████████| 10878/10878 [03:43<00:00, 48.63it/s]\n"
     ]
    },
    {
     "name": "stdout",
     "output_type": "stream",
     "text": [
      "Training: 1996-07-01 ~ 1997-07-01\n",
      "Testing: 1997-07-01 ~ 1998-01-01\n"
     ]
    },
    {
     "name": "stderr",
     "output_type": "stream",
     "text": [
      "100%|████████████████████████████████████████████████████████████████████████████| 11325/11325 [03:51<00:00, 48.83it/s]\n"
     ]
    },
    {
     "name": "stdout",
     "output_type": "stream",
     "text": [
      "Training: 1997-01-01 ~ 1998-01-01\n",
      "Testing: 1998-01-01 ~ 1998-07-01\n"
     ]
    },
    {
     "name": "stderr",
     "output_type": "stream",
     "text": [
      "100%|███████████████████████████████████████████████████████████████████████████| 11325/11325 [01:50<00:00, 102.40it/s]\n"
     ]
    },
    {
     "name": "stdout",
     "output_type": "stream",
     "text": [
      "Training: 1997-07-01 ~ 1998-07-01\n",
      "Testing: 1998-07-01 ~ 1999-01-01\n"
     ]
    },
    {
     "name": "stderr",
     "output_type": "stream",
     "text": [
      "100%|███████████████████████████████████████████████████████████████████████████| 13695/13695 [02:03<00:00, 110.88it/s]\n"
     ]
    },
    {
     "name": "stdout",
     "output_type": "stream",
     "text": [
      "Training: 1998-01-01 ~ 1999-01-01\n",
      "Testing: 1999-01-01 ~ 1999-07-01\n"
     ]
    },
    {
     "name": "stderr",
     "output_type": "stream",
     "text": [
      "100%|███████████████████████████████████████████████████████████████████████████| 13695/13695 [01:44<00:00, 131.49it/s]\n"
     ]
    },
    {
     "name": "stdout",
     "output_type": "stream",
     "text": [
      "Training: 1998-07-01 ~ 1999-07-01\n",
      "Testing: 1999-07-01 ~ 2000-01-01\n"
     ]
    },
    {
     "name": "stderr",
     "output_type": "stream",
     "text": [
      "100%|███████████████████████████████████████████████████████████████████████████| 15753/15753 [01:52<00:00, 139.68it/s]\n"
     ]
    },
    {
     "name": "stdout",
     "output_type": "stream",
     "text": [
      "Training: 1999-01-01 ~ 2000-01-01\n",
      "Testing: 2000-01-01 ~ 2000-07-01\n"
     ]
    },
    {
     "name": "stderr",
     "output_type": "stream",
     "text": [
      "100%|███████████████████████████████████████████████████████████████████████████| 15753/15753 [02:32<00:00, 103.39it/s]\n"
     ]
    },
    {
     "name": "stdout",
     "output_type": "stream",
     "text": [
      "Training: 1999-07-01 ~ 2000-07-01\n",
      "Testing: 2000-07-01 ~ 2001-01-01\n"
     ]
    },
    {
     "name": "stderr",
     "output_type": "stream",
     "text": [
      "100%|███████████████████████████████████████████████████████████████████████████| 17766/17766 [02:10<00:00, 135.62it/s]\n"
     ]
    },
    {
     "name": "stdout",
     "output_type": "stream",
     "text": [
      "Training: 2000-01-01 ~ 2001-01-01\n",
      "Testing: 2001-01-01 ~ 2001-07-01\n"
     ]
    },
    {
     "name": "stderr",
     "output_type": "stream",
     "text": [
      "100%|███████████████████████████████████████████████████████████████████████████| 17766/17766 [02:10<00:00, 135.71it/s]\n"
     ]
    },
    {
     "name": "stdout",
     "output_type": "stream",
     "text": [
      "Training: 2000-07-01 ~ 2001-07-01\n",
      "Testing: 2001-07-01 ~ 2002-01-01\n"
     ]
    },
    {
     "name": "stderr",
     "output_type": "stream",
     "text": [
      "100%|███████████████████████████████████████████████████████████████████████████| 19306/19306 [01:51<00:00, 172.83it/s]\n"
     ]
    },
    {
     "name": "stdout",
     "output_type": "stream",
     "text": [
      "Training: 2001-01-01 ~ 2002-01-01\n",
      "Testing: 2002-01-01 ~ 2002-07-01\n"
     ]
    },
    {
     "name": "stderr",
     "output_type": "stream",
     "text": [
      "100%|███████████████████████████████████████████████████████████████████████████| 19306/19306 [02:15<00:00, 142.67it/s]\n"
     ]
    },
    {
     "name": "stdout",
     "output_type": "stream",
     "text": [
      "Training: 2001-07-01 ~ 2002-07-01\n",
      "Testing: 2002-07-01 ~ 2003-01-01\n"
     ]
    },
    {
     "name": "stderr",
     "output_type": "stream",
     "text": [
      "100%|███████████████████████████████████████████████████████████████████████████| 19900/19900 [02:57<00:00, 112.27it/s]\n"
     ]
    },
    {
     "name": "stdout",
     "output_type": "stream",
     "text": [
      "Training: 2002-01-01 ~ 2003-01-01\n",
      "Testing: 2003-01-01 ~ 2003-07-01\n"
     ]
    },
    {
     "name": "stderr",
     "output_type": "stream",
     "text": [
      "100%|███████████████████████████████████████████████████████████████████████████| 19900/19900 [01:55<00:00, 172.06it/s]\n"
     ]
    },
    {
     "name": "stdout",
     "output_type": "stream",
     "text": [
      "Training: 2002-07-01 ~ 2003-07-01\n",
      "Testing: 2003-07-01 ~ 2004-01-01\n"
     ]
    },
    {
     "name": "stderr",
     "output_type": "stream",
     "text": [
      "100%|███████████████████████████████████████████████████████████████████████████| 21945/21945 [02:23<00:00, 152.49it/s]\n"
     ]
    },
    {
     "name": "stdout",
     "output_type": "stream",
     "text": [
      "Training: 2003-01-01 ~ 2004-01-01\n",
      "Testing: 2004-01-01 ~ 2004-07-01\n"
     ]
    },
    {
     "name": "stderr",
     "output_type": "stream",
     "text": [
      "100%|███████████████████████████████████████████████████████████████████████████| 21945/21945 [02:23<00:00, 152.41it/s]\n"
     ]
    },
    {
     "name": "stdout",
     "output_type": "stream",
     "text": [
      "Training: 2003-07-01 ~ 2004-07-01\n",
      "Testing: 2004-07-01 ~ 2005-01-01\n"
     ]
    },
    {
     "name": "stderr",
     "output_type": "stream",
     "text": [
      "100%|███████████████████████████████████████████████████████████████████████████| 22366/22366 [02:48<00:00, 132.73it/s]\n"
     ]
    },
    {
     "name": "stdout",
     "output_type": "stream",
     "text": [
      "Training: 2004-01-01 ~ 2005-01-01\n",
      "Testing: 2005-01-01 ~ 2005-07-01\n"
     ]
    },
    {
     "name": "stderr",
     "output_type": "stream",
     "text": [
      "100%|███████████████████████████████████████████████████████████████████████████| 22366/22366 [02:55<00:00, 127.40it/s]\n"
     ]
    },
    {
     "name": "stdout",
     "output_type": "stream",
     "text": [
      "Training: 2004-07-01 ~ 2005-07-01\n",
      "Testing: 2005-07-01 ~ 2006-01-01\n"
     ]
    },
    {
     "name": "stderr",
     "output_type": "stream",
     "text": [
      "100%|███████████████████████████████████████████████████████████████████████████| 23653/23653 [03:00<00:00, 130.82it/s]\n"
     ]
    },
    {
     "name": "stdout",
     "output_type": "stream",
     "text": [
      "Training: 2005-01-01 ~ 2006-01-01\n",
      "Testing: 2006-01-01 ~ 2006-07-01\n"
     ]
    },
    {
     "name": "stderr",
     "output_type": "stream",
     "text": [
      "100%|███████████████████████████████████████████████████████████████████████████| 23653/23653 [03:04<00:00, 127.91it/s]\n"
     ]
    },
    {
     "name": "stdout",
     "output_type": "stream",
     "text": [
      "Training: 2005-07-01 ~ 2006-07-01\n",
      "Testing: 2006-07-01 ~ 2007-01-01\n"
     ]
    },
    {
     "name": "stderr",
     "output_type": "stream",
     "text": [
      "100%|███████████████████████████████████████████████████████████████████████████| 25200/25200 [03:09<00:00, 132.63it/s]\n"
     ]
    },
    {
     "name": "stdout",
     "output_type": "stream",
     "text": [
      "Training: 2006-01-01 ~ 2007-01-01\n",
      "Testing: 2007-01-01 ~ 2007-07-01\n"
     ]
    },
    {
     "name": "stderr",
     "output_type": "stream",
     "text": [
      "100%|███████████████████████████████████████████████████████████████████████████| 25200/25200 [02:44<00:00, 153.06it/s]\n"
     ]
    },
    {
     "name": "stdout",
     "output_type": "stream",
     "text": [
      "Training: 2006-07-01 ~ 2007-07-01\n",
      "Testing: 2007-07-01 ~ 2008-01-01\n"
     ]
    },
    {
     "name": "stderr",
     "output_type": "stream",
     "text": [
      "100%|███████████████████████████████████████████████████████████████████████████| 27495/27495 [04:23<00:00, 104.17it/s]\n"
     ]
    },
    {
     "name": "stdout",
     "output_type": "stream",
     "text": [
      "Training: 2007-01-01 ~ 2008-01-01\n",
      "Testing: 2008-01-01 ~ 2008-07-01\n"
     ]
    },
    {
     "name": "stderr",
     "output_type": "stream",
     "text": [
      "100%|███████████████████████████████████████████████████████████████████████████| 27495/27495 [04:02<00:00, 113.45it/s]\n"
     ]
    },
    {
     "name": "stdout",
     "output_type": "stream",
     "text": [
      "Training: 2007-07-01 ~ 2008-07-01\n",
      "Testing: 2008-07-01 ~ 2009-01-01\n"
     ]
    },
    {
     "name": "stderr",
     "output_type": "stream",
     "text": [
      "100%|███████████████████████████████████████████████████████████████████████████| 30876/30876 [04:56<00:00, 104.14it/s]\n"
     ]
    },
    {
     "name": "stdout",
     "output_type": "stream",
     "text": [
      "Training: 2008-01-01 ~ 2009-01-01\n",
      "Testing: 2009-01-01 ~ 2009-07-01\n"
     ]
    },
    {
     "name": "stderr",
     "output_type": "stream",
     "text": [
      "100%|███████████████████████████████████████████████████████████████████████████| 30876/30876 [04:19<00:00, 118.92it/s]\n"
     ]
    },
    {
     "name": "stdout",
     "output_type": "stream",
     "text": [
      "Training: 2008-07-01 ~ 2009-07-01\n",
      "Testing: 2009-07-01 ~ 2010-01-01\n"
     ]
    },
    {
     "name": "stderr",
     "output_type": "stream",
     "text": [
      "100%|███████████████████████████████████████████████████████████████████████████| 34980/34980 [03:17<00:00, 177.27it/s]\n"
     ]
    },
    {
     "name": "stdout",
     "output_type": "stream",
     "text": [
      "Training: 2009-01-01 ~ 2010-01-01\n",
      "Testing: 2010-01-01 ~ 2010-07-01\n"
     ]
    },
    {
     "name": "stderr",
     "output_type": "stream",
     "text": [
      "100%|███████████████████████████████████████████████████████████████████████████| 34980/34980 [03:42<00:00, 157.13it/s]\n"
     ]
    },
    {
     "name": "stdout",
     "output_type": "stream",
     "text": [
      "Training: 2009-07-01 ~ 2010-07-01\n",
      "Testing: 2010-07-01 ~ 2011-01-01\n"
     ]
    },
    {
     "name": "stderr",
     "output_type": "stream",
     "text": [
      "100%|███████████████████████████████████████████████████████████████████████████| 38503/38503 [04:41<00:00, 136.60it/s]\n"
     ]
    },
    {
     "name": "stdout",
     "output_type": "stream",
     "text": [
      "Training: 2010-01-01 ~ 2011-01-01\n",
      "Testing: 2011-01-01 ~ 2011-07-01\n"
     ]
    },
    {
     "name": "stderr",
     "output_type": "stream",
     "text": [
      "100%|███████████████████████████████████████████████████████████████████████████| 38503/38503 [04:34<00:00, 140.46it/s]\n"
     ]
    },
    {
     "name": "stdout",
     "output_type": "stream",
     "text": [
      "Training: 2010-07-01 ~ 2011-07-01\n",
      "Testing: 2011-07-01 ~ 2012-01-01\n"
     ]
    },
    {
     "name": "stderr",
     "output_type": "stream",
     "text": [
      "100%|███████████████████████████████████████████████████████████████████████████| 40755/40755 [06:26<00:00, 105.50it/s]\n"
     ]
    },
    {
     "name": "stdout",
     "output_type": "stream",
     "text": [
      "Training: 2011-01-01 ~ 2012-01-01\n",
      "Testing: 2012-01-01 ~ 2012-07-01\n"
     ]
    },
    {
     "name": "stderr",
     "output_type": "stream",
     "text": [
      "100%|███████████████████████████████████████████████████████████████████████████| 40755/40755 [04:57<00:00, 137.14it/s]\n"
     ]
    },
    {
     "name": "stdout",
     "output_type": "stream",
     "text": [
      "Training: 2011-07-01 ~ 2012-07-01\n",
      "Testing: 2012-07-01 ~ 2013-01-01\n"
     ]
    },
    {
     "name": "stderr",
     "output_type": "stream",
     "text": [
      "100%|███████████████████████████████████████████████████████████████████████████| 43660/43660 [05:13<00:00, 139.08it/s]\n"
     ]
    },
    {
     "name": "stdout",
     "output_type": "stream",
     "text": [
      "Training: 2012-01-01 ~ 2013-01-01\n",
      "Testing: 2013-01-01 ~ 2013-07-01\n"
     ]
    },
    {
     "name": "stderr",
     "output_type": "stream",
     "text": [
      "100%|███████████████████████████████████████████████████████████████████████████| 43660/43660 [05:09<00:00, 141.13it/s]\n"
     ]
    },
    {
     "name": "stdout",
     "output_type": "stream",
     "text": [
      "Training: 2012-07-01 ~ 2013-07-01\n",
      "Testing: 2013-07-01 ~ 2014-01-01\n"
     ]
    },
    {
     "name": "stderr",
     "output_type": "stream",
     "text": [
      "100%|███████████████████████████████████████████████████████████████████████████| 46665/46665 [06:51<00:00, 113.48it/s]\n"
     ]
    },
    {
     "name": "stdout",
     "output_type": "stream",
     "text": [
      "Training: 2013-01-01 ~ 2014-01-01\n",
      "Testing: 2014-01-01 ~ 2014-07-01\n"
     ]
    },
    {
     "name": "stderr",
     "output_type": "stream",
     "text": [
      "100%|███████████████████████████████████████████████████████████████████████████| 46665/46665 [05:51<00:00, 132.73it/s]\n"
     ]
    },
    {
     "name": "stdout",
     "output_type": "stream",
     "text": [
      "Training: 2013-07-01 ~ 2014-07-01\n",
      "Testing: 2014-07-01 ~ 2015-01-01\n"
     ]
    },
    {
     "name": "stderr",
     "output_type": "stream",
     "text": [
      "100%|███████████████████████████████████████████████████████████████████████████| 48516/48516 [05:48<00:00, 139.22it/s]\n"
     ]
    },
    {
     "name": "stdout",
     "output_type": "stream",
     "text": [
      "Training: 2014-01-01 ~ 2015-01-01\n",
      "Testing: 2015-01-01 ~ 2015-07-01\n"
     ]
    },
    {
     "name": "stderr",
     "output_type": "stream",
     "text": [
      "100%|███████████████████████████████████████████████████████████████████████████| 48516/48516 [07:21<00:00, 109.77it/s]\n"
     ]
    },
    {
     "name": "stdout",
     "output_type": "stream",
     "text": [
      "Training: 2014-07-01 ~ 2015-07-01\n",
      "Testing: 2015-07-01 ~ 2016-01-01\n"
     ]
    },
    {
     "name": "stderr",
     "output_type": "stream",
     "text": [
      "100%|███████████████████████████████████████████████████████████████████████████| 50721/50721 [07:23<00:00, 114.39it/s]\n"
     ]
    },
    {
     "name": "stdout",
     "output_type": "stream",
     "text": [
      "Training: 2015-01-01 ~ 2016-01-01\n",
      "Testing: 2016-01-01 ~ 2016-07-01\n"
     ]
    },
    {
     "name": "stderr",
     "output_type": "stream",
     "text": [
      "100%|███████████████████████████████████████████████████████████████████████████| 50721/50721 [07:05<00:00, 119.33it/s]\n"
     ]
    },
    {
     "name": "stdout",
     "output_type": "stream",
     "text": [
      "Training: 2015-07-01 ~ 2016-07-01\n",
      "Testing: 2016-07-01 ~ 2017-01-01\n"
     ]
    },
    {
     "name": "stderr",
     "output_type": "stream",
     "text": [
      "100%|███████████████████████████████████████████████████████████████████████████| 55945/55945 [05:40<00:00, 164.16it/s]\n"
     ]
    },
    {
     "name": "stdout",
     "output_type": "stream",
     "text": [
      "Training: 2016-01-01 ~ 2017-01-01\n",
      "Testing: 2017-01-01 ~ 2017-07-01\n"
     ]
    },
    {
     "name": "stderr",
     "output_type": "stream",
     "text": [
      "100%|███████████████████████████████████████████████████████████████████████████| 55945/55945 [07:13<00:00, 129.01it/s]\n"
     ]
    },
    {
     "name": "stdout",
     "output_type": "stream",
     "text": [
      "Training: 2016-07-01 ~ 2017-07-01\n",
      "Testing: 2017-07-01 ~ 2018-01-01\n"
     ]
    },
    {
     "name": "stderr",
     "output_type": "stream",
     "text": [
      "100%|███████████████████████████████████████████████████████████████████████████| 63190/63190 [09:00<00:00, 117.00it/s]\n"
     ]
    },
    {
     "name": "stdout",
     "output_type": "stream",
     "text": [
      "Training: 2017-01-01 ~ 2018-01-01\n",
      "Testing: 2018-01-01 ~ 2018-07-01\n"
     ]
    },
    {
     "name": "stderr",
     "output_type": "stream",
     "text": [
      "100%|████████████████████████████████████████████████████████████████████████████| 63190/63190 [11:35<00:00, 90.88it/s]\n"
     ]
    },
    {
     "name": "stdout",
     "output_type": "stream",
     "text": [
      "Training: 2017-07-01 ~ 2018-07-01\n",
      "Testing: 2018-07-01 ~ 2019-01-01\n"
     ]
    },
    {
     "name": "stderr",
     "output_type": "stream",
     "text": [
      "100%|███████████████████████████████████████████████████████████████████████████| 70876/70876 [09:39<00:00, 122.26it/s]\n"
     ]
    },
    {
     "name": "stdout",
     "output_type": "stream",
     "text": [
      "Training: 2018-01-01 ~ 2019-01-01\n",
      "Testing: 2019-01-01 ~ 2019-07-01\n"
     ]
    },
    {
     "name": "stderr",
     "output_type": "stream",
     "text": [
      "100%|███████████████████████████████████████████████████████████████████████████| 70876/70876 [10:16<00:00, 114.97it/s]\n"
     ]
    },
    {
     "name": "stdout",
     "output_type": "stream",
     "text": [
      "Training: 2018-07-01 ~ 2019-07-01\n",
      "Testing: 2019-07-01 ~ 2020-01-01\n"
     ]
    },
    {
     "name": "stderr",
     "output_type": "stream",
     "text": [
      "100%|███████████████████████████████████████████████████████████████████████████| 75855/75855 [09:24<00:00, 134.36it/s]\n"
     ]
    },
    {
     "name": "stdout",
     "output_type": "stream",
     "text": [
      "Training: 2019-01-01 ~ 2020-01-01\n",
      "Testing: 2020-01-01 ~ 2020-07-01\n"
     ]
    },
    {
     "name": "stderr",
     "output_type": "stream",
     "text": [
      "100%|████████████████████████████████████████████████████████████████████████████| 75855/75855 [19:06<00:00, 66.16it/s]\n"
     ]
    },
    {
     "name": "stdout",
     "output_type": "stream",
     "text": [
      "Training: 2019-07-01 ~ 2020-07-01\n",
      "Testing: 2020-07-01 ~ 2021-01-01\n"
     ]
    },
    {
     "name": "stderr",
     "output_type": "stream",
     "text": [
      "100%|███████████████████████████████████████████████████████████████████████████| 83845/83845 [12:16<00:00, 113.79it/s]\n"
     ]
    },
    {
     "name": "stdout",
     "output_type": "stream",
     "text": [
      "Training: 2020-01-01 ~ 2021-01-01\n",
      "Testing: 2021-01-01 ~ 2021-07-01\n"
     ]
    },
    {
     "name": "stderr",
     "output_type": "stream",
     "text": [
      "100%|███████████████████████████████████████████████████████████████████████████| 83845/83845 [11:09<00:00, 125.28it/s]\n"
     ]
    },
    {
     "name": "stdout",
     "output_type": "stream",
     "text": [
      "Training: 2020-07-01 ~ 2021-07-01\n",
      "Testing: 2021-07-01 ~ 2022-01-01\n"
     ]
    },
    {
     "name": "stderr",
     "output_type": "stream",
     "text": [
      "100%|███████████████████████████████████████████████████████████████████████████| 89676/89676 [09:17<00:00, 160.89it/s]\n"
     ]
    },
    {
     "name": "stdout",
     "output_type": "stream",
     "text": [
      "Training: 2021-01-01 ~ 2022-01-01\n",
      "Testing: 2022-01-01 ~ 2022-07-01\n"
     ]
    },
    {
     "name": "stderr",
     "output_type": "stream",
     "text": [
      "100%|████████████████████████████████████████████████████████████████████████████| 89676/89676 [19:44<00:00, 75.68it/s]\n"
     ]
    },
    {
     "name": "stdout",
     "output_type": "stream",
     "text": [
      "Training: 2021-07-01 ~ 2022-07-01\n",
      "Testing: 2022-07-01 ~ 2023-01-01\n"
     ]
    },
    {
     "name": "stderr",
     "output_type": "stream",
     "text": [
      "100%|███████████████████████████████████████████████████████████████████████████| 89676/89676 [10:30<00:00, 142.20it/s]\n"
     ]
    },
    {
     "name": "stdout",
     "output_type": "stream",
     "text": [
      "Training: 2022-01-01 ~ 2023-01-01\n",
      "Testing: 2023-01-01 ~ 2023-07-01\n"
     ]
    },
    {
     "name": "stderr",
     "output_type": "stream",
     "text": [
      "100%|███████████████████████████████████████████████████████████████████████████| 89676/89676 [11:31<00:00, 129.60it/s]\n"
     ]
    },
    {
     "name": "stdout",
     "output_type": "stream",
     "text": [
      "Training: 2022-07-01 ~ 2023-07-01\n",
      "Testing: 2023-07-01 ~ 2024-01-01\n"
     ]
    },
    {
     "name": "stderr",
     "output_type": "stream",
     "text": [
      "100%|███████████████████████████████████████████████████████████████████████████| 89676/89676 [10:58<00:00, 136.09it/s]\n"
     ]
    },
    {
     "name": "stdout",
     "output_type": "stream",
     "text": [
      "Training: 2023-01-01 ~ 2024-01-01\n",
      "Testing: 2024-01-01 ~ 2024-07-01\n"
     ]
    }
   ],
   "source": [
    "# Setting parameters\n",
    "construction_type = \"Kagi\"\n",
    "signals_type = \"contrarian\"\n",
    "selection_method = \"highest\"\n",
    "transaction_costs = 0.0010\n",
    "num = 20\n",
    "\n",
    "# Creating series for storing backtesting results\n",
    "total_returns = pd.Series(1, index = [test_date[0][0]], dtype = float)\n",
    "total_returns_with_costs = pd.Series(1, index = [test_date[0][0]], dtype = float)\n",
    "total_returns.index = pd.to_datetime(total_returns.index)\n",
    "total_returns_with_costs.index = pd.to_datetime(total_returns_with_costs.index)\n",
    "\n",
    "# Starting backtesting\n",
    "for train, test in zip(train_date, test_date):\n",
    "    train_year = str(train[0].year) # Getting the year of the start of the training interval\n",
    "    tickers = list(components[train_year].dropna()) # Getting S&P 500 components for the year\n",
    "    valid_tickers = list(set(tickers_with_data) & set(tickers)) # Determining which Tickers have historical data\n",
    "    \n",
    "    train_data = data_df[valid_tickers][train[0] : train[1]] # Getting required data for pairs selection\n",
    "    train_data = train_data.dropna(how = \"all\", axis = 0).dropna(how = \"all\", axis = 1)\n",
    "    \n",
    "    # Getting pairs for trading\n",
    "    minimum_length = len(train_data)*0.8\n",
    "    hs = HSelection(train_data, construction_type)\n",
    "    hs.select(minimum_length = minimum_length)\n",
    "    pairs = hs.get_pairs(num, selection_method, False)\n",
    "    \n",
    "    # Creating lists for storing cumulative returns in the test interval for each pair\n",
    "    returns_series_list = []\n",
    "    returns_series_with_costs_list = []\n",
    "    \n",
    "    print(\"Training:\", train[0], \"~\", train[1])\n",
    "    print(\"Testing:\", test[0], \"~\", test[1])\n",
    "    \n",
    "    # Calculating the cumulative returns in the test interval for each pair\n",
    "    for i in pairs:\n",
    "        threshold = i[1] # Getting the threshold of the H-construction\n",
    "        pair_tickers = list(i[2])\n",
    "        pair_data = data_df[pair_tickers][test[0] : test[1]] # Getting required data for backtesting\n",
    "        pair_data = pair_data.dropna(axis = 0).dropna(axis = 1)\n",
    "        \n",
    "        if len(pair_data.columns) < 2:\n",
    "            print(\"data error\")\n",
    "            continue\n",
    "        \n",
    "        series = np.log(pair_data[pair_tickers[0]]) - np.log(pair_data[pair_tickers[1]]) # Constructing spread series\n",
    "        \n",
    "        # 如果 series 是空的，跳过这个 pair\n",
    "        if series.empty:\n",
    "            print(f\"Skipping pair {pair_tickers[0]} and {pair_tickers[1]} due to empty series.\")\n",
    "            continue\n",
    "            \n",
    "        hc = HConstruction(series, threshold, construction_type) # Creating a class object\n",
    "        signals = hc.get_signals(signals_type) # Getting the signals in the test interval\n",
    "        trade_actions = signals[signals != 0] # Getting the actual trade actions (+1 for Open a long trade, -1 for Open a short trade)\n",
    "        trade_dates_interval = [(trade_actions.index[i].date(), trade_actions.index[i + 1].date()) for i in range(len(trade_actions) - 1)] # Getting the intervals between two adjacent trade actions\n",
    "        if len(trade_actions) > 0 and trade_actions.index[-1].date() < test[1]:\n",
    "            trade_dates_interval.append([trade_actions.index[-1].date(), test[1]])\n",
    "            \n",
    "        # Creating series for storing cumulative returns\n",
    "        returns_series = pd.Series(1, index = [test[0]], dtype = float)\n",
    "        returns_series.index = pd.to_datetime(returns_series.index)\n",
    "        returns_series_with_costs = pd.Series(1, index = [test[0]], dtype = float)\n",
    "        returns_series_with_costs.index = pd.to_datetime(returns_series_with_costs.index)\n",
    "        \n",
    "        # Calculating the cumulative returns for each interval between two adjacent trade actions, then connecting them together\n",
    "        for i, j in zip(trade_dates_interval, trade_actions.values):\n",
    "            interval_data = pair_data.loc[i[0]:i[1]].dropna(how = \"all\", axis = 0).dropna(how = \"all\", axis = 1)\n",
    "            if len(interval_data) <= 1:\n",
    "                continue\n",
    "                \n",
    "            daily_returns = interval_data.copy()\n",
    "            daily_returns[pair_tickers[0]] = cal_daily_returns(daily_returns[pair_tickers[0]], j) # if j == 1 (-1), long (short) the first stock and short (long) the second stock\n",
    "            daily_returns[pair_tickers[1]] = cal_daily_returns(daily_returns[pair_tickers[1]], -j)\n",
    "            daily_returns = daily_returns.dropna(how = \"all\", axis = 0).dropna(how = \"all\", axis = 1)\n",
    "            \n",
    "            daily_returns_with_costs = daily_returns.copy()\n",
    "            daily_returns_with_costs.iloc[0] = daily_returns_with_costs.iloc[0] - transaction_costs\n",
    "            daily_returns_with_costs.iloc[-1] = daily_returns_with_costs.iloc[-1] - transaction_costs\n",
    "            \n",
    "            cum_returns = (daily_returns + 1).cumprod().mean(axis = 1) # Assuming we have equal weights at the first day of the interval between two adjacent trade actions\n",
    "            cum_returns_with_costs = (daily_returns_with_costs + 1).cumprod().mean(axis = 1)\n",
    "            returns_series = pd.concat([returns_series, cum_returns*returns_series[-1]])\n",
    "            returns_series_with_costs = pd.concat([returns_series_with_costs, cum_returns_with_costs * returns_series_with_costs[-1]])\n",
    "        \n",
    "        returns_series_list.append(returns_series)\n",
    "        returns_series_with_costs_list.append(returns_series_with_costs)\n",
    "        \n",
    "    pairs_returns = pd.DataFrame(returns_series_list).T.ffill().mean(axis = 1) # Assuming we have equal weights at the first day of the test interval\n",
    "    total_returns = pd.concat([total_returns, pairs_returns*total_returns[-1]])\n",
    "    pairs_returns_with_costs = pd.DataFrame(returns_series_with_costs_list).T.ffill().mean(axis = 1)\n",
    "    total_returns_with_costs = pd.concat([total_returns_with_costs, pairs_returns_with_costs * total_returns_with_costs[-1]])"
   ]
  },
  {
   "cell_type": "code",
   "execution_count": 7,
   "id": "transsexual-think",
   "metadata": {},
   "outputs": [
    {
     "name": "stdout",
     "output_type": "stream",
     "text": [
      "[*********************100%***********************]  1 of 1 completed\n"
     ]
    }
   ],
   "source": [
    "# Getting benckmark\n",
    "start = total_returns.index[0].date().isoformat()\n",
    "end = total_returns.index[-1].date().isoformat()\n",
    "SP500 = yf.download(\"^GSPC\", start=start, end=end)[\"Adj Close\"]"
   ]
  },
  {
   "cell_type": "code",
   "execution_count": 8,
   "id": "reverse-malawi",
   "metadata": {},
   "outputs": [
    {
     "data": {
      "image/png": "[encoded data removed]",
      "text/plain": [
       "<Figure size 1600x1000 with 1 Axes>"
      ]
     },
     "metadata": {},
     "output_type": "display_data"
    }
   ],
   "source": [
    "# Plotting results\n",
    "total_returns.plot(figsize=(16, 10), label = \"Stratrgy\")\n",
    "total_returns_with_costs.plot(label = \"Stratrgy with transaction costs\")\n",
    "(SP500.pct_change() + 1).cumprod().plot(label = \"Benckmark\")\n",
    "plt.legend()\n",
    "plt.show()"
   ]
  },
  {
   "cell_type": "code",
   "execution_count": 9,
   "id": "17667d97-43af-4f27-b754-b800e1309e29",
   "metadata": {},
   "outputs": [
    {
     "data": {
      "text/plain": [
       "1996-01-01    1.000000\n",
       "1996-01-01    1.000000\n",
       "1996-01-04    1.001686\n",
       "1996-01-05    1.002580\n",
       "1996-01-08    1.001355\n",
       "                ...   \n",
       "2024-06-24    5.448809\n",
       "2024-06-25    5.439262\n",
       "2024-06-26    5.457431\n",
       "2024-06-27    5.448319\n",
       "2024-06-28    5.443394\n",
       "Length: 7109, dtype: float64"
      ]
     },
     "execution_count": 9,
     "metadata": {},
     "output_type": "execute_result"
    }
   ],
   "source": [
    "total_returns"
   ]
  },
  {
   "cell_type": "code",
   "execution_count": 11,
   "id": "96c106bb-f058-4d13-9683-775007e7768e",
   "metadata": {},
   "outputs": [
    {
     "name": "stdout",
     "output_type": "stream",
     "text": [
      "数据已保存到 'total_returns.xlsx'\n"
     ]
    }
   ],
   "source": [
    "# 假设 total_returns 是您的 pandas Series 对象\n",
    "output_file = \"total_returns.xlsx\"\n",
    "\n",
    "# 将 total_returns 保存到 Excel 文件\n",
    "total_returns.to_excel(output_file, sheet_name=\"Total Returns\")\n",
    "\n",
    "print(f\"数据已保存到 '{output_file}'\")\n"
   ]
  },
  {
   "cell_type": "code",
   "execution_count": 10,
   "id": "03098922-ff6d-4957-85f8-a79a6a1c1310",
   "metadata": {},
   "outputs": [
    {
     "data": {
      "text/plain": [
       "1996-01-01    1.000000\n",
       "1996-01-01    1.000000\n",
       "1996-01-04    1.001186\n",
       "1996-01-05    1.001579\n",
       "1996-01-08    0.999854\n",
       "                ...   \n",
       "2024-06-24    0.329328\n",
       "2024-06-25    0.328609\n",
       "2024-06-26    0.329619\n",
       "2024-06-27    0.328857\n",
       "2024-06-28    0.327799\n",
       "Length: 7109, dtype: float64"
      ]
     },
     "execution_count": 10,
     "metadata": {},
     "output_type": "execute_result"
    }
   ],
   "source": [
    "total_returns_with_costs"
   ]
  },
  {
   "cell_type": "code",
   "execution_count": 12,
   "id": "eb41ac4c-33cb-4b70-8c80-6fe49b4eb8db",
   "metadata": {},
   "outputs": [
    {
     "name": "stdout",
     "output_type": "stream",
     "text": [
      "数据已保存到 'total_returns_with_costs.xlsx'\n"
     ]
    }
   ],
   "source": [
    "# 假设 total_returns 是您的 pandas Series 对象\n",
    "output_file = \"total_returns_with_costs.xlsx\"\n",
    "\n",
    "# 将 total_returns 保存到 Excel 文件\n",
    "total_returns.to_excel(output_file, sheet_name=\"total_returns_with_costs\")\n",
    "\n",
    "print(f\"数据已保存到 '{output_file}'\")\n"
   ]
  },
  {
   "cell_type": "code",
   "execution_count": null,
   "id": "e1f5d063-30f6-4908-a685-d74ae50ea3b6",
   "metadata": {},
   "outputs": [],
   "source": []
  }
 ],
 "metadata": {
  "kernelspec": {
   "display_name": "Python 3 (ipykernel)",
   "language": "python",
   "name": "python3"
  },
  "language_info": {
   "codemirror_mode": {
    "name": "ipython",
    "version": 3
   },
   "file_extension": ".py",
   "mimetype": "text/x-python",
   "name": "python",
   "nbconvert_exporter": "python",
   "pygments_lexer": "ipython3",
   "version": "3.9.18"
  }
 },
 "nbformat": 4,
 "nbformat_minor": 5
}
