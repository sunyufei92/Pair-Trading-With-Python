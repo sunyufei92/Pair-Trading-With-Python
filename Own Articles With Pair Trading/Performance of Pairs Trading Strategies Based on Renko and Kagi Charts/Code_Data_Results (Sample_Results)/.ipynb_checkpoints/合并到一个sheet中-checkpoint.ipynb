{
 "cells": [
  {
   "cell_type": "code",
   "execution_count": 1,
   "id": "8b990ea1-24b4-4dbe-ad39-d79bcf6ff1d1",
   "metadata": {
    "scrolled": true
   },
   "outputs": [
    {
     "name": "stdout",
     "output_type": "stream",
     "text": [
      "Monthly returns for folder C:/Users/Admin/Desktop/test/backtest_results have been combined and saved to C:/Users/Admin/Desktop/test/backtest_results\\combined_monthly_returns.xlsx.\n"
     ]
    }
   ],
   "source": [
    "import pandas as pd\n",
    "import os\n",
    "\n",
    "# 定义包含所有文件夹的根目录路径\n",
    "root_directory = 'C:/Users/Admin/Desktop/test2/backtest_results'  # 替换为你的实际目录路径\n",
    "\n",
    "# 遍历根目录中的所有文件夹\n",
    "for foldername, subfolders, filenames in os.walk(root_directory):\n",
    "    # 检查文件夹中是否存在 'monthly_returns_summary.xlsx' 文件\n",
    "    if 'monthly_returns_summary.xlsx' in filenames:\n",
    "        file_path = os.path.join(foldername, 'monthly_returns_summary.xlsx')\n",
    "        output_file = os.path.join(foldername, 'combined_monthly_returns.xlsx')  # 输出的文件路径\n",
    "        \n",
    "        try:\n",
    "            # 读取当前文件夹中的 Excel 文件\n",
    "            excel_data = pd.ExcelFile(file_path)\n",
    "\n",
    "            # 创建一个空的 DataFrame 来存储合并后的数据\n",
    "            combined_df = pd.DataFrame()\n",
    "\n",
    "            # 遍历所有工作表\n",
    "            for sheet_name in excel_data.sheet_names:\n",
    "                # 读取当前工作表\n",
    "                df = pd.read_excel(excel_data, sheet_name=sheet_name)\n",
    "\n",
    "                # 确保日期列是日期类型\n",
    "                df['Date'] = pd.to_datetime(df['Date'], errors='coerce')\n",
    "\n",
    "                # 丢弃无效的日期数据行\n",
    "                df.dropna(subset=['Date'], inplace=True)\n",
    "\n",
    "                # 设置日期为索引\n",
    "                df.set_index('Date', inplace=True)\n",
    "\n",
    "                # 为每个数据框的列添加工作表名前缀，以区分不同工作表的数据\n",
    "                df = df.add_prefix(f\"{sheet_name}_\")\n",
    "\n",
    "                # 将当前的 monthly return 数据合并到总的 DataFrame 中\n",
    "                combined_df = pd.concat([combined_df, df], axis=1)\n",
    "\n",
    "            # 按日期排序\n",
    "            combined_df = combined_df.sort_index()\n",
    "\n",
    "            # 保存合并后的结果到当前文件夹中的 Excel 文件\n",
    "            with pd.ExcelWriter(output_file) as writer:\n",
    "                combined_df.to_excel(writer, sheet_name='Combined_Monthly_Returns')\n",
    "\n",
    "            print(f\"Monthly returns for folder {foldername} have been combined and saved to {output_file}.\")\n",
    "\n",
    "        except Exception as e:\n",
    "            print(f\"Error processing file {file_path}: {e}\")\n"
   ]
  },
  {
   "cell_type": "code",
   "execution_count": null,
   "id": "4ad174e2-aa0d-485a-8139-4134ddaae415",
   "metadata": {},
   "outputs": [],
   "source": []
  }
 ],
 "metadata": {
  "kernelspec": {
   "display_name": "Python 3 (ipykernel)",
   "language": "python",
   "name": "python3"
  },
  "language_info": {
   "codemirror_mode": {
    "name": "ipython",
    "version": 3
   },
   "file_extension": ".py",
   "mimetype": "text/x-python",
   "name": "python",
   "nbconvert_exporter": "python",
   "pygments_lexer": "ipython3",
   "version": "3.9.18"
  }
 },
 "nbformat": 4,
 "nbformat_minor": 5
}
