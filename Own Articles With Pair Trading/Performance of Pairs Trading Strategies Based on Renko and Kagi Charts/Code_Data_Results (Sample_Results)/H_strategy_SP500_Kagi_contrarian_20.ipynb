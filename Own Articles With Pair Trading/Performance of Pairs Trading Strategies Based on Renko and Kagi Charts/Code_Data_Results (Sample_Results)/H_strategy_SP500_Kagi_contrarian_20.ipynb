{
 "cells": [
  {
   "cell_type": "code",
   "execution_count": 1,
   "id": "treated-skirt",
   "metadata": {},
   "outputs": [],
   "source": [
    "import os\n",
    "\n",
    "import pandas as pd\n",
    "import numpy as np\n",
    "import matplotlib.pyplot as plt\n",
    "import yfinance as yf\n",
    "\n",
    "from h_strategy import HConstruction\n",
    "from h_strategy import HSelection"
   ]
  },
  {
   "cell_type": "code",
   "execution_count": 2,
   "id": "employed-syracuse",
   "metadata": {},
   "outputs": [
    {
     "name": "stdout",
     "output_type": "stream",
     "text": [
      "Training: 1995-01-01 ~ 1996-01-01 Testing: 1996-01-01 ~ 1996-07-01\n",
      "Training: 1995-07-01 ~ 1996-07-01 Testing: 1996-07-01 ~ 1997-01-01\n",
      "Training: 1996-01-01 ~ 1997-01-01 Testing: 1997-01-01 ~ 1997-07-01\n",
      "Training: 1996-07-01 ~ 1997-07-01 Testing: 1997-07-01 ~ 1998-01-01\n",
      "Training: 1997-01-01 ~ 1998-01-01 Testing: 1998-01-01 ~ 1998-07-01\n"
     ]
    }
   ],
   "source": [
    "# Getting the date of the first day of each quarter\n",
    "dates = pd.date_range(\"1995-01-01\", \"2024-07-01\", freq = \"QS\")\n",
    "\n",
    "# Setting parameters for getting training and testing intervals\n",
    "interval = 4\n",
    "overlap = 2\n",
    "\n",
    "train_date = []\n",
    "test_date = []\n",
    "\n",
    "# Determining training and testing intervals\n",
    "i = 0\n",
    "while i < len(dates) - interval - overlap:\n",
    "    trd = (dates[i].date(), dates[i + interval].date())\n",
    "    tsd = (dates[i + interval].date(), dates[i + interval + overlap].date())\n",
    "    \n",
    "    train_date.append(trd)\n",
    "    test_date.append(tsd)\n",
    "    \n",
    "    i += 2\n",
    "    \n",
    "# Printing out some of the training and testing intervals\n",
    "for train, test in zip(train_date[:5], test_date[:5]):\n",
    "    print(\"Training:\", train[0], \"~\", train[1], \"Testing:\", test[0], \"~\", test[1])"
   ]
  },
  {
   "cell_type": "code",
   "execution_count": 3,
   "id": "expensive-fiction",
   "metadata": {},
   "outputs": [],
   "source": [
    "# Getting data path\n",
    "root_path = os.path.abspath(os.path.join(os.getcwd(), os.pardir))\n",
    "path_1 = os.path.join(root_path, \"SP500_Kagi_contrarian_20\", \"S&P 500_Components.csv\")\n",
    "path_2 = os.path.join(root_path, \"SP500_Kagi_contrarian_20\", \"sp500_adj_close_prices.csv\")"
   ]
  },
  {
   "cell_type": "code",
   "execution_count": 4,
   "id": "horizontal-service",
   "metadata": {},
   "outputs": [],
   "source": [
    "# Reading data\n",
    "components = pd.read_csv(path_1, index_col = 0)\n",
    "components.columns = components.columns.astype(str)\n",
    "data_df = pd.read_csv(path_2, index_col = 0)\n",
    "data_df.index = pd.to_datetime(data_df.index)\n",
    "tickers_with_data = list(data_df.columns)"
   ]
  },
  {
   "cell_type": "code",
   "execution_count": 5,
   "id": "confused-former",
   "metadata": {},
   "outputs": [],
   "source": [
    "def cal_daily_returns(price_data, position):\n",
    "    cum_return = position*(price_data - price_data.iloc[0])/price_data.iloc[0]\n",
    "    daily_returns = (cum_return + 1).pct_change().dropna()\n",
    "    return daily_returns"
   ]
  },
  {
   "cell_type": "code",
   "execution_count": 6,
   "id": "ceramic-possibility",
   "metadata": {
    "scrolled": true
   },
   "outputs": [
    {
     "name": "stderr",
     "output_type": "stream",
     "text": [
      "100%|██████████████████████████████████████████████████████████████████████████████| 9316/9316 [02:06<00:00, 73.52it/s]\n"
     ]
    },
    {
     "name": "stdout",
     "output_type": "stream",
     "text": [
      "Training: 1995-01-01 ~ 1996-01-01\n",
      "Testing: 1996-01-01 ~ 1996-07-01\n"
     ]
    },
    {
     "name": "stderr",
     "output_type": "stream",
     "text": [
      "100%|█████████████████████████████████████████████████████████████████████████████| 9316/9316 [01:32<00:00, 100.66it/s]\n"
     ]
    },
    {
     "name": "stdout",
     "output_type": "stream",
     "text": [
      "Training: 1995-07-01 ~ 1996-07-01\n",
      "Testing: 1996-07-01 ~ 1997-01-01\n"
     ]
    },
    {
     "name": "stderr",
     "output_type": "stream",
     "text": [
      "100%|███████████████████████████████████████████████████████████████████████████| 10878/10878 [01:28<00:00, 122.42it/s]\n"
     ]
    },
    {
     "name": "stdout",
     "output_type": "stream",
     "text": [
      "Training: 1996-01-01 ~ 1997-01-01\n",
      "Testing: 1997-01-01 ~ 1997-07-01\n"
     ]
    },
    {
     "name": "stderr",
     "output_type": "stream",
     "text": [
      "100%|███████████████████████████████████████████████████████████████████████████| 10878/10878 [01:45<00:00, 102.91it/s]\n"
     ]
    },
    {
     "name": "stdout",
     "output_type": "stream",
     "text": [
      "Training: 1996-07-01 ~ 1997-07-01\n",
      "Testing: 1997-07-01 ~ 1998-01-01\n"
     ]
    },
    {
     "name": "stderr",
     "output_type": "stream",
     "text": [
      "100%|███████████████████████████████████████████████████████████████████████████| 11325/11325 [01:36<00:00, 116.80it/s]\n"
     ]
    },
    {
     "name": "stdout",
     "output_type": "stream",
     "text": [
      "Training: 1997-01-01 ~ 1998-01-01\n",
      "Testing: 1998-01-01 ~ 1998-07-01\n"
     ]
    },
    {
     "name": "stderr",
     "output_type": "stream",
     "text": [
      "100%|████████████████████████████████████████████████████████████████████████████| 11325/11325 [01:59<00:00, 94.64it/s]\n"
     ]
    },
    {
     "name": "stdout",
     "output_type": "stream",
     "text": [
      "Training: 1997-07-01 ~ 1998-07-01\n",
      "Testing: 1998-07-01 ~ 1999-01-01\n"
     ]
    },
    {
     "name": "stderr",
     "output_type": "stream",
     "text": [
      "100%|████████████████████████████████████████████████████████████████████████████| 13695/13695 [02:32<00:00, 89.56it/s]\n"
     ]
    },
    {
     "name": "stdout",
     "output_type": "stream",
     "text": [
      "Training: 1998-01-01 ~ 1999-01-01\n",
      "Testing: 1999-01-01 ~ 1999-07-01\n"
     ]
    },
    {
     "name": "stderr",
     "output_type": "stream",
     "text": [
      "100%|████████████████████████████████████████████████████████████████████████████| 13695/13695 [02:19<00:00, 98.27it/s]\n"
     ]
    },
    {
     "name": "stdout",
     "output_type": "stream",
     "text": [
      "Training: 1998-07-01 ~ 1999-07-01\n",
      "Testing: 1999-07-01 ~ 2000-01-01\n"
     ]
    },
    {
     "name": "stderr",
     "output_type": "stream",
     "text": [
      "100%|███████████████████████████████████████████████████████████████████████████| 15753/15753 [02:26<00:00, 107.69it/s]\n"
     ]
    },
    {
     "name": "stdout",
     "output_type": "stream",
     "text": [
      "Training: 1999-01-01 ~ 2000-01-01\n",
      "Testing: 2000-01-01 ~ 2000-07-01\n"
     ]
    },
    {
     "name": "stderr",
     "output_type": "stream",
     "text": [
      "100%|████████████████████████████████████████████████████████████████████████████| 15753/15753 [03:10<00:00, 82.50it/s]\n"
     ]
    },
    {
     "name": "stdout",
     "output_type": "stream",
     "text": [
      "Training: 1999-07-01 ~ 2000-07-01\n",
      "Testing: 2000-07-01 ~ 2001-01-01\n"
     ]
    },
    {
     "name": "stderr",
     "output_type": "stream",
     "text": [
      "100%|███████████████████████████████████████████████████████████████████████████| 17766/17766 [02:49<00:00, 104.83it/s]\n"
     ]
    },
    {
     "name": "stdout",
     "output_type": "stream",
     "text": [
      "Training: 2000-01-01 ~ 2001-01-01\n",
      "Testing: 2001-01-01 ~ 2001-07-01\n"
     ]
    },
    {
     "name": "stderr",
     "output_type": "stream",
     "text": [
      "100%|████████████████████████████████████████████████████████████████████████████| 17766/17766 [03:07<00:00, 94.97it/s]\n"
     ]
    },
    {
     "name": "stdout",
     "output_type": "stream",
     "text": [
      "Training: 2000-07-01 ~ 2001-07-01\n",
      "Testing: 2001-07-01 ~ 2002-01-01\n"
     ]
    },
    {
     "name": "stderr",
     "output_type": "stream",
     "text": [
      "100%|███████████████████████████████████████████████████████████████████████████| 19306/19306 [02:29<00:00, 128.98it/s]\n"
     ]
    },
    {
     "name": "stdout",
     "output_type": "stream",
     "text": [
      "Training: 2001-01-01 ~ 2002-01-01\n",
      "Testing: 2002-01-01 ~ 2002-07-01\n"
     ]
    },
    {
     "name": "stderr",
     "output_type": "stream",
     "text": [
      "100%|███████████████████████████████████████████████████████████████████████████| 19306/19306 [02:47<00:00, 115.20it/s]\n"
     ]
    },
    {
     "name": "stdout",
     "output_type": "stream",
     "text": [
      "Training: 2001-07-01 ~ 2002-07-01\n",
      "Testing: 2002-07-01 ~ 2003-01-01\n"
     ]
    },
    {
     "name": "stderr",
     "output_type": "stream",
     "text": [
      "100%|████████████████████████████████████████████████████████████████████████████| 19900/19900 [03:41<00:00, 89.82it/s]\n"
     ]
    },
    {
     "name": "stdout",
     "output_type": "stream",
     "text": [
      "Training: 2002-01-01 ~ 2003-01-01\n",
      "Testing: 2003-01-01 ~ 2003-07-01\n"
     ]
    },
    {
     "name": "stderr",
     "output_type": "stream",
     "text": [
      "100%|███████████████████████████████████████████████████████████████████████████| 19900/19900 [02:29<00:00, 133.42it/s]\n"
     ]
    },
    {
     "name": "stdout",
     "output_type": "stream",
     "text": [
      "Training: 2002-07-01 ~ 2003-07-01\n",
      "Testing: 2003-07-01 ~ 2004-01-01\n"
     ]
    },
    {
     "name": "stderr",
     "output_type": "stream",
     "text": [
      "100%|███████████████████████████████████████████████████████████████████████████| 21945/21945 [03:07<00:00, 116.99it/s]\n"
     ]
    },
    {
     "name": "stdout",
     "output_type": "stream",
     "text": [
      "Training: 2003-01-01 ~ 2004-01-01\n",
      "Testing: 2004-01-01 ~ 2004-07-01\n"
     ]
    },
    {
     "name": "stderr",
     "output_type": "stream",
     "text": [
      "100%|███████████████████████████████████████████████████████████████████████████| 21945/21945 [03:09<00:00, 115.59it/s]\n"
     ]
    },
    {
     "name": "stdout",
     "output_type": "stream",
     "text": [
      "Training: 2003-07-01 ~ 2004-07-01\n",
      "Testing: 2004-07-01 ~ 2005-01-01\n"
     ]
    },
    {
     "name": "stderr",
     "output_type": "stream",
     "text": [
      "100%|███████████████████████████████████████████████████████████████████████████| 22366/22366 [03:27<00:00, 108.01it/s]\n"
     ]
    },
    {
     "name": "stdout",
     "output_type": "stream",
     "text": [
      "Training: 2004-01-01 ~ 2005-01-01\n",
      "Testing: 2005-01-01 ~ 2005-07-01\n"
     ]
    },
    {
     "name": "stderr",
     "output_type": "stream",
     "text": [
      "100%|███████████████████████████████████████████████████████████████████████████| 22366/22366 [03:42<00:00, 100.51it/s]\n"
     ]
    },
    {
     "name": "stdout",
     "output_type": "stream",
     "text": [
      "Training: 2004-07-01 ~ 2005-07-01\n",
      "Testing: 2005-07-01 ~ 2006-01-01\n"
     ]
    },
    {
     "name": "stderr",
     "output_type": "stream",
     "text": [
      "100%|███████████████████████████████████████████████████████████████████████████| 23653/23653 [03:35<00:00, 109.90it/s]\n"
     ]
    },
    {
     "name": "stdout",
     "output_type": "stream",
     "text": [
      "Training: 2005-01-01 ~ 2006-01-01\n",
      "Testing: 2006-01-01 ~ 2006-07-01\n"
     ]
    },
    {
     "name": "stderr",
     "output_type": "stream",
     "text": [
      "100%|███████████████████████████████████████████████████████████████████████████| 23653/23653 [03:47<00:00, 104.09it/s]\n"
     ]
    },
    {
     "name": "stdout",
     "output_type": "stream",
     "text": [
      "Training: 2005-07-01 ~ 2006-07-01\n",
      "Testing: 2006-07-01 ~ 2007-01-01\n"
     ]
    },
    {
     "name": "stderr",
     "output_type": "stream",
     "text": [
      "100%|███████████████████████████████████████████████████████████████████████████| 25200/25200 [03:48<00:00, 110.25it/s]\n"
     ]
    },
    {
     "name": "stdout",
     "output_type": "stream",
     "text": [
      "Training: 2006-01-01 ~ 2007-01-01\n",
      "Testing: 2007-01-01 ~ 2007-07-01\n"
     ]
    },
    {
     "name": "stderr",
     "output_type": "stream",
     "text": [
      "100%|███████████████████████████████████████████████████████████████████████████| 25200/25200 [03:23<00:00, 123.84it/s]\n"
     ]
    },
    {
     "name": "stdout",
     "output_type": "stream",
     "text": [
      "Training: 2006-07-01 ~ 2007-07-01\n",
      "Testing: 2007-07-01 ~ 2008-01-01\n"
     ]
    },
    {
     "name": "stderr",
     "output_type": "stream",
     "text": [
      "100%|████████████████████████████████████████████████████████████████████████████| 27495/27495 [05:41<00:00, 80.62it/s]\n"
     ]
    },
    {
     "name": "stdout",
     "output_type": "stream",
     "text": [
      "Training: 2007-01-01 ~ 2008-01-01\n",
      "Testing: 2008-01-01 ~ 2008-07-01\n"
     ]
    },
    {
     "name": "stderr",
     "output_type": "stream",
     "text": [
      "100%|████████████████████████████████████████████████████████████████████████████| 27495/27495 [05:10<00:00, 88.49it/s]\n"
     ]
    },
    {
     "name": "stdout",
     "output_type": "stream",
     "text": [
      "Training: 2007-07-01 ~ 2008-07-01\n",
      "Testing: 2008-07-01 ~ 2009-01-01\n"
     ]
    },
    {
     "name": "stderr",
     "output_type": "stream",
     "text": [
      "100%|████████████████████████████████████████████████████████████████████████████| 30876/30876 [06:15<00:00, 82.12it/s]\n"
     ]
    },
    {
     "name": "stdout",
     "output_type": "stream",
     "text": [
      "Training: 2008-01-01 ~ 2009-01-01\n",
      "Testing: 2009-01-01 ~ 2009-07-01\n"
     ]
    },
    {
     "name": "stderr",
     "output_type": "stream",
     "text": [
      "100%|████████████████████████████████████████████████████████████████████████████| 30876/30876 [05:50<00:00, 88.01it/s]\n"
     ]
    },
    {
     "name": "stdout",
     "output_type": "stream",
     "text": [
      "Training: 2008-07-01 ~ 2009-07-01\n",
      "Testing: 2009-07-01 ~ 2010-01-01\n"
     ]
    },
    {
     "name": "stderr",
     "output_type": "stream",
     "text": [
      "100%|███████████████████████████████████████████████████████████████████████████| 34980/34980 [04:19<00:00, 134.57it/s]\n"
     ]
    },
    {
     "name": "stdout",
     "output_type": "stream",
     "text": [
      "Training: 2009-01-01 ~ 2010-01-01\n",
      "Testing: 2010-01-01 ~ 2010-07-01\n"
     ]
    },
    {
     "name": "stderr",
     "output_type": "stream",
     "text": [
      "100%|███████████████████████████████████████████████████████████████████████████| 34980/34980 [04:38<00:00, 125.65it/s]\n"
     ]
    },
    {
     "name": "stdout",
     "output_type": "stream",
     "text": [
      "Training: 2009-07-01 ~ 2010-07-01\n",
      "Testing: 2010-07-01 ~ 2011-01-01\n"
     ]
    },
    {
     "name": "stderr",
     "output_type": "stream",
     "text": [
      "100%|███████████████████████████████████████████████████████████████████████████| 38503/38503 [05:57<00:00, 107.59it/s]\n"
     ]
    },
    {
     "name": "stdout",
     "output_type": "stream",
     "text": [
      "Training: 2010-01-01 ~ 2011-01-01\n",
      "Testing: 2011-01-01 ~ 2011-07-01\n"
     ]
    },
    {
     "name": "stderr",
     "output_type": "stream",
     "text": [
      "100%|███████████████████████████████████████████████████████████████████████████| 38503/38503 [05:51<00:00, 109.49it/s]\n"
     ]
    },
    {
     "name": "stdout",
     "output_type": "stream",
     "text": [
      "Training: 2010-07-01 ~ 2011-07-01\n",
      "Testing: 2011-07-01 ~ 2012-01-01\n"
     ]
    },
    {
     "name": "stderr",
     "output_type": "stream",
     "text": [
      "100%|████████████████████████████████████████████████████████████████████████████| 40755/40755 [08:16<00:00, 82.12it/s]\n"
     ]
    },
    {
     "name": "stdout",
     "output_type": "stream",
     "text": [
      "Training: 2011-01-01 ~ 2012-01-01\n",
      "Testing: 2012-01-01 ~ 2012-07-01\n"
     ]
    },
    {
     "name": "stderr",
     "output_type": "stream",
     "text": [
      "100%|███████████████████████████████████████████████████████████████████████████| 40755/40755 [06:12<00:00, 109.41it/s]\n"
     ]
    },
    {
     "name": "stdout",
     "output_type": "stream",
     "text": [
      "Training: 2011-07-01 ~ 2012-07-01\n",
      "Testing: 2012-07-01 ~ 2013-01-01\n"
     ]
    },
    {
     "name": "stderr",
     "output_type": "stream",
     "text": [
      "100%|███████████████████████████████████████████████████████████████████████████| 43660/43660 [06:44<00:00, 107.89it/s]\n"
     ]
    },
    {
     "name": "stdout",
     "output_type": "stream",
     "text": [
      "Training: 2012-01-01 ~ 2013-01-01\n",
      "Testing: 2013-01-01 ~ 2013-07-01\n"
     ]
    },
    {
     "name": "stderr",
     "output_type": "stream",
     "text": [
      "100%|████████████████████████████████████████████████████████████████████████████| 43660/43660 [07:35<00:00, 95.90it/s]\n"
     ]
    },
    {
     "name": "stdout",
     "output_type": "stream",
     "text": [
      "Training: 2012-07-01 ~ 2013-07-01\n",
      "Testing: 2013-07-01 ~ 2014-01-01\n"
     ]
    },
    {
     "name": "stderr",
     "output_type": "stream",
     "text": [
      "100%|████████████████████████████████████████████████████████████████████████████| 46665/46665 [08:55<00:00, 87.20it/s]\n"
     ]
    },
    {
     "name": "stdout",
     "output_type": "stream",
     "text": [
      "Training: 2013-01-01 ~ 2014-01-01\n",
      "Testing: 2014-01-01 ~ 2014-07-01\n"
     ]
    },
    {
     "name": "stderr",
     "output_type": "stream",
     "text": [
      "100%|████████████████████████████████████████████████████████████████████████████| 46665/46665 [07:48<00:00, 99.53it/s]\n"
     ]
    },
    {
     "name": "stdout",
     "output_type": "stream",
     "text": [
      "Training: 2013-07-01 ~ 2014-07-01\n",
      "Testing: 2014-07-01 ~ 2015-01-01\n"
     ]
    },
    {
     "name": "stderr",
     "output_type": "stream",
     "text": [
      "100%|███████████████████████████████████████████████████████████████████████████| 48516/48516 [07:45<00:00, 104.15it/s]\n"
     ]
    },
    {
     "name": "stdout",
     "output_type": "stream",
     "text": [
      "Training: 2014-01-01 ~ 2015-01-01\n",
      "Testing: 2015-01-01 ~ 2015-07-01\n"
     ]
    },
    {
     "name": "stderr",
     "output_type": "stream",
     "text": [
      "100%|████████████████████████████████████████████████████████████████████████████| 48516/48516 [09:47<00:00, 82.58it/s]\n"
     ]
    },
    {
     "name": "stdout",
     "output_type": "stream",
     "text": [
      "Training: 2014-07-01 ~ 2015-07-01\n",
      "Testing: 2015-07-01 ~ 2016-01-01\n"
     ]
    },
    {
     "name": "stderr",
     "output_type": "stream",
     "text": [
      "100%|████████████████████████████████████████████████████████████████████████████| 50721/50721 [09:44<00:00, 86.82it/s]\n"
     ]
    },
    {
     "name": "stdout",
     "output_type": "stream",
     "text": [
      "Training: 2015-01-01 ~ 2016-01-01\n",
      "Testing: 2016-01-01 ~ 2016-07-01\n"
     ]
    },
    {
     "name": "stderr",
     "output_type": "stream",
     "text": [
      "100%|████████████████████████████████████████████████████████████████████████████| 50721/50721 [09:13<00:00, 91.70it/s]\n"
     ]
    },
    {
     "name": "stdout",
     "output_type": "stream",
     "text": [
      "Training: 2015-07-01 ~ 2016-07-01\n",
      "Testing: 2016-07-01 ~ 2017-01-01\n"
     ]
    },
    {
     "name": "stderr",
     "output_type": "stream",
     "text": [
      "100%|███████████████████████████████████████████████████████████████████████████| 55945/55945 [07:35<00:00, 122.87it/s]\n"
     ]
    },
    {
     "name": "stdout",
     "output_type": "stream",
     "text": [
      "Training: 2016-01-01 ~ 2017-01-01\n",
      "Testing: 2017-01-01 ~ 2017-07-01\n"
     ]
    },
    {
     "name": "stderr",
     "output_type": "stream",
     "text": [
      "100%|████████████████████████████████████████████████████████████████████████████| 55945/55945 [10:10<00:00, 91.59it/s]\n"
     ]
    },
    {
     "name": "stdout",
     "output_type": "stream",
     "text": [
      "Training: 2016-07-01 ~ 2017-07-01\n",
      "Testing: 2017-07-01 ~ 2018-01-01\n"
     ]
    },
    {
     "name": "stderr",
     "output_type": "stream",
     "text": [
      "100%|████████████████████████████████████████████████████████████████████████████| 63190/63190 [13:53<00:00, 75.83it/s]\n"
     ]
    },
    {
     "name": "stdout",
     "output_type": "stream",
     "text": [
      "Training: 2017-01-01 ~ 2018-01-01\n",
      "Testing: 2018-01-01 ~ 2018-07-01\n"
     ]
    },
    {
     "name": "stderr",
     "output_type": "stream",
     "text": [
      "100%|████████████████████████████████████████████████████████████████████████████| 63190/63190 [17:21<00:00, 60.68it/s]\n"
     ]
    },
    {
     "name": "stdout",
     "output_type": "stream",
     "text": [
      "Training: 2017-07-01 ~ 2018-07-01\n",
      "Testing: 2018-07-01 ~ 2019-01-01\n"
     ]
    },
    {
     "name": "stderr",
     "output_type": "stream",
     "text": [
      "100%|████████████████████████████████████████████████████████████████████████████| 70876/70876 [15:56<00:00, 74.07it/s]\n"
     ]
    },
    {
     "name": "stdout",
     "output_type": "stream",
     "text": [
      "Training: 2018-01-01 ~ 2019-01-01\n",
      "Testing: 2019-01-01 ~ 2019-07-01\n"
     ]
    },
    {
     "name": "stderr",
     "output_type": "stream",
     "text": [
      "100%|████████████████████████████████████████████████████████████████████████████| 70876/70876 [15:02<00:00, 78.50it/s]\n"
     ]
    },
    {
     "name": "stdout",
     "output_type": "stream",
     "text": [
      "Training: 2018-07-01 ~ 2019-07-01\n",
      "Testing: 2019-07-01 ~ 2020-01-01\n"
     ]
    },
    {
     "name": "stderr",
     "output_type": "stream",
     "text": [
      "100%|███████████████████████████████████████████████████████████████████████████| 75855/75855 [12:10<00:00, 103.79it/s]\n"
     ]
    },
    {
     "name": "stdout",
     "output_type": "stream",
     "text": [
      "Training: 2019-01-01 ~ 2020-01-01\n",
      "Testing: 2020-01-01 ~ 2020-07-01\n"
     ]
    },
    {
     "name": "stderr",
     "output_type": "stream",
     "text": [
      "100%|████████████████████████████████████████████████████████████████████████████| 75855/75855 [22:00<00:00, 57.44it/s]\n"
     ]
    },
    {
     "name": "stdout",
     "output_type": "stream",
     "text": [
      "Training: 2019-07-01 ~ 2020-07-01\n",
      "Testing: 2020-07-01 ~ 2021-01-01\n"
     ]
    },
    {
     "name": "stderr",
     "output_type": "stream",
     "text": [
      "100%|████████████████████████████████████████████████████████████████████████████| 83845/83845 [14:26<00:00, 96.73it/s]\n"
     ]
    },
    {
     "name": "stdout",
     "output_type": "stream",
     "text": [
      "Training: 2020-01-01 ~ 2021-01-01\n",
      "Testing: 2021-01-01 ~ 2021-07-01\n"
     ]
    },
    {
     "name": "stderr",
     "output_type": "stream",
     "text": [
      "100%|███████████████████████████████████████████████████████████████████████████| 83845/83845 [12:37<00:00, 110.70it/s]\n"
     ]
    },
    {
     "name": "stdout",
     "output_type": "stream",
     "text": [
      "Training: 2020-07-01 ~ 2021-07-01\n",
      "Testing: 2021-07-01 ~ 2022-01-01\n"
     ]
    },
    {
     "name": "stderr",
     "output_type": "stream",
     "text": [
      "100%|███████████████████████████████████████████████████████████████████████████| 89676/89676 [11:12<00:00, 133.40it/s]\n"
     ]
    },
    {
     "name": "stdout",
     "output_type": "stream",
     "text": [
      "Training: 2021-01-01 ~ 2022-01-01\n",
      "Testing: 2022-01-01 ~ 2022-07-01\n"
     ]
    },
    {
     "name": "stderr",
     "output_type": "stream",
     "text": [
      "100%|████████████████████████████████████████████████████████████████████████████| 89676/89676 [36:38<00:00, 40.79it/s]\n"
     ]
    },
    {
     "name": "stdout",
     "output_type": "stream",
     "text": [
      "Training: 2021-07-01 ~ 2022-07-01\n",
      "Testing: 2022-07-01 ~ 2023-01-01\n"
     ]
    },
    {
     "name": "stderr",
     "output_type": "stream",
     "text": [
      "100%|███████████████████████████████████████████████████████████████████████████| 89676/89676 [10:59<00:00, 136.05it/s]\n"
     ]
    },
    {
     "name": "stdout",
     "output_type": "stream",
     "text": [
      "Training: 2022-01-01 ~ 2023-01-01\n",
      "Testing: 2023-01-01 ~ 2023-07-01\n"
     ]
    },
    {
     "name": "stderr",
     "output_type": "stream",
     "text": [
      "100%|████████████████████████████████████████████████████████████████████████████| 89676/89676 [18:35<00:00, 80.36it/s]\n"
     ]
    },
    {
     "name": "stdout",
     "output_type": "stream",
     "text": [
      "Training: 2022-07-01 ~ 2023-07-01\n",
      "Testing: 2023-07-01 ~ 2024-01-01\n"
     ]
    },
    {
     "name": "stderr",
     "output_type": "stream",
     "text": [
      "100%|████████████████████████████████████████████████████████████████████████████| 89676/89676 [32:25<00:00, 46.10it/s]\n"
     ]
    },
    {
     "name": "stdout",
     "output_type": "stream",
     "text": [
      "Training: 2023-01-01 ~ 2024-01-01\n",
      "Testing: 2024-01-01 ~ 2024-07-01\n"
     ]
    }
   ],
   "source": [
    "# Setting parameters\n",
    "construction_type = \"Kagi\"\n",
    "signals_type = \"contrarian\"\n",
    "selection_method = \"highest\"\n",
    "transaction_costs = 0.0010\n",
    "num = 20\n",
    "\n",
    "# Creating series for storing backtesting results\n",
    "total_returns = pd.Series(1, index = [test_date[0][0]], dtype = float)\n",
    "total_returns_with_costs = pd.Series(1, index = [test_date[0][0]], dtype = float)\n",
    "total_returns.index = pd.to_datetime(total_returns.index)\n",
    "total_returns_with_costs.index = pd.to_datetime(total_returns_with_costs.index)\n",
    "\n",
    "# Starting backtesting\n",
    "for train, test in zip(train_date, test_date):\n",
    "    train_year = str(train[0].year) # Getting the year of the start of the training interval\n",
    "    tickers = list(components[train_year].dropna()) # Getting S&P 500 components for the year\n",
    "    valid_tickers = list(set(tickers_with_data) & set(tickers)) # Determining which Tickers have historical data\n",
    "    \n",
    "    train_data = data_df[valid_tickers][train[0] : train[1]] # Getting required data for pairs selection\n",
    "    train_data = train_data.dropna(how = \"all\", axis = 0).dropna(how = \"all\", axis = 1)\n",
    "    \n",
    "    # Getting pairs for trading\n",
    "    minimum_length = len(train_data)*0.8\n",
    "    hs = HSelection(train_data, construction_type)\n",
    "    hs.select(minimum_length = minimum_length)\n",
    "    pairs = hs.get_pairs(num, selection_method, False)\n",
    "    \n",
    "    # Creating lists for storing cumulative returns in the test interval for each pair\n",
    "    returns_series_list = []\n",
    "    returns_series_with_costs_list = []\n",
    "    \n",
    "    print(\"Training:\", train[0], \"~\", train[1])\n",
    "    print(\"Testing:\", test[0], \"~\", test[1])\n",
    "    \n",
    "    # Calculating the cumulative returns in the test interval for each pair\n",
    "    for i in pairs:\n",
    "        threshold = i[1] # Getting the threshold of the H-construction\n",
    "        pair_tickers = list(i[2])\n",
    "        pair_data = data_df[pair_tickers][test[0] : test[1]] # Getting required data for backtesting\n",
    "        pair_data = pair_data.dropna(axis = 0).dropna(axis = 1)\n",
    "        \n",
    "        if len(pair_data.columns) < 2:\n",
    "            print(\"data error\")\n",
    "            continue\n",
    "        \n",
    "        series = np.log(pair_data[pair_tickers[0]]) - np.log(pair_data[pair_tickers[1]]) # Constructing spread series\n",
    "        \n",
    "        # 如果 series 是空的，跳过这个 pair\n",
    "        if series.empty:\n",
    "            print(f\"Skipping pair {pair_tickers[0]} and {pair_tickers[1]} due to empty series.\")\n",
    "            continue\n",
    "            \n",
    "        hc = HConstruction(series, threshold, construction_type) # Creating a class object\n",
    "        signals = hc.get_signals(signals_type) # Getting the signals in the test interval\n",
    "        trade_actions = signals[signals != 0] # Getting the actual trade actions (+1 for Open a long trade, -1 for Open a short trade)\n",
    "        trade_dates_interval = [(trade_actions.index[i].date(), trade_actions.index[i + 1].date()) for i in range(len(trade_actions) - 1)] # Getting the intervals between two adjacent trade actions\n",
    "        if len(trade_actions) > 0 and trade_actions.index[-1].date() < test[1]:\n",
    "            trade_dates_interval.append([trade_actions.index[-1].date(), test[1]])\n",
    "            \n",
    "        # Creating series for storing cumulative returns\n",
    "        returns_series = pd.Series(1, index = [test[0]], dtype = float)\n",
    "        returns_series.index = pd.to_datetime(returns_series.index)\n",
    "        returns_series_with_costs = pd.Series(1, index = [test[0]], dtype = float)\n",
    "        returns_series_with_costs.index = pd.to_datetime(returns_series_with_costs.index)\n",
    "        \n",
    "        # Calculating the cumulative returns for each interval between two adjacent trade actions, then connecting them together\n",
    "        for i, j in zip(trade_dates_interval, trade_actions.values):\n",
    "            interval_data = pair_data.loc[i[0]:i[1]].dropna(how = \"all\", axis = 0).dropna(how = \"all\", axis = 1)\n",
    "            if len(interval_data) <= 1:\n",
    "                continue\n",
    "                \n",
    "            daily_returns = interval_data.copy()\n",
    "            daily_returns[pair_tickers[0]] = cal_daily_returns(daily_returns[pair_tickers[0]], j) # if j == 1 (-1), long (short) the first stock and short (long) the second stock\n",
    "            daily_returns[pair_tickers[1]] = cal_daily_returns(daily_returns[pair_tickers[1]], -j)\n",
    "            daily_returns = daily_returns.dropna(how = \"all\", axis = 0).dropna(how = \"all\", axis = 1)\n",
    "            \n",
    "            daily_returns_with_costs = daily_returns.copy()\n",
    "            daily_returns_with_costs.iloc[0] = daily_returns_with_costs.iloc[0] - transaction_costs\n",
    "            daily_returns_with_costs.iloc[-1] = daily_returns_with_costs.iloc[-1] - transaction_costs\n",
    "            \n",
    "            cum_returns = (daily_returns + 1).cumprod().mean(axis = 1) # Assuming we have equal weights at the first day of the interval between two adjacent trade actions\n",
    "            cum_returns_with_costs = (daily_returns_with_costs + 1).cumprod().mean(axis = 1)\n",
    "            returns_series = pd.concat([returns_series, cum_returns*returns_series[-1]])\n",
    "            returns_series_with_costs = pd.concat([returns_series_with_costs, cum_returns_with_costs * returns_series_with_costs[-1]])\n",
    "        \n",
    "        returns_series_list.append(returns_series)\n",
    "        returns_series_with_costs_list.append(returns_series_with_costs)\n",
    "        \n",
    "    pairs_returns = pd.DataFrame(returns_series_list).T.ffill().mean(axis = 1) # Assuming we have equal weights at the first day of the test interval\n",
    "    total_returns = pd.concat([total_returns, pairs_returns*total_returns[-1]])\n",
    "    pairs_returns_with_costs = pd.DataFrame(returns_series_with_costs_list).T.ffill().mean(axis = 1)\n",
    "    total_returns_with_costs = pd.concat([total_returns_with_costs, pairs_returns_with_costs * total_returns_with_costs[-1]])"
   ]
  },
  {
   "cell_type": "code",
   "execution_count": 7,
   "id": "transsexual-think",
   "metadata": {},
   "outputs": [
    {
     "name": "stdout",
     "output_type": "stream",
     "text": [
      "[*********************100%***********************]  1 of 1 completed\n"
     ]
    }
   ],
   "source": [
    "# Getting benckmark\n",
    "start = total_returns.index[0].date().isoformat()\n",
    "end = total_returns.index[-1].date().isoformat()\n",
    "SP500 = yf.download(\"^GSPC\", start=start, end=end)[\"Adj Close\"]"
   ]
  },
  {
   "cell_type": "code",
   "execution_count": 8,
   "id": "reverse-malawi",
   "metadata": {},
   "outputs": [
    {
     "data": {
      "image/png": "[encoded data removed]",
      "text/plain": [
       "<Figure size 1600x1000 with 1 Axes>"
      ]
     },
     "metadata": {},
     "output_type": "display_data"
    }
   ],
   "source": [
    "# Plotting results\n",
    "total_returns.plot(figsize=(16, 10), label = \"Stratrgy\")\n",
    "total_returns_with_costs.plot(label = \"Stratrgy with transaction costs\")\n",
    "(SP500.pct_change() + 1).cumprod().plot(label = \"Benckmark\")\n",
    "plt.legend()\n",
    "plt.show()"
   ]
  },
  {
   "cell_type": "code",
   "execution_count": 9,
   "id": "17667d97-43af-4f27-b754-b800e1309e29",
   "metadata": {},
   "outputs": [
    {
     "data": {
      "text/plain": [
       "1996-01-01    1.000000\n",
       "1996-01-01    1.000000\n",
       "1996-01-04    1.001686\n",
       "1996-01-05    1.002580\n",
       "1996-01-08    1.001355\n",
       "                ...   \n",
       "2024-06-24    5.944552\n",
       "2024-06-25    5.931796\n",
       "2024-06-26    5.947036\n",
       "2024-06-27    5.941239\n",
       "2024-06-28    5.937467\n",
       "Length: 7106, dtype: float64"
      ]
     },
     "execution_count": 9,
     "metadata": {},
     "output_type": "execute_result"
    }
   ],
   "source": [
    "total_returns"
   ]
  },
  {
   "cell_type": "code",
   "execution_count": 10,
   "id": "96c106bb-f058-4d13-9683-775007e7768e",
   "metadata": {},
   "outputs": [
    {
     "name": "stdout",
     "output_type": "stream",
     "text": [
      "数据已保存到 'total_returns.xlsx'\n"
     ]
    }
   ],
   "source": [
    "# 假设 total_returns 是您的 pandas Series 对象\n",
    "output_file = \"total_returns.xlsx\"\n",
    "\n",
    "# 将 total_returns 保存到 Excel 文件\n",
    "total_returns.to_excel(output_file, sheet_name=\"Total Returns\")\n",
    "\n",
    "print(f\"数据已保存到 '{output_file}'\")"
   ]
  },
  {
   "cell_type": "code",
   "execution_count": 11,
   "id": "03098922-ff6d-4957-85f8-a79a6a1c1310",
   "metadata": {},
   "outputs": [
    {
     "data": {
      "text/plain": [
       "1996-01-01    1.000000\n",
       "1996-01-01    1.000000\n",
       "1996-01-04    1.001436\n",
       "1996-01-05    1.002079\n",
       "1996-01-08    1.000604\n",
       "                ...   \n",
       "2024-06-24    1.460865\n",
       "2024-06-25    1.457408\n",
       "2024-06-26    1.461014\n",
       "2024-06-27    1.459192\n",
       "2024-06-28    1.456579\n",
       "Length: 7106, dtype: float64"
      ]
     },
     "execution_count": 11,
     "metadata": {},
     "output_type": "execute_result"
    }
   ],
   "source": [
    "total_returns_with_costs"
   ]
  },
  {
   "cell_type": "code",
   "execution_count": 12,
   "id": "eb41ac4c-33cb-4b70-8c80-6fe49b4eb8db",
   "metadata": {},
   "outputs": [
    {
     "name": "stdout",
     "output_type": "stream",
     "text": [
      "数据已保存到 'total_returns_with_costs.xlsx'\n"
     ]
    }
   ],
   "source": [
    "# 假设 total_returns 是您的 pandas Series 对象\n",
    "output_file = \"total_returns_with_costs.xlsx\"\n",
    "\n",
    "# 将 total_returns 保存到 Excel 文件\n",
    "total_returns_with_costs.to_excel(output_file, sheet_name=\"total_returns_with_costs\")\n",
    "\n",
    "print(f\"数据已保存到 '{output_file}'\")"
   ]
  }
 ],
 "metadata": {
  "kernelspec": {
   "display_name": "Python 3 (ipykernel)",
   "language": "python",
   "name": "python3"
  },
  "language_info": {
   "codemirror_mode": {
    "name": "ipython",
    "version": 3
   },
   "file_extension": ".py",
   "mimetype": "text/x-python",
   "name": "python",
   "nbconvert_exporter": "python",
   "pygments_lexer": "ipython3",
   "version": "3.9.18"
  }
 },
 "nbformat": 4,
 "nbformat_minor": 5
}
